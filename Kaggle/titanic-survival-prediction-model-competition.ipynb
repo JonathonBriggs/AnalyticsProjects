{
 "cells": [
  {
   "cell_type": "code",
   "execution_count": 1,
   "id": "365a3627",
   "metadata": {
    "_cell_guid": "b1076dfc-b9ad-4769-8c92-a6c4dae69d19",
    "_uuid": "8f2839f25d086af736a60e9eeb907d3b93b6e0e5",
    "execution": {
     "iopub.execute_input": "2025-01-28T23:15:34.842186Z",
     "iopub.status.busy": "2025-01-28T23:15:34.841778Z",
     "iopub.status.idle": "2025-01-28T23:15:36.137231Z",
     "shell.execute_reply": "2025-01-28T23:15:36.135924Z"
    },
    "papermill": {
     "duration": 1.30311,
     "end_time": "2025-01-28T23:15:36.139494",
     "exception": false,
     "start_time": "2025-01-28T23:15:34.836384",
     "status": "completed"
    },
    "tags": []
   },
   "outputs": [
    {
     "name": "stdout",
     "output_type": "stream",
     "text": [
      "/kaggle/input/titanic/train.csv\n",
      "/kaggle/input/titanic/test.csv\n",
      "/kaggle/input/titanic/gender_submission.csv\n"
     ]
    }
   ],
   "source": [
    "# This Python 3 environment comes with many helpful analytics libraries installed\n",
    "# It is defined by the kaggle/python Docker image: https://github.com/kaggle/docker-python\n",
    "# For example, here's several helpful packages to load\n",
    "\n",
    "import numpy as np # linear algebra\n",
    "import pandas as pd # data processing, CSV file I/O (e.g. pd.read_csv)\n",
    "\n",
    "# Input data files are available in the read-only \"../input/\" directory\n",
    "# For example, running this (by clicking run or pressing Shift+Enter) will list all files under the input directory\n",
    "\n",
    "import os\n",
    "for dirname, _, filenames in os.walk('/kaggle/input'):\n",
    "    for filename in filenames:\n",
    "        print(os.path.join(dirname, filename))\n",
    "\n",
    "# You can write up to 20GB to the current directory (/kaggle/working/) that gets preserved as output when you create a version using \"Save & Run All\" \n",
    "# You can also write temporary files to /kaggle/temp/, but they won't be saved outside of the current session"
   ]
  },
  {
   "cell_type": "markdown",
   "id": "f38fc3e1",
   "metadata": {
    "papermill": {
     "duration": 0.003189,
     "end_time": "2025-01-28T23:15:36.147245",
     "exception": false,
     "start_time": "2025-01-28T23:15:36.144056",
     "status": "completed"
    },
    "tags": []
   },
   "source": [
    "# 0. Precurser Info\n",
    "## 0.a Variable Descriptions\n",
    "* survival\tSurvival\t0 = No, 1 = Yes\n",
    "* pclass\tTicket class\t1 = 1st, 2 = 2nd, 3 = 3rd\n",
    "* sex\tmale, female\n",
    "* Age\tAge in years\n",
    "* sibsp\t# of siblings / spouses aboard the Titanic\n",
    "* parch\t# of parents / children aboard the Titanic\n",
    "* ticket\tTicket number\n",
    "* fare\tPassenger fare\n",
    "* cabin\tCabin number\n",
    "* embarked\tPort of Embarkation\tC = Cherbourg, Q = Queenstown, S = Southampton"
   ]
  },
  {
   "cell_type": "markdown",
   "id": "f9d1731d",
   "metadata": {
    "papermill": {
     "duration": 0.002949,
     "end_time": "2025-01-28T23:15:36.153482",
     "exception": false,
     "start_time": "2025-01-28T23:15:36.150533",
     "status": "completed"
    },
    "tags": []
   },
   "source": [
    "## 0.b Additional Import Statements"
   ]
  },
  {
   "cell_type": "code",
   "execution_count": 2,
   "id": "7e709f50",
   "metadata": {
    "execution": {
     "iopub.execute_input": "2025-01-28T23:15:36.161373Z",
     "iopub.status.busy": "2025-01-28T23:15:36.160857Z",
     "iopub.status.idle": "2025-01-28T23:15:38.467089Z",
     "shell.execute_reply": "2025-01-28T23:15:38.465744Z"
    },
    "papermill": {
     "duration": 2.312628,
     "end_time": "2025-01-28T23:15:38.469321",
     "exception": false,
     "start_time": "2025-01-28T23:15:36.156693",
     "status": "completed"
    },
    "tags": []
   },
   "outputs": [],
   "source": [
    "from sklearn.ensemble import RandomForestClassifier #in order to use a random forest classification tree"
   ]
  },
  {
   "cell_type": "markdown",
   "id": "bbc1e7a0",
   "metadata": {
    "papermill": {
     "duration": 0.003038,
     "end_time": "2025-01-28T23:15:38.475885",
     "exception": false,
     "start_time": "2025-01-28T23:15:38.472847",
     "status": "completed"
    },
    "tags": []
   },
   "source": [
    "# 1. Import Training and Testing Data"
   ]
  },
  {
   "cell_type": "code",
   "execution_count": 3,
   "id": "e9ef793a",
   "metadata": {
    "execution": {
     "iopub.execute_input": "2025-01-28T23:15:38.484202Z",
     "iopub.status.busy": "2025-01-28T23:15:38.483618Z",
     "iopub.status.idle": "2025-01-28T23:15:38.542803Z",
     "shell.execute_reply": "2025-01-28T23:15:38.541485Z"
    },
    "papermill": {
     "duration": 0.06542,
     "end_time": "2025-01-28T23:15:38.544741",
     "exception": false,
     "start_time": "2025-01-28T23:15:38.479321",
     "status": "completed"
    },
    "tags": []
   },
   "outputs": [
    {
     "data": {
      "text/html": [
       "<div>\n",
       "<style scoped>\n",
       "    .dataframe tbody tr th:only-of-type {\n",
       "        vertical-align: middle;\n",
       "    }\n",
       "\n",
       "    .dataframe tbody tr th {\n",
       "        vertical-align: top;\n",
       "    }\n",
       "\n",
       "    .dataframe thead th {\n",
       "        text-align: right;\n",
       "    }\n",
       "</style>\n",
       "<table border=\"1\" class=\"dataframe\">\n",
       "  <thead>\n",
       "    <tr style=\"text-align: right;\">\n",
       "      <th></th>\n",
       "      <th>PassengerId</th>\n",
       "      <th>Survived</th>\n",
       "      <th>Pclass</th>\n",
       "      <th>Name</th>\n",
       "      <th>Sex</th>\n",
       "      <th>Age</th>\n",
       "      <th>SibSp</th>\n",
       "      <th>Parch</th>\n",
       "      <th>Ticket</th>\n",
       "      <th>Fare</th>\n",
       "      <th>Cabin</th>\n",
       "      <th>Embarked</th>\n",
       "    </tr>\n",
       "  </thead>\n",
       "  <tbody>\n",
       "    <tr>\n",
       "      <th>0</th>\n",
       "      <td>1</td>\n",
       "      <td>0</td>\n",
       "      <td>3</td>\n",
       "      <td>Braund, Mr. Owen Harris</td>\n",
       "      <td>male</td>\n",
       "      <td>22.0</td>\n",
       "      <td>1</td>\n",
       "      <td>0</td>\n",
       "      <td>A/5 21171</td>\n",
       "      <td>7.2500</td>\n",
       "      <td>NaN</td>\n",
       "      <td>S</td>\n",
       "    </tr>\n",
       "    <tr>\n",
       "      <th>1</th>\n",
       "      <td>2</td>\n",
       "      <td>1</td>\n",
       "      <td>1</td>\n",
       "      <td>Cumings, Mrs. John Bradley (Florence Briggs Th...</td>\n",
       "      <td>female</td>\n",
       "      <td>38.0</td>\n",
       "      <td>1</td>\n",
       "      <td>0</td>\n",
       "      <td>PC 17599</td>\n",
       "      <td>71.2833</td>\n",
       "      <td>C85</td>\n",
       "      <td>C</td>\n",
       "    </tr>\n",
       "    <tr>\n",
       "      <th>2</th>\n",
       "      <td>3</td>\n",
       "      <td>1</td>\n",
       "      <td>3</td>\n",
       "      <td>Heikkinen, Miss. Laina</td>\n",
       "      <td>female</td>\n",
       "      <td>26.0</td>\n",
       "      <td>0</td>\n",
       "      <td>0</td>\n",
       "      <td>STON/O2. 3101282</td>\n",
       "      <td>7.9250</td>\n",
       "      <td>NaN</td>\n",
       "      <td>S</td>\n",
       "    </tr>\n",
       "    <tr>\n",
       "      <th>3</th>\n",
       "      <td>4</td>\n",
       "      <td>1</td>\n",
       "      <td>1</td>\n",
       "      <td>Futrelle, Mrs. Jacques Heath (Lily May Peel)</td>\n",
       "      <td>female</td>\n",
       "      <td>35.0</td>\n",
       "      <td>1</td>\n",
       "      <td>0</td>\n",
       "      <td>113803</td>\n",
       "      <td>53.1000</td>\n",
       "      <td>C123</td>\n",
       "      <td>S</td>\n",
       "    </tr>\n",
       "    <tr>\n",
       "      <th>4</th>\n",
       "      <td>5</td>\n",
       "      <td>0</td>\n",
       "      <td>3</td>\n",
       "      <td>Allen, Mr. William Henry</td>\n",
       "      <td>male</td>\n",
       "      <td>35.0</td>\n",
       "      <td>0</td>\n",
       "      <td>0</td>\n",
       "      <td>373450</td>\n",
       "      <td>8.0500</td>\n",
       "      <td>NaN</td>\n",
       "      <td>S</td>\n",
       "    </tr>\n",
       "  </tbody>\n",
       "</table>\n",
       "</div>"
      ],
      "text/plain": [
       "   PassengerId  Survived  Pclass  \\\n",
       "0            1         0       3   \n",
       "1            2         1       1   \n",
       "2            3         1       3   \n",
       "3            4         1       1   \n",
       "4            5         0       3   \n",
       "\n",
       "                                                Name     Sex   Age  SibSp  \\\n",
       "0                            Braund, Mr. Owen Harris    male  22.0      1   \n",
       "1  Cumings, Mrs. John Bradley (Florence Briggs Th...  female  38.0      1   \n",
       "2                             Heikkinen, Miss. Laina  female  26.0      0   \n",
       "3       Futrelle, Mrs. Jacques Heath (Lily May Peel)  female  35.0      1   \n",
       "4                           Allen, Mr. William Henry    male  35.0      0   \n",
       "\n",
       "   Parch            Ticket     Fare Cabin Embarked  \n",
       "0      0         A/5 21171   7.2500   NaN        S  \n",
       "1      0          PC 17599  71.2833   C85        C  \n",
       "2      0  STON/O2. 3101282   7.9250   NaN        S  \n",
       "3      0            113803  53.1000  C123        S  \n",
       "4      0            373450   8.0500   NaN        S  "
      ]
     },
     "execution_count": 3,
     "metadata": {},
     "output_type": "execute_result"
    }
   ],
   "source": [
    "train_data = pd.read_csv('/kaggle/input/titanic/train.csv')\n",
    "test_data = pd.read_csv('/kaggle/input/titanic/test.csv')\n",
    "train_data.head() #just figured out that excluding the print statement shows a more legible than using the print() output"
   ]
  },
  {
   "cell_type": "markdown",
   "id": "793fe8cf",
   "metadata": {
    "papermill": {
     "duration": 0.0033,
     "end_time": "2025-01-28T23:15:38.551875",
     "exception": false,
     "start_time": "2025-01-28T23:15:38.548575",
     "status": "completed"
    },
    "tags": []
   },
   "source": [
    "# 2. Example Case: Outcome Model based on Gender"
   ]
  },
  {
   "cell_type": "code",
   "execution_count": 4,
   "id": "d22b1e1c",
   "metadata": {
    "execution": {
     "iopub.execute_input": "2025-01-28T23:15:38.560391Z",
     "iopub.status.busy": "2025-01-28T23:15:38.559982Z",
     "iopub.status.idle": "2025-01-28T23:15:38.577061Z",
     "shell.execute_reply": "2025-01-28T23:15:38.575837Z"
    },
    "papermill": {
     "duration": 0.023632,
     "end_time": "2025-01-28T23:15:38.579051",
     "exception": false,
     "start_time": "2025-01-28T23:15:38.555419",
     "status": "completed"
    },
    "tags": []
   },
   "outputs": [
    {
     "name": "stdout",
     "output_type": "stream",
     "text": [
      "74.204% of women survived the titanic incident\n",
      "18.891% of men survived the titanic incident\n"
     ]
    }
   ],
   "source": [
    "women = train_data.loc[train_data.Sex == 'female']['Survived']\n",
    "rate_women = np.round(100*sum(women)/len(women),3)\n",
    "\n",
    "print(f'{rate_women}% of women survived the titanic incident')\n",
    "\n",
    "men = train_data.loc[train_data.Sex == 'male']['Survived']\n",
    "rate_men = np.round(100*sum(men)/len(men),3)\n",
    "\n",
    "print(f'{rate_men}% of men survived the titanic incident')"
   ]
  },
  {
   "cell_type": "markdown",
   "id": "3bacb9c0",
   "metadata": {
    "papermill": {
     "duration": 0.003348,
     "end_time": "2025-01-28T23:15:38.586333",
     "exception": false,
     "start_time": "2025-01-28T23:15:38.582985",
     "status": "completed"
    },
    "tags": []
   },
   "source": [
    "# 3. Example Case: Outcome Model based on Pclass, Sex, SibSp, Parch"
   ]
  },
  {
   "cell_type": "code",
   "execution_count": 5,
   "id": "25f2100d",
   "metadata": {
    "execution": {
     "iopub.execute_input": "2025-01-28T23:15:38.595311Z",
     "iopub.status.busy": "2025-01-28T23:15:38.594885Z",
     "iopub.status.idle": "2025-01-28T23:15:38.851391Z",
     "shell.execute_reply": "2025-01-28T23:15:38.849830Z"
    },
    "papermill": {
     "duration": 0.26493,
     "end_time": "2025-01-28T23:15:38.854829",
     "exception": false,
     "start_time": "2025-01-28T23:15:38.589899",
     "status": "completed"
    },
    "tags": []
   },
   "outputs": [
    {
     "name": "stdout",
     "output_type": "stream",
     "text": [
      "submission successfully saved... but to where... found it =)\n"
     ]
    }
   ],
   "source": [
    "y = train_data['Survived']\n",
    "\n",
    "features = ['Pclass', 'Sex', 'SibSp', 'Parch']\n",
    "X = pd.get_dummies(train_data[features])\n",
    "X_test = pd.get_dummies(test_data[features])\n",
    "\n",
    "model = RandomForestClassifier(n_estimators = 100, max_depth=5, random_state=1)\n",
    "model.fit(X, y)\n",
    "predictions = model.predict(X_test)\n",
    "\n",
    "output = pd.DataFrame({'PassengerId': test_data.PassengerId, 'Survived': predictions})\n",
    "output.to_csv('submission.csv', index=False)\n",
    "print('submission successfully saved... but to where... found it =)')"
   ]
  },
  {
   "cell_type": "markdown",
   "id": "adf2861c",
   "metadata": {
    "papermill": {
     "duration": 0.004308,
     "end_time": "2025-01-28T23:15:38.865580",
     "exception": false,
     "start_time": "2025-01-28T23:15:38.861272",
     "status": "completed"
    },
    "tags": []
   },
   "source": [
    "# 4. Case: Outcome Model based on Pclass, Sex, SibSp, Parch, Age, Embarked, Fare"
   ]
  },
  {
   "cell_type": "code",
   "execution_count": 6,
   "id": "1a55fd00",
   "metadata": {
    "execution": {
     "iopub.execute_input": "2025-01-28T23:15:38.875447Z",
     "iopub.status.busy": "2025-01-28T23:15:38.875011Z",
     "iopub.status.idle": "2025-01-28T23:15:38.885789Z",
     "shell.execute_reply": "2025-01-28T23:15:38.884463Z"
    },
    "papermill": {
     "duration": 0.01872,
     "end_time": "2025-01-28T23:15:38.888196",
     "exception": false,
     "start_time": "2025-01-28T23:15:38.869476",
     "status": "completed"
    },
    "tags": []
   },
   "outputs": [
    {
     "name": "stdout",
     "output_type": "stream",
     "text": [
      "Training Data Status\n",
      "PassengerId      0\n",
      "Survived         0\n",
      "Pclass           0\n",
      "Name             0\n",
      "Sex              0\n",
      "Age            177\n",
      "SibSp            0\n",
      "Parch            0\n",
      "Ticket           0\n",
      "Fare             0\n",
      "Cabin          687\n",
      "Embarked         2\n",
      "dtype: int64\n",
      "\n",
      "Test Data Status\n",
      "PassengerId      0\n",
      "Pclass           0\n",
      "Name             0\n",
      "Sex              0\n",
      "Age             86\n",
      "SibSp            0\n",
      "Parch            0\n",
      "Ticket           0\n",
      "Fare             1\n",
      "Cabin          327\n",
      "Embarked         0\n",
      "dtype: int64\n"
     ]
    }
   ],
   "source": [
    "#Quick check for variables that may be missing data in one form or another (Age, Cabin and Embarked each may require soem adjusting to use)\n",
    "\n",
    "#Train Data NaN values / missing values\n",
    "print('Training Data Status')\n",
    "print(train_data.isna().sum())\n",
    "print()\n",
    "\n",
    "#Test Data NaN values / missing values\n",
    "print('Test Data Status')\n",
    "print(test_data.isna().sum())"
   ]
  },
  {
   "cell_type": "code",
   "execution_count": 7,
   "id": "8ac5195b",
   "metadata": {
    "execution": {
     "iopub.execute_input": "2025-01-28T23:15:38.898008Z",
     "iopub.status.busy": "2025-01-28T23:15:38.897641Z",
     "iopub.status.idle": "2025-01-28T23:15:39.161376Z",
     "shell.execute_reply": "2025-01-28T23:15:39.159709Z"
    },
    "papermill": {
     "duration": 0.271957,
     "end_time": "2025-01-28T23:15:39.164060",
     "exception": false,
     "start_time": "2025-01-28T23:15:38.892103",
     "status": "completed"
    },
    "tags": []
   },
   "outputs": [
    {
     "name": "stdout",
     "output_type": "stream",
     "text": [
      "<class 'pandas.core.frame.DataFrame'>\n",
      "Index: 889 entries, 0 to 890\n",
      "Data columns (total 12 columns):\n",
      " #   Column       Non-Null Count  Dtype  \n",
      "---  ------       --------------  -----  \n",
      " 0   PassengerId  889 non-null    int64  \n",
      " 1   Survived     889 non-null    int64  \n",
      " 2   Pclass       889 non-null    int64  \n",
      " 3   Name         889 non-null    object \n",
      " 4   Sex          889 non-null    object \n",
      " 5   Age          712 non-null    float64\n",
      " 6   SibSp        889 non-null    int64  \n",
      " 7   Parch        889 non-null    int64  \n",
      " 8   Ticket       889 non-null    object \n",
      " 9   Fare         889 non-null    float64\n",
      " 10  Cabin        202 non-null    object \n",
      " 11  Embarked     889 non-null    object \n",
      "dtypes: float64(2), int64(5), object(5)\n",
      "memory usage: 90.3+ KB\n",
      "None\n",
      "done... again\n"
     ]
    }
   ],
   "source": [
    "train_data_2 = train_data.dropna(subset=['Embarked'], how='all')\n",
    "print(train_data_2.info())\n",
    "y = train_data_2['Survived']\n",
    "\n",
    "features = ['Pclass', 'Sex', 'SibSp', 'Parch', 'Embarked']\n",
    "X = pd.get_dummies(train_data_2[features])\n",
    "X_test = pd.get_dummies(test_data[features])\n",
    "\n",
    "model = RandomForestClassifier(n_estimators=100, max_depth=5, random_state=1)\n",
    "model.fit(X, y)\n",
    "predictions = model.predict(X_test)\n",
    "\n",
    "output = pd.DataFrame({'Passengers': test_data.PassengerId, 'Survived': predictions})\n",
    "output.to_csv('submission.csv', index=False)\n",
    "print('done... again')"
   ]
  },
  {
   "cell_type": "markdown",
   "id": "77c71ff0",
   "metadata": {
    "papermill": {
     "duration": 0.004868,
     "end_time": "2025-01-28T23:15:39.176815",
     "exception": false,
     "start_time": "2025-01-28T23:15:39.171947",
     "status": "completed"
    },
    "tags": []
   },
   "source": []
  }
 ],
 "metadata": {
  "kaggle": {
   "accelerator": "none",
   "dataSources": [
    {
     "databundleVersionId": 26502,
     "sourceId": 3136,
     "sourceType": "competition"
    }
   ],
   "dockerImageVersionId": 30839,
   "isGpuEnabled": false,
   "isInternetEnabled": true,
   "language": "python",
   "sourceType": "notebook"
  },
  "kernelspec": {
   "display_name": "Python 3",
   "language": "python",
   "name": "python3"
  },
  "language_info": {
   "codemirror_mode": {
    "name": "ipython",
    "version": 3
   },
   "file_extension": ".py",
   "mimetype": "text/x-python",
   "name": "python",
   "nbconvert_exporter": "python",
   "pygments_lexer": "ipython3",
   "version": "3.10.12"
  },
  "papermill": {
   "default_parameters": {},
   "duration": 8.296595,
   "end_time": "2025-01-28T23:15:40.005792",
   "environment_variables": {},
   "exception": null,
   "input_path": "__notebook__.ipynb",
   "output_path": "__notebook__.ipynb",
   "parameters": {},
   "start_time": "2025-01-28T23:15:31.709197",
   "version": "2.6.0"
  }
 },
 "nbformat": 4,
 "nbformat_minor": 5
}
