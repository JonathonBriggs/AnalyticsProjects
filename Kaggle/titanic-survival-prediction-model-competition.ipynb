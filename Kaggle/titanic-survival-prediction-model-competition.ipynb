{
 "cells": [
  {
   "cell_type": "code",
   "execution_count": 1,
   "id": "bd0aad8e",
   "metadata": {
    "_cell_guid": "b1076dfc-b9ad-4769-8c92-a6c4dae69d19",
    "_uuid": "8f2839f25d086af736a60e9eeb907d3b93b6e0e5",
    "execution": {
     "iopub.execute_input": "2025-01-29T21:12:17.780659Z",
     "iopub.status.busy": "2025-01-29T21:12:17.780210Z",
     "iopub.status.idle": "2025-01-29T21:12:18.850133Z",
     "shell.execute_reply": "2025-01-29T21:12:18.848912Z"
    },
    "papermill": {
     "duration": 1.07896,
     "end_time": "2025-01-29T21:12:18.852222",
     "exception": false,
     "start_time": "2025-01-29T21:12:17.773262",
     "status": "completed"
    },
    "tags": []
   },
   "outputs": [
    {
     "name": "stdout",
     "output_type": "stream",
     "text": [
      "/kaggle/input/titanic/train.csv\n",
      "/kaggle/input/titanic/test.csv\n",
      "/kaggle/input/titanic/gender_submission.csv\n"
     ]
    }
   ],
   "source": [
    "# This Python 3 environment comes with many helpful analytics libraries installed\n",
    "# It is defined by the kaggle/python Docker image: https://github.com/kaggle/docker-python\n",
    "# For example, here's several helpful packages to load\n",
    "\n",
    "import numpy as np # linear algebra\n",
    "import pandas as pd # data processing, CSV file I/O (e.g. pd.read_csv)\n",
    "\n",
    "# Input data files are available in the read-only \"../input/\" directory\n",
    "# For example, running this (by clicking run or pressing Shift+Enter) will list all files under the input directory\n",
    "\n",
    "import os\n",
    "for dirname, _, filenames in os.walk('/kaggle/input'):\n",
    "    for filename in filenames:\n",
    "        print(os.path.join(dirname, filename))\n",
    "\n",
    "# You can write up to 20GB to the current directory (/kaggle/working/) that gets preserved as output when you create a version using \"Save & Run All\" \n",
    "# You can also write temporary files to /kaggle/temp/, but they won't be saved outside of the current session"
   ]
  },
  {
   "cell_type": "markdown",
   "id": "ba4f3f2e",
   "metadata": {
    "papermill": {
     "duration": 0.004707,
     "end_time": "2025-01-29T21:12:18.862306",
     "exception": false,
     "start_time": "2025-01-29T21:12:18.857599",
     "status": "completed"
    },
    "tags": []
   },
   "source": [
    "# 0. Precurser Info\n",
    "## 0.a Credits\n",
    "* This is my first competition on Kaggle\n",
    "* For resources, I used:\n",
    "    * [Alexis Cook Titanic Tutoria Walkthrough](https://www.kaggle.com/code/alexisbcook/titanic-tutorial/notebook)\n",
    "    * [Ken Jee Tutorial Video](https://www.youtube.com/watch?v=I3FBJdiExcg])\n",
    "    * A numer of articles on stack overflow, kaggle, and some sparring with ChatGPT 4o in the moments where the logic / reasoning was not completely clear to me =)\n",
    "## 0.b Variable Descriptions\n",
    "* survival\tSurvival\t0 = No, 1 = Yes\n",
    "* pclass\tTicket class\t1 = 1st, 2 = 2nd, 3 = 3rd\n",
    "* sex\tmale, female\n",
    "* Age\tAge in years\n",
    "* sibsp\t# of siblings / spouses aboard the Titanic\n",
    "* parch\t# of parents / children aboard the Titanic\n",
    "* ticket\tTicket number\n",
    "* fare\tPassenger fare\n",
    "* cabin\tCabin number\n",
    "* embarked\tPort of Embarkation\tC = Cherbourg, Q = Queenstown, S = Southampton"
   ]
  },
  {
   "cell_type": "markdown",
   "id": "b42e9c00",
   "metadata": {
    "papermill": {
     "duration": 0.004402,
     "end_time": "2025-01-29T21:12:18.871580",
     "exception": false,
     "start_time": "2025-01-29T21:12:18.867178",
     "status": "completed"
    },
    "tags": []
   },
   "source": [
    "## 0.b Additional Import Statements"
   ]
  },
  {
   "cell_type": "code",
   "execution_count": 2,
   "id": "aae4beb7",
   "metadata": {
    "execution": {
     "iopub.execute_input": "2025-01-29T21:12:18.882656Z",
     "iopub.status.busy": "2025-01-29T21:12:18.882115Z",
     "iopub.status.idle": "2025-01-29T21:12:21.510823Z",
     "shell.execute_reply": "2025-01-29T21:12:21.509543Z"
    },
    "papermill": {
     "duration": 2.636594,
     "end_time": "2025-01-29T21:12:21.512953",
     "exception": false,
     "start_time": "2025-01-29T21:12:18.876359",
     "status": "completed"
    },
    "tags": []
   },
   "outputs": [],
   "source": [
    "from sklearn.ensemble import RandomForestClassifier #in order to use a random forest classification tree\n",
    "import matplotlib.pyplot as plt\n",
    "import warnings\n",
    "warnings.filterwarnings('ignore')\n",
    "import seaborn as sns"
   ]
  },
  {
   "cell_type": "markdown",
   "id": "641f2b90",
   "metadata": {
    "papermill": {
     "duration": 0.004814,
     "end_time": "2025-01-29T21:12:21.523450",
     "exception": false,
     "start_time": "2025-01-29T21:12:21.518636",
     "status": "completed"
    },
    "tags": []
   },
   "source": [
    "# 1.a Import Training and Testing Data"
   ]
  },
  {
   "cell_type": "code",
   "execution_count": 3,
   "id": "dbf20eaf",
   "metadata": {
    "execution": {
     "iopub.execute_input": "2025-01-29T21:12:21.534514Z",
     "iopub.status.busy": "2025-01-29T21:12:21.533925Z",
     "iopub.status.idle": "2025-01-29T21:12:21.591924Z",
     "shell.execute_reply": "2025-01-29T21:12:21.590804Z"
    },
    "papermill": {
     "duration": 0.065371,
     "end_time": "2025-01-29T21:12:21.593770",
     "exception": false,
     "start_time": "2025-01-29T21:12:21.528399",
     "status": "completed"
    },
    "tags": []
   },
   "outputs": [
    {
     "data": {
      "text/html": [
       "<div>\n",
       "<style scoped>\n",
       "    .dataframe tbody tr th:only-of-type {\n",
       "        vertical-align: middle;\n",
       "    }\n",
       "\n",
       "    .dataframe tbody tr th {\n",
       "        vertical-align: top;\n",
       "    }\n",
       "\n",
       "    .dataframe thead th {\n",
       "        text-align: right;\n",
       "    }\n",
       "</style>\n",
       "<table border=\"1\" class=\"dataframe\">\n",
       "  <thead>\n",
       "    <tr style=\"text-align: right;\">\n",
       "      <th></th>\n",
       "      <th>PassengerId</th>\n",
       "      <th>Survived</th>\n",
       "      <th>Pclass</th>\n",
       "      <th>Name</th>\n",
       "      <th>Sex</th>\n",
       "      <th>Age</th>\n",
       "      <th>SibSp</th>\n",
       "      <th>Parch</th>\n",
       "      <th>Ticket</th>\n",
       "      <th>Fare</th>\n",
       "      <th>Cabin</th>\n",
       "      <th>Embarked</th>\n",
       "    </tr>\n",
       "  </thead>\n",
       "  <tbody>\n",
       "    <tr>\n",
       "      <th>0</th>\n",
       "      <td>1</td>\n",
       "      <td>0</td>\n",
       "      <td>3</td>\n",
       "      <td>Braund, Mr. Owen Harris</td>\n",
       "      <td>male</td>\n",
       "      <td>22.0</td>\n",
       "      <td>1</td>\n",
       "      <td>0</td>\n",
       "      <td>A/5 21171</td>\n",
       "      <td>7.2500</td>\n",
       "      <td>NaN</td>\n",
       "      <td>S</td>\n",
       "    </tr>\n",
       "    <tr>\n",
       "      <th>1</th>\n",
       "      <td>2</td>\n",
       "      <td>1</td>\n",
       "      <td>1</td>\n",
       "      <td>Cumings, Mrs. John Bradley (Florence Briggs Th...</td>\n",
       "      <td>female</td>\n",
       "      <td>38.0</td>\n",
       "      <td>1</td>\n",
       "      <td>0</td>\n",
       "      <td>PC 17599</td>\n",
       "      <td>71.2833</td>\n",
       "      <td>C85</td>\n",
       "      <td>C</td>\n",
       "    </tr>\n",
       "    <tr>\n",
       "      <th>2</th>\n",
       "      <td>3</td>\n",
       "      <td>1</td>\n",
       "      <td>3</td>\n",
       "      <td>Heikkinen, Miss. Laina</td>\n",
       "      <td>female</td>\n",
       "      <td>26.0</td>\n",
       "      <td>0</td>\n",
       "      <td>0</td>\n",
       "      <td>STON/O2. 3101282</td>\n",
       "      <td>7.9250</td>\n",
       "      <td>NaN</td>\n",
       "      <td>S</td>\n",
       "    </tr>\n",
       "    <tr>\n",
       "      <th>3</th>\n",
       "      <td>4</td>\n",
       "      <td>1</td>\n",
       "      <td>1</td>\n",
       "      <td>Futrelle, Mrs. Jacques Heath (Lily May Peel)</td>\n",
       "      <td>female</td>\n",
       "      <td>35.0</td>\n",
       "      <td>1</td>\n",
       "      <td>0</td>\n",
       "      <td>113803</td>\n",
       "      <td>53.1000</td>\n",
       "      <td>C123</td>\n",
       "      <td>S</td>\n",
       "    </tr>\n",
       "    <tr>\n",
       "      <th>4</th>\n",
       "      <td>5</td>\n",
       "      <td>0</td>\n",
       "      <td>3</td>\n",
       "      <td>Allen, Mr. William Henry</td>\n",
       "      <td>male</td>\n",
       "      <td>35.0</td>\n",
       "      <td>0</td>\n",
       "      <td>0</td>\n",
       "      <td>373450</td>\n",
       "      <td>8.0500</td>\n",
       "      <td>NaN</td>\n",
       "      <td>S</td>\n",
       "    </tr>\n",
       "  </tbody>\n",
       "</table>\n",
       "</div>"
      ],
      "text/plain": [
       "   PassengerId  Survived  Pclass  \\\n",
       "0            1         0       3   \n",
       "1            2         1       1   \n",
       "2            3         1       3   \n",
       "3            4         1       1   \n",
       "4            5         0       3   \n",
       "\n",
       "                                                Name     Sex   Age  SibSp  \\\n",
       "0                            Braund, Mr. Owen Harris    male  22.0      1   \n",
       "1  Cumings, Mrs. John Bradley (Florence Briggs Th...  female  38.0      1   \n",
       "2                             Heikkinen, Miss. Laina  female  26.0      0   \n",
       "3       Futrelle, Mrs. Jacques Heath (Lily May Peel)  female  35.0      1   \n",
       "4                           Allen, Mr. William Henry    male  35.0      0   \n",
       "\n",
       "   Parch            Ticket     Fare Cabin Embarked  \n",
       "0      0         A/5 21171   7.2500   NaN        S  \n",
       "1      0          PC 17599  71.2833   C85        C  \n",
       "2      0  STON/O2. 3101282   7.9250   NaN        S  \n",
       "3      0            113803  53.1000  C123        S  \n",
       "4      0            373450   8.0500   NaN        S  "
      ]
     },
     "execution_count": 3,
     "metadata": {},
     "output_type": "execute_result"
    }
   ],
   "source": [
    "train_data = pd.read_csv('/kaggle/input/titanic/train.csv')\n",
    "test_data = pd.read_csv('/kaggle/input/titanic/test.csv')\n",
    "train_data.head() #just figured out that excluding the print statement shows a more legible than using the print() output"
   ]
  },
  {
   "cell_type": "markdown",
   "id": "421083fc",
   "metadata": {
    "papermill": {
     "duration": 0.004653,
     "end_time": "2025-01-29T21:12:21.603992",
     "exception": false,
     "start_time": "2025-01-29T21:12:21.599339",
     "status": "completed"
    },
    "tags": []
   },
   "source": [
    "# 1.b Training Data Exploration"
   ]
  },
  {
   "cell_type": "code",
   "execution_count": 4,
   "id": "cc711229",
   "metadata": {
    "execution": {
     "iopub.execute_input": "2025-01-29T21:12:21.615292Z",
     "iopub.status.busy": "2025-01-29T21:12:21.614877Z",
     "iopub.status.idle": "2025-01-29T21:12:21.642250Z",
     "shell.execute_reply": "2025-01-29T21:12:21.640802Z"
    },
    "papermill": {
     "duration": 0.035377,
     "end_time": "2025-01-29T21:12:21.644280",
     "exception": false,
     "start_time": "2025-01-29T21:12:21.608903",
     "status": "completed"
    },
    "tags": []
   },
   "outputs": [
    {
     "name": "stdout",
     "output_type": "stream",
     "text": [
      "<class 'pandas.core.frame.DataFrame'>\n",
      "RangeIndex: 891 entries, 0 to 890\n",
      "Data columns (total 12 columns):\n",
      " #   Column       Non-Null Count  Dtype  \n",
      "---  ------       --------------  -----  \n",
      " 0   PassengerId  891 non-null    int64  \n",
      " 1   Survived     891 non-null    int64  \n",
      " 2   Pclass       891 non-null    int64  \n",
      " 3   Name         891 non-null    object \n",
      " 4   Sex          891 non-null    object \n",
      " 5   Age          714 non-null    float64\n",
      " 6   SibSp        891 non-null    int64  \n",
      " 7   Parch        891 non-null    int64  \n",
      " 8   Ticket       891 non-null    object \n",
      " 9   Fare         891 non-null    float64\n",
      " 10  Cabin        204 non-null    object \n",
      " 11  Embarked     889 non-null    object \n",
      "dtypes: float64(2), int64(5), object(5)\n",
      "memory usage: 83.7+ KB\n"
     ]
    }
   ],
   "source": [
    "train_data.info()\n",
    "#Age and Cabin have quite a few null values, and Embarked as 2 missing values"
   ]
  },
  {
   "cell_type": "code",
   "execution_count": 5,
   "id": "f394f332",
   "metadata": {
    "execution": {
     "iopub.execute_input": "2025-01-29T21:12:21.656046Z",
     "iopub.status.busy": "2025-01-29T21:12:21.655633Z",
     "iopub.status.idle": "2025-01-29T21:12:21.687122Z",
     "shell.execute_reply": "2025-01-29T21:12:21.685932Z"
    },
    "papermill": {
     "duration": 0.039826,
     "end_time": "2025-01-29T21:12:21.689342",
     "exception": false,
     "start_time": "2025-01-29T21:12:21.649516",
     "status": "completed"
    },
    "tags": []
   },
   "outputs": [
    {
     "data": {
      "text/html": [
       "<div>\n",
       "<style scoped>\n",
       "    .dataframe tbody tr th:only-of-type {\n",
       "        vertical-align: middle;\n",
       "    }\n",
       "\n",
       "    .dataframe tbody tr th {\n",
       "        vertical-align: top;\n",
       "    }\n",
       "\n",
       "    .dataframe thead th {\n",
       "        text-align: right;\n",
       "    }\n",
       "</style>\n",
       "<table border=\"1\" class=\"dataframe\">\n",
       "  <thead>\n",
       "    <tr style=\"text-align: right;\">\n",
       "      <th></th>\n",
       "      <th>PassengerId</th>\n",
       "      <th>Survived</th>\n",
       "      <th>Pclass</th>\n",
       "      <th>Age</th>\n",
       "      <th>SibSp</th>\n",
       "      <th>Parch</th>\n",
       "      <th>Fare</th>\n",
       "    </tr>\n",
       "  </thead>\n",
       "  <tbody>\n",
       "    <tr>\n",
       "      <th>count</th>\n",
       "      <td>891.000000</td>\n",
       "      <td>891.000000</td>\n",
       "      <td>891.000000</td>\n",
       "      <td>714.000000</td>\n",
       "      <td>891.000000</td>\n",
       "      <td>891.000000</td>\n",
       "      <td>891.000000</td>\n",
       "    </tr>\n",
       "    <tr>\n",
       "      <th>mean</th>\n",
       "      <td>446.000000</td>\n",
       "      <td>0.383838</td>\n",
       "      <td>2.308642</td>\n",
       "      <td>29.699118</td>\n",
       "      <td>0.523008</td>\n",
       "      <td>0.381594</td>\n",
       "      <td>32.204208</td>\n",
       "    </tr>\n",
       "    <tr>\n",
       "      <th>std</th>\n",
       "      <td>257.353842</td>\n",
       "      <td>0.486592</td>\n",
       "      <td>0.836071</td>\n",
       "      <td>14.526497</td>\n",
       "      <td>1.102743</td>\n",
       "      <td>0.806057</td>\n",
       "      <td>49.693429</td>\n",
       "    </tr>\n",
       "    <tr>\n",
       "      <th>min</th>\n",
       "      <td>1.000000</td>\n",
       "      <td>0.000000</td>\n",
       "      <td>1.000000</td>\n",
       "      <td>0.420000</td>\n",
       "      <td>0.000000</td>\n",
       "      <td>0.000000</td>\n",
       "      <td>0.000000</td>\n",
       "    </tr>\n",
       "    <tr>\n",
       "      <th>25%</th>\n",
       "      <td>223.500000</td>\n",
       "      <td>0.000000</td>\n",
       "      <td>2.000000</td>\n",
       "      <td>20.125000</td>\n",
       "      <td>0.000000</td>\n",
       "      <td>0.000000</td>\n",
       "      <td>7.910400</td>\n",
       "    </tr>\n",
       "    <tr>\n",
       "      <th>50%</th>\n",
       "      <td>446.000000</td>\n",
       "      <td>0.000000</td>\n",
       "      <td>3.000000</td>\n",
       "      <td>28.000000</td>\n",
       "      <td>0.000000</td>\n",
       "      <td>0.000000</td>\n",
       "      <td>14.454200</td>\n",
       "    </tr>\n",
       "    <tr>\n",
       "      <th>75%</th>\n",
       "      <td>668.500000</td>\n",
       "      <td>1.000000</td>\n",
       "      <td>3.000000</td>\n",
       "      <td>38.000000</td>\n",
       "      <td>1.000000</td>\n",
       "      <td>0.000000</td>\n",
       "      <td>31.000000</td>\n",
       "    </tr>\n",
       "    <tr>\n",
       "      <th>max</th>\n",
       "      <td>891.000000</td>\n",
       "      <td>1.000000</td>\n",
       "      <td>3.000000</td>\n",
       "      <td>80.000000</td>\n",
       "      <td>8.000000</td>\n",
       "      <td>6.000000</td>\n",
       "      <td>512.329200</td>\n",
       "    </tr>\n",
       "  </tbody>\n",
       "</table>\n",
       "</div>"
      ],
      "text/plain": [
       "       PassengerId    Survived      Pclass         Age       SibSp  \\\n",
       "count   891.000000  891.000000  891.000000  714.000000  891.000000   \n",
       "mean    446.000000    0.383838    2.308642   29.699118    0.523008   \n",
       "std     257.353842    0.486592    0.836071   14.526497    1.102743   \n",
       "min       1.000000    0.000000    1.000000    0.420000    0.000000   \n",
       "25%     223.500000    0.000000    2.000000   20.125000    0.000000   \n",
       "50%     446.000000    0.000000    3.000000   28.000000    0.000000   \n",
       "75%     668.500000    1.000000    3.000000   38.000000    1.000000   \n",
       "max     891.000000    1.000000    3.000000   80.000000    8.000000   \n",
       "\n",
       "            Parch        Fare  \n",
       "count  891.000000  891.000000  \n",
       "mean     0.381594   32.204208  \n",
       "std      0.806057   49.693429  \n",
       "min      0.000000    0.000000  \n",
       "25%      0.000000    7.910400  \n",
       "50%      0.000000   14.454200  \n",
       "75%      0.000000   31.000000  \n",
       "max      6.000000  512.329200  "
      ]
     },
     "execution_count": 5,
     "metadata": {},
     "output_type": "execute_result"
    }
   ],
   "source": [
    "train_data.describe()"
   ]
  },
  {
   "cell_type": "code",
   "execution_count": 6,
   "id": "9a5be17a",
   "metadata": {
    "execution": {
     "iopub.execute_input": "2025-01-29T21:12:21.701706Z",
     "iopub.status.busy": "2025-01-29T21:12:21.701366Z",
     "iopub.status.idle": "2025-01-29T21:12:22.817020Z",
     "shell.execute_reply": "2025-01-29T21:12:22.815602Z"
    },
    "papermill": {
     "duration": 1.124086,
     "end_time": "2025-01-29T21:12:22.818998",
     "exception": false,
     "start_time": "2025-01-29T21:12:21.694912",
     "status": "completed"
    },
    "tags": []
   },
   "outputs": [
    {
     "data": {
      "image/png": "[encoded data removed]",
      "text/plain": [
       "<Figure size 1000x1000 with 4 Axes>"
      ]
     },
     "metadata": {},
     "output_type": "display_data"
    }
   ],
   "source": [
    "df_num = train_data[['Age', 'SibSp', 'Parch', 'Fare']]\n",
    "df_cat = train_data[['Survived', 'Pclass', 'Sex', 'Ticket', 'Cabin', 'Embarked']]\n",
    "\n",
    "fig, axes = plt.subplots(2,2,figsize=(10,10))\n",
    "axes = axes.flatten()\n",
    "\n",
    "for i, col in enumerate(df_num.columns):\n",
    "    axes[i].hist(df_num[col].dropna())\n",
    "    axes[i].set_title(col)\n",
    "    axes[i].set_xlabel(col)\n",
    "    axes[i].set_ylabel('Frequency')\n",
    "\n",
    "plt.tight_layout()\n",
    "plt.show()"
   ]
  },
  {
   "cell_type": "code",
   "execution_count": 7,
   "id": "eb61469c",
   "metadata": {
    "execution": {
     "iopub.execute_input": "2025-01-29T21:12:22.834029Z",
     "iopub.status.busy": "2025-01-29T21:12:22.833658Z",
     "iopub.status.idle": "2025-01-29T21:12:23.082205Z",
     "shell.execute_reply": "2025-01-29T21:12:23.081016Z"
    },
    "papermill": {
     "duration": 0.258158,
     "end_time": "2025-01-29T21:12:23.084085",
     "exception": false,
     "start_time": "2025-01-29T21:12:22.825927",
     "status": "completed"
    },
    "tags": []
   },
   "outputs": [
    {
     "name": "stdout",
     "output_type": "stream",
     "text": [
      "            Age     SibSp     Parch      Fare\n",
      "Age    1.000000 -0.308247 -0.189119  0.096067\n",
      "SibSp -0.308247  1.000000  0.414838  0.159651\n",
      "Parch -0.189119  0.414838  1.000000  0.216225\n",
      "Fare   0.096067  0.159651  0.216225  1.000000\n"
     ]
    },
    {
     "data": {
      "text/plain": [
       "<Axes: >"
      ]
     },
     "execution_count": 7,
     "metadata": {},
     "output_type": "execute_result"
    },
    {
     "data": {
      "image/png": "[encoded data removed]",
      "text/plain": [
       "<Figure size 640x480 with 2 Axes>"
      ]
     },
     "metadata": {},
     "output_type": "display_data"
    }
   ],
   "source": [
    "print(df_num.corr())\n",
    "sns.heatmap(df_num.corr())"
   ]
  },
  {
   "cell_type": "code",
   "execution_count": 8,
   "id": "d5f476fa",
   "metadata": {
    "execution": {
     "iopub.execute_input": "2025-01-29T21:12:23.099708Z",
     "iopub.status.busy": "2025-01-29T21:12:23.099256Z",
     "iopub.status.idle": "2025-01-29T21:12:23.120290Z",
     "shell.execute_reply": "2025-01-29T21:12:23.118881Z"
    },
    "papermill": {
     "duration": 0.03164,
     "end_time": "2025-01-29T21:12:23.123022",
     "exception": false,
     "start_time": "2025-01-29T21:12:23.091382",
     "status": "completed"
    },
    "tags": []
   },
   "outputs": [
    {
     "data": {
      "text/html": [
       "<div>\n",
       "<style scoped>\n",
       "    .dataframe tbody tr th:only-of-type {\n",
       "        vertical-align: middle;\n",
       "    }\n",
       "\n",
       "    .dataframe tbody tr th {\n",
       "        vertical-align: top;\n",
       "    }\n",
       "\n",
       "    .dataframe thead th {\n",
       "        text-align: right;\n",
       "    }\n",
       "</style>\n",
       "<table border=\"1\" class=\"dataframe\">\n",
       "  <thead>\n",
       "    <tr style=\"text-align: right;\">\n",
       "      <th></th>\n",
       "      <th>Age</th>\n",
       "      <th>Fare</th>\n",
       "      <th>Parch</th>\n",
       "      <th>SibSp</th>\n",
       "    </tr>\n",
       "    <tr>\n",
       "      <th>Survived</th>\n",
       "      <th></th>\n",
       "      <th></th>\n",
       "      <th></th>\n",
       "      <th></th>\n",
       "    </tr>\n",
       "  </thead>\n",
       "  <tbody>\n",
       "    <tr>\n",
       "      <th>0</th>\n",
       "      <td>30.626179</td>\n",
       "      <td>22.117887</td>\n",
       "      <td>0.329690</td>\n",
       "      <td>0.553734</td>\n",
       "    </tr>\n",
       "    <tr>\n",
       "      <th>1</th>\n",
       "      <td>28.343690</td>\n",
       "      <td>48.395408</td>\n",
       "      <td>0.464912</td>\n",
       "      <td>0.473684</td>\n",
       "    </tr>\n",
       "  </tbody>\n",
       "</table>\n",
       "</div>"
      ],
      "text/plain": [
       "                Age       Fare     Parch     SibSp\n",
       "Survived                                          \n",
       "0         30.626179  22.117887  0.329690  0.553734\n",
       "1         28.343690  48.395408  0.464912  0.473684"
      ]
     },
     "execution_count": 8,
     "metadata": {},
     "output_type": "execute_result"
    }
   ],
   "source": [
    "#Pivot table showing mean values for categories against Survival index\n",
    "pd.pivot_table(train_data, index=['Survived'], values=['Age', 'SibSp', 'Parch', 'Fare'])"
   ]
  },
  {
   "cell_type": "code",
   "execution_count": 9,
   "id": "2649ee61",
   "metadata": {
    "execution": {
     "iopub.execute_input": "2025-01-29T21:12:23.143269Z",
     "iopub.status.busy": "2025-01-29T21:12:23.142639Z",
     "iopub.status.idle": "2025-01-29T21:12:30.881868Z",
     "shell.execute_reply": "2025-01-29T21:12:30.880574Z"
    },
    "papermill": {
     "duration": 7.751313,
     "end_time": "2025-01-29T21:12:30.884609",
     "exception": false,
     "start_time": "2025-01-29T21:12:23.133296",
     "status": "completed"
    },
    "tags": []
   },
   "outputs": [
    {
     "data": {
      "text/plain": [
       "<Figure size 640x480 with 0 Axes>"
      ]
     },
     "metadata": {},
     "output_type": "display_data"
    },
    {
     "data": {
      "image/png": "[encoded data removed]",
      "text/plain": [
       "<Figure size 2000x3000 with 6 Axes>"
      ]
     },
     "metadata": {},
     "output_type": "display_data"
    }
   ],
   "source": [
    "#Checking categorical variables for basic distribution\n",
    "plt.clf()\n",
    "\n",
    "fig, axes = plt.subplots(3,2,figsize=(20, 30))\n",
    "axes = axes.flatten()\n",
    "\n",
    "for i, col in enumerate(df_cat.columns):\n",
    "    value_counts = df_cat[col].value_counts()\n",
    "    value_counts_df = value_counts.reset_index()\n",
    "    value_counts_df.columns = [col, 'Frequency']  # Rename columns for clarity\n",
    "    \n",
    "    sns.barplot(x=value_counts_df[col], y=value_counts_df['Frequency'], ax=axes[i])\n",
    "    axes[i].set_title(col)  # Set title\n",
    "    axes[i].set_xlabel(col)  # Set x-axis label\n",
    "    axes[i].set_ylabel('Frequency')  # Set y-axis label\n",
    "\n",
    "#plt.tight_layout()\n",
    "plt.show()"
   ]
  },
  {
   "cell_type": "code",
   "execution_count": 10,
   "id": "3cca0117",
   "metadata": {
    "execution": {
     "iopub.execute_input": "2025-01-29T21:12:30.904821Z",
     "iopub.status.busy": "2025-01-29T21:12:30.904442Z",
     "iopub.status.idle": "2025-01-29T21:12:30.997100Z",
     "shell.execute_reply": "2025-01-29T21:12:30.995625Z"
    },
    "papermill": {
     "duration": 0.105417,
     "end_time": "2025-01-29T21:12:30.999290",
     "exception": false,
     "start_time": "2025-01-29T21:12:30.893873",
     "status": "completed"
    },
    "tags": []
   },
   "outputs": [
    {
     "name": "stdout",
     "output_type": "stream",
     "text": [
      "Pclass       1     2     3  Total\n",
      "Survived                         \n",
      "0          9.0  10.9  41.8   61.6\n",
      "1         15.3   9.8  13.4   38.4\n",
      "Total     24.2  20.7  55.1  100.0\n",
      "\n",
      "Sex       female  male  Total\n",
      "Survived                     \n",
      "0            9.1  52.5   61.6\n",
      "1           26.2  12.2   38.4\n",
      "Total       35.2  64.8  100.0\n",
      "\n",
      "Embarked     C    Q     S  Total\n",
      "Survived                        \n",
      "0          8.4  5.3  47.9   61.6\n",
      "1         10.4  3.4  24.4   38.2\n",
      "Total     18.9  8.6  72.3   99.8\n"
     ]
    }
   ],
   "source": [
    "#Pivot tables based on variables vs. survival rates (as percentage of total ticket count) to review if any parameters indicate a surival advantage\n",
    "\n",
    "pclass_pivot = pd.pivot_table(train_data, index='Survived', columns='Pclass', values='Ticket', aggfunc='count', margins=True, margins_name='Total')\n",
    "sex_pivot = pd.pivot_table(train_data, index='Survived', columns='Sex', values='Ticket', aggfunc='count', margins=True, margins_name='Total')\n",
    "embarked_pivot = pd.pivot_table(train_data, index='Survived', columns='Embarked', values='Ticket', aggfunc='count', margins=True, margins_name='Total')\n",
    "\n",
    "total_count = pclass_pivot.loc['Total', 'Total']\n",
    "\n",
    "pclass_pivot_perc = (pclass_pivot / total_count * 100).round(1)\n",
    "sex_pivot_perc = (sex_pivot / total_count * 100).round(1)\n",
    "embarked_pivot_perc = (embarked_pivot / total_count * 100).round(1)\n",
    "\n",
    "print(pclass_pivot_perc)\n",
    "print()\n",
    "print(sex_pivot_perc)\n",
    "print()\n",
    "print(embarked_pivot_perc)"
   ]
  },
  {
   "cell_type": "code",
   "execution_count": null,
   "id": "abd1ff76",
   "metadata": {
    "papermill": {
     "duration": 0.009115,
     "end_time": "2025-01-29T21:12:31.017875",
     "exception": false,
     "start_time": "2025-01-29T21:12:31.008760",
     "status": "completed"
    },
    "tags": []
   },
   "outputs": [],
   "source": []
  },
  {
   "cell_type": "code",
   "execution_count": 11,
   "id": "c646188a",
   "metadata": {
    "execution": {
     "iopub.execute_input": "2025-01-29T21:12:31.038457Z",
     "iopub.status.busy": "2025-01-29T21:12:31.038080Z",
     "iopub.status.idle": "2025-01-29T21:12:31.077831Z",
     "shell.execute_reply": "2025-01-29T21:12:31.076352Z"
    },
    "papermill": {
     "duration": 0.052055,
     "end_time": "2025-01-29T21:12:31.079674",
     "exception": false,
     "start_time": "2025-01-29T21:12:31.027619",
     "status": "completed"
    },
    "tags": []
   },
   "outputs": [
    {
     "name": "stdout",
     "output_type": "stream",
     "text": [
      "cabin_count     0     1    2    3    4  Total\n",
      "Survived                                     \n",
      "0            54.0   6.5  0.8  0.3  NaN   61.6\n",
      "1            23.1  13.7  1.0  0.3  0.2   38.4\n",
      "Total        77.1  20.2  1.8  0.7  0.2  100.0\n"
     ]
    }
   ],
   "source": [
    "#Checking cabin count for passengers to see if there is any indication of survival advantage\n",
    "train_data['cabin_count'] = train_data.Cabin.apply(lambda x: 0 if pd.isna(x) else len(x.split(' ')))\n",
    "train_data.cabin_count.value_counts()\n",
    "\n",
    "cabin_count_pivot = pd.pivot_table(train_data, index='Survived', columns='cabin_count', values='Ticket', margins=True, aggfunc='count', margins_name = 'Total')\n",
    "cabin_count_pivot_perc = (cabin_count_pivot / total_count * 100).round(1)\n",
    "print(cabin_count_pivot_perc)"
   ]
  },
  {
   "cell_type": "markdown",
   "id": "aa5cdbc2",
   "metadata": {
    "papermill": {
     "duration": 0.009022,
     "end_time": "2025-01-29T21:12:31.098041",
     "exception": false,
     "start_time": "2025-01-29T21:12:31.089019",
     "status": "completed"
    },
    "tags": []
   },
   "source": [
    "# 2. Example Case: Outcome Model based on Gender"
   ]
  },
  {
   "cell_type": "code",
   "execution_count": 12,
   "id": "52fcef1a",
   "metadata": {
    "execution": {
     "iopub.execute_input": "2025-01-29T21:12:31.118182Z",
     "iopub.status.busy": "2025-01-29T21:12:31.117791Z",
     "iopub.status.idle": "2025-01-29T21:12:31.127588Z",
     "shell.execute_reply": "2025-01-29T21:12:31.126371Z"
    },
    "papermill": {
     "duration": 0.021632,
     "end_time": "2025-01-29T21:12:31.129176",
     "exception": false,
     "start_time": "2025-01-29T21:12:31.107544",
     "status": "completed"
    },
    "tags": []
   },
   "outputs": [
    {
     "name": "stdout",
     "output_type": "stream",
     "text": [
      "74.204% of women survived the titanic incident\n",
      "18.891% of men survived the titanic incident\n"
     ]
    }
   ],
   "source": [
    "women = train_data.loc[train_data.Sex == 'female']['Survived']\n",
    "rate_women = np.round(100*sum(women)/len(women),3)\n",
    "\n",
    "print(f'{rate_women}% of women survived the titanic incident')\n",
    "\n",
    "men = train_data.loc[train_data.Sex == 'male']['Survived']\n",
    "rate_men = np.round(100*sum(men)/len(men),3)\n",
    "\n",
    "print(f'{rate_men}% of men survived the titanic incident')"
   ]
  },
  {
   "cell_type": "markdown",
   "id": "8c0d7806",
   "metadata": {
    "papermill": {
     "duration": 0.008971,
     "end_time": "2025-01-29T21:12:31.147354",
     "exception": false,
     "start_time": "2025-01-29T21:12:31.138383",
     "status": "completed"
    },
    "tags": []
   },
   "source": [
    "# 3. Example Case: Outcome Model based on Pclass, Sex, SibSp, Parch"
   ]
  },
  {
   "cell_type": "code",
   "execution_count": 13,
   "id": "b0ace1f5",
   "metadata": {
    "execution": {
     "iopub.execute_input": "2025-01-29T21:12:31.167503Z",
     "iopub.status.busy": "2025-01-29T21:12:31.167099Z",
     "iopub.status.idle": "2025-01-29T21:12:31.365028Z",
     "shell.execute_reply": "2025-01-29T21:12:31.363651Z"
    },
    "papermill": {
     "duration": 0.210297,
     "end_time": "2025-01-29T21:12:31.366950",
     "exception": false,
     "start_time": "2025-01-29T21:12:31.156653",
     "status": "completed"
    },
    "tags": []
   },
   "outputs": [
    {
     "name": "stdout",
     "output_type": "stream",
     "text": [
      "submission successfully saved... but to where... found it =)\n"
     ]
    }
   ],
   "source": [
    "y = train_data['Survived']\n",
    "\n",
    "features = ['Pclass', 'Sex', 'SibSp', 'Parch']\n",
    "X = pd.get_dummies(train_data[features])\n",
    "X_test = pd.get_dummies(test_data[features])\n",
    "\n",
    "model = RandomForestClassifier(n_estimators = 100, max_depth=5, random_state=1)\n",
    "model.fit(X, y)\n",
    "predictions = model.predict(X_test)\n",
    "\n",
    "output = pd.DataFrame({'PassengerId': test_data.PassengerId, 'Survived': predictions})\n",
    "output.to_csv('submission.csv', index=False)\n",
    "print('submission successfully saved... but to where... found it =)')"
   ]
  },
  {
   "cell_type": "markdown",
   "id": "ace855d1",
   "metadata": {
    "papermill": {
     "duration": 0.009138,
     "end_time": "2025-01-29T21:12:31.385654",
     "exception": false,
     "start_time": "2025-01-29T21:12:31.376516",
     "status": "completed"
    },
    "tags": []
   },
   "source": [
    "# 4. Case: Outcome Model based on Pclass, Sex, SibSp, Parch, Embarked"
   ]
  },
  {
   "cell_type": "code",
   "execution_count": 14,
   "id": "af24a344",
   "metadata": {
    "execution": {
     "iopub.execute_input": "2025-01-29T21:12:31.405485Z",
     "iopub.status.busy": "2025-01-29T21:12:31.405088Z",
     "iopub.status.idle": "2025-01-29T21:12:31.415444Z",
     "shell.execute_reply": "2025-01-29T21:12:31.414275Z"
    },
    "papermill": {
     "duration": 0.022457,
     "end_time": "2025-01-29T21:12:31.417323",
     "exception": false,
     "start_time": "2025-01-29T21:12:31.394866",
     "status": "completed"
    },
    "tags": []
   },
   "outputs": [
    {
     "name": "stdout",
     "output_type": "stream",
     "text": [
      "Training Data Status\n",
      "PassengerId      0\n",
      "Survived         0\n",
      "Pclass           0\n",
      "Name             0\n",
      "Sex              0\n",
      "Age            177\n",
      "SibSp            0\n",
      "Parch            0\n",
      "Ticket           0\n",
      "Fare             0\n",
      "Cabin          687\n",
      "Embarked         2\n",
      "cabin_count      0\n",
      "dtype: int64\n",
      "\n",
      "Test Data Status\n",
      "PassengerId      0\n",
      "Pclass           0\n",
      "Name             0\n",
      "Sex              0\n",
      "Age             86\n",
      "SibSp            0\n",
      "Parch            0\n",
      "Ticket           0\n",
      "Fare             1\n",
      "Cabin          327\n",
      "Embarked         0\n",
      "dtype: int64\n"
     ]
    }
   ],
   "source": [
    "#Quick check for variables that may be missing data in one form or another (Age, Cabin and Embarked each may require soem adjusting to use)\n",
    "\n",
    "#Train Data NaN values / missing values\n",
    "print('Training Data Status')\n",
    "print(train_data.isna().sum())\n",
    "print()\n",
    "\n",
    "#Test Data NaN values / missing values\n",
    "print('Test Data Status')\n",
    "print(test_data.isna().sum())"
   ]
  },
  {
   "cell_type": "code",
   "execution_count": 15,
   "id": "44061af6",
   "metadata": {
    "execution": {
     "iopub.execute_input": "2025-01-29T21:12:31.438548Z",
     "iopub.status.busy": "2025-01-29T21:12:31.438189Z",
     "iopub.status.idle": "2025-01-29T21:12:31.802919Z",
     "shell.execute_reply": "2025-01-29T21:12:31.801643Z"
    },
    "papermill": {
     "duration": 0.377125,
     "end_time": "2025-01-29T21:12:31.804651",
     "exception": false,
     "start_time": "2025-01-29T21:12:31.427526",
     "status": "completed"
    },
    "tags": []
   },
   "outputs": [
    {
     "name": "stdout",
     "output_type": "stream",
     "text": [
      "<class 'pandas.core.frame.DataFrame'>\n",
      "Index: 889 entries, 0 to 890\n",
      "Data columns (total 13 columns):\n",
      " #   Column       Non-Null Count  Dtype  \n",
      "---  ------       --------------  -----  \n",
      " 0   PassengerId  889 non-null    int64  \n",
      " 1   Survived     889 non-null    int64  \n",
      " 2   Pclass       889 non-null    int64  \n",
      " 3   Name         889 non-null    object \n",
      " 4   Sex          889 non-null    object \n",
      " 5   Age          712 non-null    float64\n",
      " 6   SibSp        889 non-null    int64  \n",
      " 7   Parch        889 non-null    int64  \n",
      " 8   Ticket       889 non-null    object \n",
      " 9   Fare         889 non-null    float64\n",
      " 10  Cabin        202 non-null    object \n",
      " 11  Embarked     889 non-null    object \n",
      " 12  cabin_count  889 non-null    int64  \n",
      "dtypes: float64(2), int64(6), object(5)\n",
      "memory usage: 97.2+ KB\n",
      "None\n",
      "done... again\n"
     ]
    }
   ],
   "source": [
    "train_data_2 = train_data.dropna(subset=['Embarked'], how='all')\n",
    "print(train_data_2.info())\n",
    "y = train_data_2['Survived']\n",
    "\n",
    "features = ['Pclass', 'Sex', 'SibSp', 'Parch', 'Embarked']\n",
    "X = pd.get_dummies(train_data_2[features])\n",
    "X_test = pd.get_dummies(test_data[features])\n",
    "\n",
    "model = RandomForestClassifier(n_estimators=200, max_depth=5, random_state=1) #Traying at estimators=200 for next submission\n",
    "model.fit(X, y)\n",
    "predictions = model.predict(X_test)\n",
    "\n",
    "output = pd.DataFrame({'PassengerId': test_data.PassengerId, 'Survived': predictions})\n",
    "output.to_csv('submission.csv', index=False)\n",
    "print('done... again')"
   ]
  }
 ],
 "metadata": {
  "kaggle": {
   "accelerator": "none",
   "dataSources": [
    {
     "databundleVersionId": 26502,
     "sourceId": 3136,
     "sourceType": "competition"
    }
   ],
   "dockerImageVersionId": 30839,
   "isGpuEnabled": false,
   "isInternetEnabled": true,
   "language": "python",
   "sourceType": "notebook"
  },
  "kernelspec": {
   "display_name": "Python 3",
   "language": "python",
   "name": "python3"
  },
  "language_info": {
   "codemirror_mode": {
    "name": "ipython",
    "version": 3
   },
   "file_extension": ".py",
   "mimetype": "text/x-python",
   "name": "python",
   "nbconvert_exporter": "python",
   "pygments_lexer": "ipython3",
   "version": "3.10.12"
  },
  "papermill": {
   "default_parameters": {},
   "duration": 18.089549,
   "end_time": "2025-01-29T21:12:32.937425",
   "environment_variables": {},
   "exception": null,
   "input_path": "__notebook__.ipynb",
   "output_path": "__notebook__.ipynb",
   "parameters": {},
   "start_time": "2025-01-29T21:12:14.847876",
   "version": "2.6.0"
  }
 },
 "nbformat": 4,
 "nbformat_minor": 5
}
