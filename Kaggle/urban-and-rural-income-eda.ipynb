{
 "cells": [
  {
   "cell_type": "markdown",
   "id": "2d4a1418",
   "metadata": {
    "papermill": {
     "duration": 0.004775,
     "end_time": "2025-01-22T00:37:47.589459",
     "exception": false,
     "start_time": "2025-01-22T00:37:47.584684",
     "status": "completed"
    },
    "tags": []
   },
   "source": [
    "# 1. Data Loading and Basis Info\n",
    "* Data loaded to df from '/kaggle/input/income-urban-vs-rural-for-each-county/Income_Urban_VS_Rural.csv'\n",
    "* 3,222 non-null records as expected from dataset notes"
   ]
  },
  {
   "cell_type": "code",
   "execution_count": 1,
   "id": "7303b262",
   "metadata": {
    "_cell_guid": "b1076dfc-b9ad-4769-8c92-a6c4dae69d19",
    "_uuid": "8f2839f25d086af736a60e9eeb907d3b93b6e0e5",
    "execution": {
     "iopub.execute_input": "2025-01-22T00:37:47.599301Z",
     "iopub.status.busy": "2025-01-22T00:37:47.598824Z",
     "iopub.status.idle": "2025-01-22T00:37:48.812534Z",
     "shell.execute_reply": "2025-01-22T00:37:48.811373Z"
    },
    "papermill": {
     "duration": 1.220296,
     "end_time": "2025-01-22T00:37:48.814211",
     "exception": false,
     "start_time": "2025-01-22T00:37:47.593915",
     "status": "completed"
    },
    "tags": []
   },
   "outputs": [
    {
     "name": "stdout",
     "output_type": "stream",
     "text": [
      "/kaggle/input/income-urban-vs-rural-for-each-county/Income_Urban_VS_Rural.csv\n"
     ]
    }
   ],
   "source": [
    "# This Python 3 environment comes with many helpful analytics libraries installed\n",
    "# It is defined by the kaggle/python Docker image: https://github.com/kaggle/docker-python\n",
    "# For example, here's several helpful packages to load\n",
    "\n",
    "import numpy as np # linear algebra\n",
    "import pandas as pd # data processing, CSV file I/O (e.g. pd.read_csv)\n",
    "\n",
    "# Input data files are available in the read-only \"../input/\" directory\n",
    "# For example, running this (by clicking run or pressing Shift+Enter) will list all files under the input directory\n",
    "\n",
    "import os\n",
    "for dirname, _, filenames in os.walk('/kaggle/input'):\n",
    "    for filename in filenames:\n",
    "        print(os.path.join(dirname, filename))\n",
    "\n",
    "# You can write up to 20GB to the current directory (/kaggle/working/) that gets preserved as output when you create a version using \"Save & Run All\" \n",
    "# You can also write temporary files to /kaggle/temp/, but they won't be saved outside of the current session"
   ]
  },
  {
   "cell_type": "code",
   "execution_count": 2,
   "id": "3c356c64",
   "metadata": {
    "execution": {
     "iopub.execute_input": "2025-01-22T00:37:48.820620Z",
     "iopub.status.busy": "2025-01-22T00:37:48.820152Z",
     "iopub.status.idle": "2025-01-22T00:37:51.783552Z",
     "shell.execute_reply": "2025-01-22T00:37:51.782453Z"
    },
    "papermill": {
     "duration": 2.968757,
     "end_time": "2025-01-22T00:37:51.785591",
     "exception": false,
     "start_time": "2025-01-22T00:37:48.816834",
     "status": "completed"
    },
    "tags": []
   },
   "outputs": [],
   "source": [
    "# Remove pesky warning messages + import graphing libraries\n",
    "import warnings\n",
    "warnings.filterwarnings('ignore')\n",
    "\n",
    "import matplotlib.pyplot as plt\n",
    "import seaborn as sns\n",
    "import plotly.graph_objects as go\n",
    "import plotly.express as px"
   ]
  },
  {
   "cell_type": "code",
   "execution_count": 3,
   "id": "21adf294",
   "metadata": {
    "execution": {
     "iopub.execute_input": "2025-01-22T00:37:51.793431Z",
     "iopub.status.busy": "2025-01-22T00:37:51.792897Z",
     "iopub.status.idle": "2025-01-22T00:37:51.861925Z",
     "shell.execute_reply": "2025-01-22T00:37:51.860668Z"
    },
    "papermill": {
     "duration": 0.075343,
     "end_time": "2025-01-22T00:37:51.863674",
     "exception": false,
     "start_time": "2025-01-22T00:37:51.788331",
     "status": "completed"
    },
    "tags": []
   },
   "outputs": [
    {
     "name": "stdout",
     "output_type": "stream",
     "text": [
      "<class 'pandas.core.frame.DataFrame'>\n",
      "RangeIndex: 3222 entries, 0 to 3221\n",
      "Data columns (total 8 columns):\n",
      " #   Column                   Non-Null Count  Dtype \n",
      "---  ------                   --------------  ----- \n",
      " 0   County                   3222 non-null   object\n",
      " 1   State                    3222 non-null   object\n",
      " 2   FIPS                     3222 non-null   int64 \n",
      " 3   State FIPS Code          3222 non-null   int64 \n",
      " 4   County FIPS Code         3222 non-null   int64 \n",
      " 5   Total Population         3222 non-null   int64 \n",
      " 6   Median Household Income  3222 non-null   int64 \n",
      " 7   Urban-Rural              3222 non-null   object\n",
      "dtypes: int64(5), object(3)\n",
      "memory usage: 201.5+ KB\n",
      "None\n",
      "           County    State  FIPS  State FIPS Code  County FIPS Code  \\\n",
      "0  Autauga County  Alabama  1001                1                 1   \n",
      "1  Baldwin County  Alabama  1003                1                 3   \n",
      "2  Barbour County  Alabama  1005                1                 5   \n",
      "3     Bibb County  Alabama  1007                1                 7   \n",
      "4   Blount County  Alabama  1009                1                 9   \n",
      "\n",
      "   Total Population  Median Household Income Urban-Rural  \n",
      "0             59285                    69841       Urban  \n",
      "1            239945                    75019       Urban  \n",
      "2             24757                    44290       Rural  \n",
      "3             22152                    51215       Rural  \n",
      "4             59292                    61096       Urban  \n"
     ]
    }
   ],
   "source": [
    "data = pd.read_csv('/kaggle/input/income-urban-vs-rural-for-each-county/Income_Urban_VS_Rural.csv')\n",
    "print(data.info()) #No Nulls Found\n",
    "print(data.head(5)) #Quick print of head of df\n"
   ]
  },
  {
   "cell_type": "markdown",
   "id": "decc4a5c",
   "metadata": {
    "papermill": {
     "duration": 0.002317,
     "end_time": "2025-01-22T00:37:51.868777",
     "exception": false,
     "start_time": "2025-01-22T00:37:51.866460",
     "status": "completed"
    },
    "tags": []
   },
   "source": [
    "# 2. Data Groupings to locate interesting targets"
   ]
  },
  {
   "cell_type": "code",
   "execution_count": 4,
   "id": "967335d7",
   "metadata": {
    "execution": {
     "iopub.execute_input": "2025-01-22T00:37:51.875039Z",
     "iopub.status.busy": "2025-01-22T00:37:51.874660Z",
     "iopub.status.idle": "2025-01-22T00:37:51.902711Z",
     "shell.execute_reply": "2025-01-22T00:37:51.901433Z"
    },
    "papermill": {
     "duration": 0.033036,
     "end_time": "2025-01-22T00:37:51.904339",
     "exception": false,
     "start_time": "2025-01-22T00:37:51.871303",
     "status": "completed"
    },
    "tags": []
   },
   "outputs": [
    {
     "name": "stdout",
     "output_type": "stream",
     "text": [
      "The Top 5 States by Population are as follows: \n",
      "\n",
      "             Total Population\n",
      "State                        \n",
      "California         39,242,785\n",
      "Texas              29,640,343\n",
      "Florida            21,928,881\n",
      "New York           19,872,319\n",
      "Pennsylvania       12,986,518\n",
      "\n",
      "\n",
      "\n",
      "The Top 5 States by Maximum Median Household Income are as follows: \n",
      "\n",
      "           Max Median Household Income\n",
      "State                                 \n",
      "Virginia                      $178,707\n",
      "California                    $159,674\n",
      "Maryland                      $146,982\n",
      "Colorado                      $145,737\n",
      "New York                      $143,408\n",
      "\n",
      "\n",
      "\n",
      "The Top 5 States by Taxable Personal Income are as follows: \n",
      "\n",
      "              Income Estimate\n",
      "State                        \n",
      "Alabama       $320.57 Billion\n",
      "Alaska         $65.82 Billion\n",
      "Arizona        $566.7 Billion\n",
      "Arkansas      $181.82 Billion\n",
      "California  $3,894.23 Billion\n"
     ]
    }
   ],
   "source": [
    "#Code to help the text display without truncation / wrapping\n",
    "pd.set_option('display.max_rows', None)\n",
    "pd.set_option('display.max_columns', 500)\n",
    "pd.set_option('display.width', 1000)\n",
    "pd.set_option('display.max_colwidth', 50)\n",
    "\n",
    "#Group 1: Top 5 states by population (sorted)\n",
    "Group1_df = data.groupby('State').agg({'Total Population': 'sum'}).sort_values(by='Total Population', ascending=False)\n",
    "Group1_df['Total Population'] = Group1_df['Total Population'].apply(lambda x: f'{x:,}')\n",
    "\n",
    "print('The Top 5 States by Population are as follows: \\n')\n",
    "print(Group1_df.head(5))\n",
    "print('\\n\\n')\n",
    "\n",
    "#Group 2: Top 5 states by maximum median household income (sorted)\n",
    "Group2_df = data.groupby('State').agg({'Median Household Income': 'max'}).sort_values(by='Median Household Income', ascending=False)\n",
    "Group2_df =Group2_df.rename(columns={'Median Household Income' : 'Max Median Household Income'})\n",
    "Group2_df['Max Median Household Income'] = Group2_df['Max Median Household Income'].apply(lambda x: f'${x:,}')\n",
    "print('The Top 5 States by Maximum Median Household Income are as follows: \\n')\n",
    "print(Group2_df.head(5))\n",
    "print('\\n\\n')\n",
    "\n",
    "#Group 3: Top 5 states by taxable personal income (e.g. median x population) (sorted)\n",
    "Group3_df = data\n",
    "Group3_df['Income Estimate'] = Group3_df['Total Population'] * Group3_df['Median Household Income']\n",
    "Group3_df = Group3_df.groupby('State').agg({'Income Estimate' : 'sum'})\n",
    "Group3_df['Income Estimate'] = (Group3_df['Income Estimate']/1000000000).round(2).apply(lambda x: f'${x:,} Billion')\n",
    "print('The Top 5 States by Taxable Personal Income are as follows: \\n')\n",
    "print(Group3_df.head(5))"
   ]
  },
  {
   "cell_type": "code",
   "execution_count": 5,
   "id": "4fb0e5c7",
   "metadata": {
    "execution": {
     "iopub.execute_input": "2025-01-22T00:37:51.911126Z",
     "iopub.status.busy": "2025-01-22T00:37:51.910771Z",
     "iopub.status.idle": "2025-01-22T00:37:52.075138Z",
     "shell.execute_reply": "2025-01-22T00:37:52.073661Z"
    },
    "papermill": {
     "duration": 0.169667,
     "end_time": "2025-01-22T00:37:52.076888",
     "exception": false,
     "start_time": "2025-01-22T00:37:51.907221",
     "status": "completed"
    },
    "tags": []
   },
   "outputs": [
    {
     "name": "stdout",
     "output_type": "stream",
     "text": [
      "The Top 2 Counties by Population from the Top 10 States are as follows: \n",
      "\n",
      "       State              County Total Population\n",
      "  California  Los Angeles County        9,848,406\n",
      "  California    San Diego County        3,282,782\n",
      "       Texas       Harris County        4,758,579\n",
      "       Texas       Dallas County        2,603,816\n",
      "    Illinois       DuPage County          927,263\n",
      "    Illinois         Cook County        5,185,812\n",
      "     Arizona     Maricopa County        4,491,987\n",
      "     Arizona         Pima County        1,049,947\n",
      "    New York        Kings County        2,646,306\n",
      "    New York       Queens County        2,330,124\n",
      "     Florida      Broward County        1,946,127\n",
      "     Florida   Miami-Dade County        2,685,296\n",
      "  Washington       Pierce County          924,106\n",
      "  Washington         King County        2,262,713\n",
      "    Michigan        Wayne County        1,773,767\n",
      "    Michigan      Oakland County        1,272,294\n",
      "Pennsylvania Philadelphia County        1,582,432\n",
      "Pennsylvania    Allegheny County        1,240,476\n",
      "      Nevada        Clark County        2,293,764\n",
      "      Nevada       Washoe County          491,770\n",
      "\n",
      "\n",
      "\n",
      "The Top 2 Counties by Median Household Income from the Top 10 States are as follows: \n",
      "\n",
      "        State             County Median Household Income\n",
      "     Virginia  Falls Church city                $154,734\n",
      "     Virginia     Loudoun County                $178,707\n",
      "   California Santa Clara County                $159,674\n",
      "   California   San Mateo County                $156,000\n",
      "     Maryland      Howard County                $146,982\n",
      "     Maryland     Calvert County                $132,059\n",
      "   New Jersey   Hunterdon County                $139,453\n",
      "   New Jersey    Somerset County                $135,960\n",
      "     Colorado     Douglas County                $145,737\n",
      "     Colorado      Elbert County                $129,477\n",
      "     New York      Nassau County                $143,408\n",
      "     New York     Suffolk County                $128,329\n",
      "         Utah      Summit County                $137,058\n",
      "         Utah      Morgan County                $126,092\n",
      "      Georgia     Forsyth County                $138,000\n",
      "      Georgia      Oconee County                $115,925\n",
      "Massachusetts   Middlesex County                $126,779\n",
      "Massachusetts     Norfolk County                $126,497\n",
      "    Minnesota      Carver County                $123,144\n",
      "    Minnesota       Scott County                $120,247\n",
      "\n",
      "\n",
      "\n"
     ]
    }
   ],
   "source": [
    "#Group 4: Top 2 counties per state by population (sorted)\n",
    "Group4_df = data.groupby('State').apply(lambda x: x.nlargest(2, 'Total Population')).reset_index(drop=True)\n",
    "\n",
    "state_sums_1 = Group4_df.groupby('State')['Total Population'].sum().sort_values(ascending=False) #generate order by max population to use for sorting output\n",
    "Group4_df['State'] = pd.Categorical(Group4_df['State'], categories=state_sums_1.index, ordered=True)\n",
    "Group4_df = Group4_df.sort_values(by='State')\n",
    "\n",
    "Group4_df = Group4_df[['State', 'County', 'Total Population']]\n",
    "Group4_df['Total Population'] = Group4_df['Total Population'].apply(lambda x: f'{x:,}')\n",
    "\n",
    "print('The Top 2 Counties by Population from the Top 10 States are as follows: \\n')\n",
    "print(Group4_df.head(20).to_string(index=False)) #hiding the index rather than going through another reset just for printing\n",
    "print('\\n\\n')\n",
    "\n",
    "\n",
    "#Group 5: Top 2 counties per state by median income (sorted)\n",
    "Group5_df = data.groupby('State').apply(lambda x: x.nlargest(2, 'Median Household Income')).reset_index(drop=True)\n",
    "\n",
    "state_sums_2 = Group5_df.groupby('State')['Median Household Income'].sum().sort_values(ascending=False) #generate order by max Median Household Income to use for sorting output\n",
    "Group5_df['State'] = pd.Categorical(Group5_df['State'], categories = state_sums_2.index, ordered=True)\n",
    "Group5_df = Group5_df.sort_values(by='State')\n",
    "\n",
    "Group5_df = Group5_df[['State', 'County', 'Median Household Income']]\n",
    "Group5_df['Median Household Income'] = Group5_df['Median Household Income'].apply(lambda x: f'${x:,}')\n",
    "print('The Top 2 Counties by Median Household Income from the Top 10 States are as follows: \\n')\n",
    "print(Group5_df.head(20).to_string(index=False))\n",
    "print('\\n\\n')"
   ]
  },
  {
   "cell_type": "code",
   "execution_count": 6,
   "id": "7760063b",
   "metadata": {
    "execution": {
     "iopub.execute_input": "2025-01-22T00:37:52.084080Z",
     "iopub.status.busy": "2025-01-22T00:37:52.083712Z",
     "iopub.status.idle": "2025-01-22T00:37:54.216363Z",
     "shell.execute_reply": "2025-01-22T00:37:54.215459Z"
    },
    "papermill": {
     "duration": 2.137945,
     "end_time": "2025-01-22T00:37:54.217951",
     "exception": false,
     "start_time": "2025-01-22T00:37:52.080006",
     "status": "completed"
    },
    "tags": []
   },
   "outputs": [
    {
     "name": "stdout",
     "output_type": "stream",
     "text": [
      "                                     State  State FIPS Code  Total Population  Median Household Income  Rank\n",
      "State                                                                                                       \n",
      "Alabama                            Alabama                1           5054253                  51551.0  49.0\n",
      "Alaska                              Alaska                2            733971                  78158.0  11.0\n",
      "Arizona                            Arizona                4           7268175                  60417.0  38.0\n",
      "Arkansas                          Arkansas                5           3032651                  50221.0  50.0\n",
      "California                      California                6          39242785                  80701.5   9.0\n",
      "Colorado                          Colorado                8           5810774                  71230.0  17.0\n",
      "Connecticut                    Connecticut                9           3598348                  87564.0   7.0\n",
      "Delaware                          Delaware               10           1005872                  78162.0  10.0\n",
      "District of Columbia  District of Columbia               11            672079                 106287.0   1.0\n",
      "Florida                            Florida               12          21928881                  66154.0  28.0\n",
      "Georgia                            Georgia               13          10822590                  55714.0  44.0\n",
      "Hawaii                              Hawaii               15           1445635                  93612.0   5.0\n",
      "Idaho                                Idaho               16           1893296                  65530.5  29.0\n",
      "Illinois                          Illinois               17          12692653                  65189.0  31.0\n",
      "Indiana                            Indiana               18           6811752                  66673.5  26.0\n",
      "Iowa                                  Iowa               19           3195937                  68704.0  23.0\n",
      "Kansas                              Kansas               20           2937569                  63136.0  35.0\n",
      "Kentucky                          Kentucky               21           4510725                  55017.0  45.0\n",
      "Louisiana                        Louisiana               22           4621025                  53177.0  47.0\n",
      "Maine                                Maine               23           1377400                  66180.0  27.0\n",
      "Maryland                          Maryland               24           6170738                  91025.0   6.0\n",
      "Massachusetts                Massachusetts               25           6992395                  94006.5   4.0\n",
      "Michigan                          Michigan               26          10051595                  61868.0  36.0\n",
      "Minnesota                        Minnesota               27           5713716                  71573.0  15.0\n",
      "Mississippi                    Mississippi               28           2951438                  48207.0  51.0\n",
      "Missouri                          Missouri               29           6168181                  57488.0  41.0\n",
      "Montana                            Montana               30           1105072                  61857.5  37.0\n",
      "Nebraska                          Nebraska               31           1965926                  65438.0  30.0\n",
      "Nevada                              Nevada               32           3141000                  73268.0  14.0\n",
      "New Hampshire                New Hampshire               33           1387834                  85292.5   8.0\n",
      "New Jersey                      New Jersey               34           9267014                  99596.0   3.0\n",
      "New Mexico                      New Mexico               35           2114768                  51765.0  48.0\n",
      "New York                          New York               36          19872319                  70695.0  21.0\n",
      "North Carolina              North Carolina               37          10584340                  58949.0  39.0\n",
      "North Dakota                  North Dakota               38            779361                  70827.0  20.0\n",
      "Ohio                                  Ohio               39          11780046                  65182.0  32.0\n",
      "Oklahoma                          Oklahoma               40           3995260                  57551.0  40.0\n",
      "Oregon                              Oregon               41           4238714                  67628.0  24.0\n",
      "Pennsylvania                  Pennsylvania               42          12986518                  64758.0  33.0\n",
      "Puerto Rico                    Puerto Rico               72           3254885                  22430.5  52.0\n",
      "Rhode Island                  Rhode Island               44           1095371                 100859.0   2.0\n",
      "South Carolina              South Carolina               45           5212774                  55753.5  43.0\n",
      "South Dakota                  South Dakota               46            899194                  70045.5  22.0\n",
      "Tennessee                        Tennessee               47           6986082                  57408.0  42.0\n",
      "Texas                                Texas               48          29640343                  63257.0  34.0\n",
      "Utah                                  Utah               49           3331187                  75000.0  12.0\n",
      "Vermont                            Vermont               50            645254                  73370.5  13.0\n",
      "Virginia                          Virginia               51           8657499                  66718.0  25.0\n",
      "Washington                      Washington               53           7740984                  71528.0  16.0\n",
      "West Virginia                West Virginia               54           1784462                  53475.0  46.0\n",
      "Wisconsin                        Wisconsin               55           5892023                  70946.5  18.0\n",
      "Wyoming                            Wyoming               56            579761                  70855.0  19.0\n"
     ]
    },
    {
     "data": {
      "text/html": [
       "<html>\n",
       "<head><meta charset=\"utf-8\" /></head>\n",
       "<body>\n",
       "    <div>            <script src=\"https://cdnjs.cloudflare.com/ajax/libs/mathjax/2.7.5/MathJax.js?config=TeX-AMS-MML_SVG\"></script><script type=\"text/javascript\">if (window.MathJax && window.MathJax.Hub && window.MathJax.Hub.Config) {window.MathJax.Hub.Config({SVG: {font: \"STIX-Web\"}});}</script>                <script type=\"text/javascript\">window.PlotlyConfig = {MathJaxConfig: 'local'};</script>\n",
       "        <script charset=\"utf-8\" src=\"https://cdn.plot.ly/plotly-2.35.2.min.js\"></script>                <div id=\"90af6b13-21b4-441f-b8e3-507e3e93f9d7\" class=\"plotly-graph-div\" style=\"height:525px; width:100%;\"></div>            <script type=\"text/javascript\">                                    window.PLOTLYENV=window.PLOTLYENV || {};                                    if (document.getElementById(\"90af6b13-21b4-441f-b8e3-507e3e93f9d7\")) {                    Plotly.newPlot(                        \"90af6b13-21b4-441f-b8e3-507e3e93f9d7\",                        [{\"coloraxis\":\"coloraxis\",\"customdata\":[[\"Alabama\",5054253],[\"Alaska\",733971],[\"Arizona\",7268175],[\"Arkansas\",3032651],[\"California\",39242785],[\"Colorado\",5810774],[\"Connecticut\",3598348],[\"Delaware\",1005872],[\"District of Columbia\",672079],[\"Florida\",21928881],[\"Georgia\",10822590],[\"Hawaii\",1445635],[\"Idaho\",1893296],[\"Illinois\",12692653],[\"Indiana\",6811752],[\"Iowa\",3195937],[\"Kansas\",2937569],[\"Kentucky\",4510725],[\"Louisiana\",4621025],[\"Maine\",1377400],[\"Maryland\",6170738],[\"Massachusetts\",6992395],[\"Michigan\",10051595],[\"Minnesota\",5713716],[\"Mississippi\",2951438],[\"Missouri\",6168181],[\"Montana\",1105072],[\"Nebraska\",1965926],[\"Nevada\",3141000],[\"New Hampshire\",1387834],[\"New Jersey\",9267014],[\"New Mexico\",2114768],[\"New York\",19872319],[\"North Carolina\",10584340],[\"North Dakota\",779361],[\"Ohio\",11780046],[\"Oklahoma\",3995260],[\"Oregon\",4238714],[\"Pennsylvania\",12986518],[\"Puerto Rico\",3254885],[\"Rhode Island\",1095371],[\"South Carolina\",5212774],[\"South Dakota\",899194],[\"Tennessee\",6986082],[\"Texas\",29640343],[\"Utah\",3331187],[\"Vermont\",645254],[\"Virginia\",8657499],[\"Washington\",7740984],[\"West Virginia\",1784462],[\"Wisconsin\",5892023],[\"Wyoming\",579761]],\"geo\":\"geo\",\"hovertemplate\":\"State=%{customdata[0]}\\u003cbr\\u003ePopulation=%{z}\\u003cextra\\u003e\\u003c\\u002fextra\\u003e\",\"locationmode\":\"USA-states\",\"locations\":[\"Alabama\",\"Alaska\",\"Arizona\",\"Arkansas\",\"California\",\"Colorado\",\"Connecticut\",\"Delaware\",\"District of Columbia\",\"Florida\",\"Georgia\",\"Hawaii\",\"Idaho\",\"Illinois\",\"Indiana\",\"Iowa\",\"Kansas\",\"Kentucky\",\"Louisiana\",\"Maine\",\"Maryland\",\"Massachusetts\",\"Michigan\",\"Minnesota\",\"Mississippi\",\"Missouri\",\"Montana\",\"Nebraska\",\"Nevada\",\"New Hampshire\",\"New Jersey\",\"New Mexico\",\"New York\",\"North Carolina\",\"North Dakota\",\"Ohio\",\"Oklahoma\",\"Oregon\",\"Pennsylvania\",\"Puerto Rico\",\"Rhode Island\",\"South Carolina\",\"South Dakota\",\"Tennessee\",\"Texas\",\"Utah\",\"Vermont\",\"Virginia\",\"Washington\",\"West Virginia\",\"Wisconsin\",\"Wyoming\"],\"name\":\"\",\"z\":[5054253,733971,7268175,3032651,39242785,5810774,3598348,1005872,672079,21928881,10822590,1445635,1893296,12692653,6811752,3195937,2937569,4510725,4621025,1377400,6170738,6992395,10051595,5713716,2951438,6168181,1105072,1965926,3141000,1387834,9267014,2114768,19872319,10584340,779361,11780046,3995260,4238714,12986518,3254885,1095371,5212774,899194,6986082,29640343,3331187,645254,8657499,7740984,1784462,5892023,579761],\"type\":\"choropleth\"}],                        {\"template\":{\"data\":{\"histogram2dcontour\":[{\"type\":\"histogram2dcontour\",\"colorbar\":{\"outlinewidth\":0,\"ticks\":\"\"},\"colorscale\":[[0.0,\"#0d0887\"],[0.1111111111111111,\"#46039f\"],[0.2222222222222222,\"#7201a8\"],[0.3333333333333333,\"#9c179e\"],[0.4444444444444444,\"#bd3786\"],[0.5555555555555556,\"#d8576b\"],[0.6666666666666666,\"#ed7953\"],[0.7777777777777778,\"#fb9f3a\"],[0.8888888888888888,\"#fdca26\"],[1.0,\"#f0f921\"]]}],\"choropleth\":[{\"type\":\"choropleth\",\"colorbar\":{\"outlinewidth\":0,\"ticks\":\"\"}}],\"histogram2d\":[{\"type\":\"histogram2d\",\"colorbar\":{\"outlinewidth\":0,\"ticks\":\"\"},\"colorscale\":[[0.0,\"#0d0887\"],[0.1111111111111111,\"#46039f\"],[0.2222222222222222,\"#7201a8\"],[0.3333333333333333,\"#9c179e\"],[0.4444444444444444,\"#bd3786\"],[0.5555555555555556,\"#d8576b\"],[0.6666666666666666,\"#ed7953\"],[0.7777777777777778,\"#fb9f3a\"],[0.8888888888888888,\"#fdca26\"],[1.0,\"#f0f921\"]]}],\"heatmap\":[{\"type\":\"heatmap\",\"colorbar\":{\"outlinewidth\":0,\"ticks\":\"\"},\"colorscale\":[[0.0,\"#0d0887\"],[0.1111111111111111,\"#46039f\"],[0.2222222222222222,\"#7201a8\"],[0.3333333333333333,\"#9c179e\"],[0.4444444444444444,\"#bd3786\"],[0.5555555555555556,\"#d8576b\"],[0.6666666666666666,\"#ed7953\"],[0.7777777777777778,\"#fb9f3a\"],[0.8888888888888888,\"#fdca26\"],[1.0,\"#f0f921\"]]}],\"heatmapgl\":[{\"type\":\"heatmapgl\",\"colorbar\":{\"outlinewidth\":0,\"ticks\":\"\"},\"colorscale\":[[0.0,\"#0d0887\"],[0.1111111111111111,\"#46039f\"],[0.2222222222222222,\"#7201a8\"],[0.3333333333333333,\"#9c179e\"],[0.4444444444444444,\"#bd3786\"],[0.5555555555555556,\"#d8576b\"],[0.6666666666666666,\"#ed7953\"],[0.7777777777777778,\"#fb9f3a\"],[0.8888888888888888,\"#fdca26\"],[1.0,\"#f0f921\"]]}],\"contourcarpet\":[{\"type\":\"contourcarpet\",\"colorbar\":{\"outlinewidth\":0,\"ticks\":\"\"}}],\"contour\":[{\"type\":\"contour\",\"colorbar\":{\"outlinewidth\":0,\"ticks\":\"\"},\"colorscale\":[[0.0,\"#0d0887\"],[0.1111111111111111,\"#46039f\"],[0.2222222222222222,\"#7201a8\"],[0.3333333333333333,\"#9c179e\"],[0.4444444444444444,\"#bd3786\"],[0.5555555555555556,\"#d8576b\"],[0.6666666666666666,\"#ed7953\"],[0.7777777777777778,\"#fb9f3a\"],[0.8888888888888888,\"#fdca26\"],[1.0,\"#f0f921\"]]}],\"surface\":[{\"type\":\"surface\",\"colorbar\":{\"outlinewidth\":0,\"ticks\":\"\"},\"colorscale\":[[0.0,\"#0d0887\"],[0.1111111111111111,\"#46039f\"],[0.2222222222222222,\"#7201a8\"],[0.3333333333333333,\"#9c179e\"],[0.4444444444444444,\"#bd3786\"],[0.5555555555555556,\"#d8576b\"],[0.6666666666666666,\"#ed7953\"],[0.7777777777777778,\"#fb9f3a\"],[0.8888888888888888,\"#fdca26\"],[1.0,\"#f0f921\"]]}],\"mesh3d\":[{\"type\":\"mesh3d\",\"colorbar\":{\"outlinewidth\":0,\"ticks\":\"\"}}],\"scatter\":[{\"fillpattern\":{\"fillmode\":\"overlay\",\"size\":10,\"solidity\":0.2},\"type\":\"scatter\"}],\"parcoords\":[{\"type\":\"parcoords\",\"line\":{\"colorbar\":{\"outlinewidth\":0,\"ticks\":\"\"}}}],\"scatterpolargl\":[{\"type\":\"scatterpolargl\",\"marker\":{\"colorbar\":{\"outlinewidth\":0,\"ticks\":\"\"}}}],\"bar\":[{\"error_x\":{\"color\":\"#2a3f5f\"},\"error_y\":{\"color\":\"#2a3f5f\"},\"marker\":{\"line\":{\"color\":\"#E5ECF6\",\"width\":0.5},\"pattern\":{\"fillmode\":\"overlay\",\"size\":10,\"solidity\":0.2}},\"type\":\"bar\"}],\"scattergeo\":[{\"type\":\"scattergeo\",\"marker\":{\"colorbar\":{\"outlinewidth\":0,\"ticks\":\"\"}}}],\"scatterpolar\":[{\"type\":\"scatterpolar\",\"marker\":{\"colorbar\":{\"outlinewidth\":0,\"ticks\":\"\"}}}],\"histogram\":[{\"marker\":{\"pattern\":{\"fillmode\":\"overlay\",\"size\":10,\"solidity\":0.2}},\"type\":\"histogram\"}],\"scattergl\":[{\"type\":\"scattergl\",\"marker\":{\"colorbar\":{\"outlinewidth\":0,\"ticks\":\"\"}}}],\"scatter3d\":[{\"type\":\"scatter3d\",\"line\":{\"colorbar\":{\"outlinewidth\":0,\"ticks\":\"\"}},\"marker\":{\"colorbar\":{\"outlinewidth\":0,\"ticks\":\"\"}}}],\"scattermapbox\":[{\"type\":\"scattermapbox\",\"marker\":{\"colorbar\":{\"outlinewidth\":0,\"ticks\":\"\"}}}],\"scatterternary\":[{\"type\":\"scatterternary\",\"marker\":{\"colorbar\":{\"outlinewidth\":0,\"ticks\":\"\"}}}],\"scattercarpet\":[{\"type\":\"scattercarpet\",\"marker\":{\"colorbar\":{\"outlinewidth\":0,\"ticks\":\"\"}}}],\"carpet\":[{\"aaxis\":{\"endlinecolor\":\"#2a3f5f\",\"gridcolor\":\"white\",\"linecolor\":\"white\",\"minorgridcolor\":\"white\",\"startlinecolor\":\"#2a3f5f\"},\"baxis\":{\"endlinecolor\":\"#2a3f5f\",\"gridcolor\":\"white\",\"linecolor\":\"white\",\"minorgridcolor\":\"white\",\"startlinecolor\":\"#2a3f5f\"},\"type\":\"carpet\"}],\"table\":[{\"cells\":{\"fill\":{\"color\":\"#EBF0F8\"},\"line\":{\"color\":\"white\"}},\"header\":{\"fill\":{\"color\":\"#C8D4E3\"},\"line\":{\"color\":\"white\"}},\"type\":\"table\"}],\"barpolar\":[{\"marker\":{\"line\":{\"color\":\"#E5ECF6\",\"width\":0.5},\"pattern\":{\"fillmode\":\"overlay\",\"size\":10,\"solidity\":0.2}},\"type\":\"barpolar\"}],\"pie\":[{\"automargin\":true,\"type\":\"pie\"}]},\"layout\":{\"autotypenumbers\":\"strict\",\"colorway\":[\"#636efa\",\"#EF553B\",\"#00cc96\",\"#ab63fa\",\"#FFA15A\",\"#19d3f3\",\"#FF6692\",\"#B6E880\",\"#FF97FF\",\"#FECB52\"],\"font\":{\"color\":\"#2a3f5f\"},\"hovermode\":\"closest\",\"hoverlabel\":{\"align\":\"left\"},\"paper_bgcolor\":\"white\",\"plot_bgcolor\":\"#E5ECF6\",\"polar\":{\"bgcolor\":\"#E5ECF6\",\"angularaxis\":{\"gridcolor\":\"white\",\"linecolor\":\"white\",\"ticks\":\"\"},\"radialaxis\":{\"gridcolor\":\"white\",\"linecolor\":\"white\",\"ticks\":\"\"}},\"ternary\":{\"bgcolor\":\"#E5ECF6\",\"aaxis\":{\"gridcolor\":\"white\",\"linecolor\":\"white\",\"ticks\":\"\"},\"baxis\":{\"gridcolor\":\"white\",\"linecolor\":\"white\",\"ticks\":\"\"},\"caxis\":{\"gridcolor\":\"white\",\"linecolor\":\"white\",\"ticks\":\"\"}},\"coloraxis\":{\"colorbar\":{\"outlinewidth\":0,\"ticks\":\"\"}},\"colorscale\":{\"sequential\":[[0.0,\"#0d0887\"],[0.1111111111111111,\"#46039f\"],[0.2222222222222222,\"#7201a8\"],[0.3333333333333333,\"#9c179e\"],[0.4444444444444444,\"#bd3786\"],[0.5555555555555556,\"#d8576b\"],[0.6666666666666666,\"#ed7953\"],[0.7777777777777778,\"#fb9f3a\"],[0.8888888888888888,\"#fdca26\"],[1.0,\"#f0f921\"]],\"sequentialminus\":[[0.0,\"#0d0887\"],[0.1111111111111111,\"#46039f\"],[0.2222222222222222,\"#7201a8\"],[0.3333333333333333,\"#9c179e\"],[0.4444444444444444,\"#bd3786\"],[0.5555555555555556,\"#d8576b\"],[0.6666666666666666,\"#ed7953\"],[0.7777777777777778,\"#fb9f3a\"],[0.8888888888888888,\"#fdca26\"],[1.0,\"#f0f921\"]],\"diverging\":[[0,\"#8e0152\"],[0.1,\"#c51b7d\"],[0.2,\"#de77ae\"],[0.3,\"#f1b6da\"],[0.4,\"#fde0ef\"],[0.5,\"#f7f7f7\"],[0.6,\"#e6f5d0\"],[0.7,\"#b8e186\"],[0.8,\"#7fbc41\"],[0.9,\"#4d9221\"],[1,\"#276419\"]]},\"xaxis\":{\"gridcolor\":\"white\",\"linecolor\":\"white\",\"ticks\":\"\",\"title\":{\"standoff\":15},\"zerolinecolor\":\"white\",\"automargin\":true,\"zerolinewidth\":2},\"yaxis\":{\"gridcolor\":\"white\",\"linecolor\":\"white\",\"ticks\":\"\",\"title\":{\"standoff\":15},\"zerolinecolor\":\"white\",\"automargin\":true,\"zerolinewidth\":2},\"scene\":{\"xaxis\":{\"backgroundcolor\":\"#E5ECF6\",\"gridcolor\":\"white\",\"linecolor\":\"white\",\"showbackground\":true,\"ticks\":\"\",\"zerolinecolor\":\"white\",\"gridwidth\":2},\"yaxis\":{\"backgroundcolor\":\"#E5ECF6\",\"gridcolor\":\"white\",\"linecolor\":\"white\",\"showbackground\":true,\"ticks\":\"\",\"zerolinecolor\":\"white\",\"gridwidth\":2},\"zaxis\":{\"backgroundcolor\":\"#E5ECF6\",\"gridcolor\":\"white\",\"linecolor\":\"white\",\"showbackground\":true,\"ticks\":\"\",\"zerolinecolor\":\"white\",\"gridwidth\":2}},\"shapedefaults\":{\"line\":{\"color\":\"#2a3f5f\"}},\"annotationdefaults\":{\"arrowcolor\":\"#2a3f5f\",\"arrowhead\":0,\"arrowwidth\":1},\"geo\":{\"bgcolor\":\"white\",\"landcolor\":\"#E5ECF6\",\"subunitcolor\":\"white\",\"showland\":true,\"showlakes\":true,\"lakecolor\":\"white\"},\"title\":{\"x\":0.05},\"mapbox\":{\"style\":\"light\"}}},\"geo\":{\"domain\":{\"x\":[0.0,1.0],\"y\":[0.0,1.0]},\"center\":{},\"scope\":\"usa\"},\"coloraxis\":{\"colorbar\":{\"title\":{\"text\":\"Population\"}},\"colorscale\":[[0.0,\"#440154\"],[0.1111111111111111,\"#482878\"],[0.2222222222222222,\"#3e4989\"],[0.3333333333333333,\"#31688e\"],[0.4444444444444444,\"#26828e\"],[0.5555555555555556,\"#1f9e89\"],[0.6666666666666666,\"#35b779\"],[0.7777777777777778,\"#6ece58\"],[0.8888888888888888,\"#b5de2b\"],[1.0,\"#fde725\"]]},\"legend\":{\"tracegroupgap\":0},\"title\":{\"text\":\"Heat Map of Total Population by State\"}},                        {\"responsive\": true}                    ).then(function(){\n",
       "                            \n",
       "var gd = document.getElementById('90af6b13-21b4-441f-b8e3-507e3e93f9d7');\n",
       "var x = new MutationObserver(function (mutations, observer) {{\n",
       "        var display = window.getComputedStyle(gd).display;\n",
       "        if (!display || display === 'none') {{\n",
       "            console.log([gd, 'removed!']);\n",
       "            Plotly.purge(gd);\n",
       "            observer.disconnect();\n",
       "        }}\n",
       "}});\n",
       "\n",
       "// Listen for the removal of the full notebook cells\n",
       "var notebookContainer = gd.closest('#notebook-container');\n",
       "if (notebookContainer) {{\n",
       "    x.observe(notebookContainer, {childList: true});\n",
       "}}\n",
       "\n",
       "// Listen for the clearing of the current output cell\n",
       "var outputEl = gd.closest('.output');\n",
       "if (outputEl) {{\n",
       "    x.observe(outputEl, {childList: true});\n",
       "}}\n",
       "\n",
       "                        })                };                            </script>        </div>\n",
       "</body>\n",
       "</html>"
      ]
     },
     "metadata": {},
     "output_type": "display_data"
    }
   ],
   "source": [
    "#not working, needs more love\n",
    "\n",
    "state_df=data.groupby(\"State\").agg({\n",
    "        \"State\": 'first',\n",
    "        \"State FIPS Code\": \"first\",  # Assuming the FIPS code is consistent for each state\n",
    "        \"Total Population\": \"sum\",\n",
    "        \"Median Household Income\": \"median\"})\n",
    "\n",
    "state_df['Rank'] = state_df['Median Household Income'].rank(ascending=False)\n",
    "print(state_df)\n",
    "\n",
    "fig = px.choropleth(\n",
    "    state_df,\n",
    "    locations='State',\n",
    "    locationmode='USA-states',\n",
    "    color='Total Population',\n",
    "    scope='usa',\n",
    "    title='Heat Map of Total Population by State',\n",
    "    color_continuous_scale='Viridis',\n",
    "    hover_data={'State': True, 'Total Population': True},\n",
    "    labels={'State': 'State', 'Total Population': 'Population'}\n",
    ")\n",
    "\n",
    "fig.show()"
   ]
  }
 ],
 "metadata": {
  "kaggle": {
   "accelerator": "none",
   "dataSources": [
    {
     "datasetId": 6471397,
     "sourceId": 10454063,
     "sourceType": "datasetVersion"
    }
   ],
   "dockerImageVersionId": 30839,
   "isGpuEnabled": false,
   "isInternetEnabled": true,
   "language": "python",
   "sourceType": "notebook"
  },
  "kernelspec": {
   "display_name": "Python 3",
   "language": "python",
   "name": "python3"
  },
  "language_info": {
   "codemirror_mode": {
    "name": "ipython",
    "version": 3
   },
   "file_extension": ".py",
   "mimetype": "text/x-python",
   "name": "python",
   "nbconvert_exporter": "python",
   "pygments_lexer": "ipython3",
   "version": "3.10.12"
  },
  "papermill": {
   "default_parameters": {},
   "duration": 10.336816,
   "end_time": "2025-01-22T00:37:55.041385",
   "environment_variables": {},
   "exception": null,
   "input_path": "__notebook__.ipynb",
   "output_path": "__notebook__.ipynb",
   "parameters": {},
   "start_time": "2025-01-22T00:37:44.704569",
   "version": "2.6.0"
  }
 },
 "nbformat": 4,
 "nbformat_minor": 5
}
