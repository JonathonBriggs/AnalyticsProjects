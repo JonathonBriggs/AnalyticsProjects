{
 "cells": [
  {
   "cell_type": "markdown",
   "id": "824c5445",
   "metadata": {
    "papermill": {
     "duration": 0.002868,
     "end_time": "2025-01-22T00:28:20.418960",
     "exception": false,
     "start_time": "2025-01-22T00:28:20.416092",
     "status": "completed"
    },
    "tags": []
   },
   "source": [
    "# 1. Data Loading and Basis Info\n",
    "* Data loaded to df from '/kaggle/input/income-urban-vs-rural-for-each-county/Income_Urban_VS_Rural.csv'\n",
    "* 3,222 non-null records as expected from dataset notes"
   ]
  },
  {
   "cell_type": "code",
   "execution_count": 1,
   "id": "0840bb02",
   "metadata": {
    "_cell_guid": "b1076dfc-b9ad-4769-8c92-a6c4dae69d19",
    "_uuid": "8f2839f25d086af736a60e9eeb907d3b93b6e0e5",
    "execution": {
     "iopub.execute_input": "2025-01-22T00:28:20.425154Z",
     "iopub.status.busy": "2025-01-22T00:28:20.424807Z",
     "iopub.status.idle": "2025-01-22T00:28:21.486445Z",
     "shell.execute_reply": "2025-01-22T00:28:21.484962Z"
    },
    "papermill": {
     "duration": 1.066809,
     "end_time": "2025-01-22T00:28:21.488347",
     "exception": false,
     "start_time": "2025-01-22T00:28:20.421538",
     "status": "completed"
    },
    "tags": []
   },
   "outputs": [
    {
     "name": "stdout",
     "output_type": "stream",
     "text": [
      "/kaggle/input/income-urban-vs-rural-for-each-county/Income_Urban_VS_Rural.csv\n"
     ]
    }
   ],
   "source": [
    "# This Python 3 environment comes with many helpful analytics libraries installed\n",
    "# It is defined by the kaggle/python Docker image: https://github.com/kaggle/docker-python\n",
    "# For example, here's several helpful packages to load\n",
    "\n",
    "import numpy as np # linear algebra\n",
    "import pandas as pd # data processing, CSV file I/O (e.g. pd.read_csv)\n",
    "\n",
    "# Input data files are available in the read-only \"../input/\" directory\n",
    "# For example, running this (by clicking run or pressing Shift+Enter) will list all files under the input directory\n",
    "\n",
    "import os\n",
    "for dirname, _, filenames in os.walk('/kaggle/input'):\n",
    "    for filename in filenames:\n",
    "        print(os.path.join(dirname, filename))\n",
    "\n",
    "# You can write up to 20GB to the current directory (/kaggle/working/) that gets preserved as output when you create a version using \"Save & Run All\" \n",
    "# You can also write temporary files to /kaggle/temp/, but they won't be saved outside of the current session"
   ]
  },
  {
   "cell_type": "code",
   "execution_count": 2,
   "id": "a4f939f8",
   "metadata": {
    "execution": {
     "iopub.execute_input": "2025-01-22T00:28:21.494750Z",
     "iopub.status.busy": "2025-01-22T00:28:21.494215Z",
     "iopub.status.idle": "2025-01-22T00:28:23.220188Z",
     "shell.execute_reply": "2025-01-22T00:28:23.219192Z"
    },
    "papermill": {
     "duration": 1.731145,
     "end_time": "2025-01-22T00:28:23.222153",
     "exception": false,
     "start_time": "2025-01-22T00:28:21.491008",
     "status": "completed"
    },
    "tags": []
   },
   "outputs": [],
   "source": [
    "# Remove pesky warning messages + import graphing libraries\n",
    "import warnings\n",
    "warnings.filterwarnings('ignore')\n",
    "\n",
    "import matplotlib.pyplot as plt\n",
    "import seaborn as sns"
   ]
  },
  {
   "cell_type": "code",
   "execution_count": 3,
   "id": "c0e24ce2",
   "metadata": {
    "execution": {
     "iopub.execute_input": "2025-01-22T00:28:23.228418Z",
     "iopub.status.busy": "2025-01-22T00:28:23.227972Z",
     "iopub.status.idle": "2025-01-22T00:28:23.291694Z",
     "shell.execute_reply": "2025-01-22T00:28:23.290178Z"
    },
    "papermill": {
     "duration": 0.068984,
     "end_time": "2025-01-22T00:28:23.293768",
     "exception": false,
     "start_time": "2025-01-22T00:28:23.224784",
     "status": "completed"
    },
    "tags": []
   },
   "outputs": [
    {
     "name": "stdout",
     "output_type": "stream",
     "text": [
      "<class 'pandas.core.frame.DataFrame'>\n",
      "RangeIndex: 3222 entries, 0 to 3221\n",
      "Data columns (total 8 columns):\n",
      " #   Column                   Non-Null Count  Dtype \n",
      "---  ------                   --------------  ----- \n",
      " 0   County                   3222 non-null   object\n",
      " 1   State                    3222 non-null   object\n",
      " 2   FIPS                     3222 non-null   int64 \n",
      " 3   State FIPS Code          3222 non-null   int64 \n",
      " 4   County FIPS Code         3222 non-null   int64 \n",
      " 5   Total Population         3222 non-null   int64 \n",
      " 6   Median Household Income  3222 non-null   int64 \n",
      " 7   Urban-Rural              3222 non-null   object\n",
      "dtypes: int64(5), object(3)\n",
      "memory usage: 201.5+ KB\n",
      "None\n",
      "           County    State  FIPS  State FIPS Code  County FIPS Code  \\\n",
      "0  Autauga County  Alabama  1001                1                 1   \n",
      "1  Baldwin County  Alabama  1003                1                 3   \n",
      "2  Barbour County  Alabama  1005                1                 5   \n",
      "3     Bibb County  Alabama  1007                1                 7   \n",
      "4   Blount County  Alabama  1009                1                 9   \n",
      "\n",
      "   Total Population  Median Household Income Urban-Rural  \n",
      "0             59285                    69841       Urban  \n",
      "1            239945                    75019       Urban  \n",
      "2             24757                    44290       Rural  \n",
      "3             22152                    51215       Rural  \n",
      "4             59292                    61096       Urban  \n"
     ]
    }
   ],
   "source": [
    "data = pd.read_csv('/kaggle/input/income-urban-vs-rural-for-each-county/Income_Urban_VS_Rural.csv')\n",
    "print(data.info()) #No Nulls Found\n",
    "print(data.head(5)) #Quick print of head of df\n"
   ]
  },
  {
   "cell_type": "markdown",
   "id": "e44f5ffb",
   "metadata": {
    "papermill": {
     "duration": 0.003952,
     "end_time": "2025-01-22T00:28:23.302191",
     "exception": false,
     "start_time": "2025-01-22T00:28:23.298239",
     "status": "completed"
    },
    "tags": []
   },
   "source": [
    "# 2. Data Groupings to locate interesting targets"
   ]
  },
  {
   "cell_type": "code",
   "execution_count": 4,
   "id": "94f09e7c",
   "metadata": {
    "execution": {
     "iopub.execute_input": "2025-01-22T00:28:23.312229Z",
     "iopub.status.busy": "2025-01-22T00:28:23.311880Z",
     "iopub.status.idle": "2025-01-22T00:28:23.340919Z",
     "shell.execute_reply": "2025-01-22T00:28:23.339036Z"
    },
    "papermill": {
     "duration": 0.037049,
     "end_time": "2025-01-22T00:28:23.343401",
     "exception": false,
     "start_time": "2025-01-22T00:28:23.306352",
     "status": "completed"
    },
    "tags": []
   },
   "outputs": [
    {
     "name": "stdout",
     "output_type": "stream",
     "text": [
      "The Top 5 States by Population are as follows: \n",
      "\n",
      "             Total Population\n",
      "State                        \n",
      "California         39,242,785\n",
      "Texas              29,640,343\n",
      "Florida            21,928,881\n",
      "New York           19,872,319\n",
      "Pennsylvania       12,986,518\n",
      "\n",
      "\n",
      "\n",
      "The Top 5 States by Maximum Median Household Income are as follows: \n",
      "\n",
      "           Max Median Household Income\n",
      "State                                 \n",
      "Virginia                      $178,707\n",
      "California                    $159,674\n",
      "Maryland                      $146,982\n",
      "Colorado                      $145,737\n",
      "New York                      $143,408\n",
      "\n",
      "\n",
      "\n",
      "The Top 5 States by Taxable Personal Income are as follows: \n",
      "\n",
      "              Income Estimate\n",
      "State                        \n",
      "Alabama       $320.57 Billion\n",
      "Alaska         $65.82 Billion\n",
      "Arizona        $566.7 Billion\n",
      "Arkansas      $181.82 Billion\n",
      "California  $3,894.23 Billion\n"
     ]
    }
   ],
   "source": [
    "#Code to help the text display without truncation / wrapping\n",
    "pd.set_option('display.max_rows', None)\n",
    "pd.set_option('display.max_columns', 500)\n",
    "pd.set_option('display.width', 1000)\n",
    "pd.set_option('display.max_colwidth', 50)\n",
    "\n",
    "#Group 1: Top 5 states by population (sorted)\n",
    "Group1_df = data.groupby('State').agg({'Total Population': 'sum'}).sort_values(by='Total Population', ascending=False)\n",
    "Group1_df['Total Population'] = Group1_df['Total Population'].apply(lambda x: f'{x:,}')\n",
    "\n",
    "print('The Top 5 States by Population are as follows: \\n')\n",
    "print(Group1_df.head(5))\n",
    "print('\\n\\n')\n",
    "\n",
    "#Group 2: Top 5 states by maximum median household income (sorted)\n",
    "Group2_df = data.groupby('State').agg({'Median Household Income': 'max'}).sort_values(by='Median Household Income', ascending=False)\n",
    "Group2_df =Group2_df.rename(columns={'Median Household Income' : 'Max Median Household Income'})\n",
    "Group2_df['Max Median Household Income'] = Group2_df['Max Median Household Income'].apply(lambda x: f'${x:,}')\n",
    "print('The Top 5 States by Maximum Median Household Income are as follows: \\n')\n",
    "print(Group2_df.head(5))\n",
    "print('\\n\\n')\n",
    "\n",
    "#Group 3: Top 5 states by taxable personal income (e.g. median x population) (sorted)\n",
    "Group3_df = data\n",
    "Group3_df['Income Estimate'] = Group3_df['Total Population'] * Group3_df['Median Household Income']\n",
    "Group3_df = Group3_df.groupby('State').agg({'Income Estimate' : 'sum'})\n",
    "Group3_df['Income Estimate'] = (Group3_df['Income Estimate']/1000000000).round(2).apply(lambda x: f'${x:,} Billion')\n",
    "print('The Top 5 States by Taxable Personal Income are as follows: \\n')\n",
    "print(Group3_df.head(5))"
   ]
  },
  {
   "cell_type": "code",
   "execution_count": 5,
   "id": "a91b3c3e",
   "metadata": {
    "execution": {
     "iopub.execute_input": "2025-01-22T00:28:23.353982Z",
     "iopub.status.busy": "2025-01-22T00:28:23.353517Z",
     "iopub.status.idle": "2025-01-22T00:28:23.526683Z",
     "shell.execute_reply": "2025-01-22T00:28:23.525379Z"
    },
    "papermill": {
     "duration": 0.180338,
     "end_time": "2025-01-22T00:28:23.528438",
     "exception": false,
     "start_time": "2025-01-22T00:28:23.348100",
     "status": "completed"
    },
    "tags": []
   },
   "outputs": [
    {
     "name": "stdout",
     "output_type": "stream",
     "text": [
      "The Top 2 Counties by Population from the Top 10 States are as follows: \n",
      "\n",
      "       State              County Total Population\n",
      "  California  Los Angeles County        9,848,406\n",
      "  California    San Diego County        3,282,782\n",
      "       Texas       Harris County        4,758,579\n",
      "       Texas       Dallas County        2,603,816\n",
      "    Illinois       DuPage County          927,263\n",
      "    Illinois         Cook County        5,185,812\n",
      "     Arizona     Maricopa County        4,491,987\n",
      "     Arizona         Pima County        1,049,947\n",
      "    New York        Kings County        2,646,306\n",
      "    New York       Queens County        2,330,124\n",
      "     Florida      Broward County        1,946,127\n",
      "     Florida   Miami-Dade County        2,685,296\n",
      "  Washington       Pierce County          924,106\n",
      "  Washington         King County        2,262,713\n",
      "    Michigan        Wayne County        1,773,767\n",
      "    Michigan      Oakland County        1,272,294\n",
      "Pennsylvania Philadelphia County        1,582,432\n",
      "Pennsylvania    Allegheny County        1,240,476\n",
      "      Nevada        Clark County        2,293,764\n",
      "      Nevada       Washoe County          491,770\n",
      "\n",
      "\n",
      "\n",
      "The Top 2 Counties by Median Household Income from the Top 10 States are as follows: \n",
      "\n",
      "        State             County Median Household Income\n",
      "     Virginia  Falls Church city                $154,734\n",
      "     Virginia     Loudoun County                $178,707\n",
      "   California Santa Clara County                $159,674\n",
      "   California   San Mateo County                $156,000\n",
      "     Maryland      Howard County                $146,982\n",
      "     Maryland     Calvert County                $132,059\n",
      "   New Jersey   Hunterdon County                $139,453\n",
      "   New Jersey    Somerset County                $135,960\n",
      "     Colorado     Douglas County                $145,737\n",
      "     Colorado      Elbert County                $129,477\n",
      "     New York      Nassau County                $143,408\n",
      "     New York     Suffolk County                $128,329\n",
      "         Utah      Summit County                $137,058\n",
      "         Utah      Morgan County                $126,092\n",
      "      Georgia     Forsyth County                $138,000\n",
      "      Georgia      Oconee County                $115,925\n",
      "Massachusetts   Middlesex County                $126,779\n",
      "Massachusetts     Norfolk County                $126,497\n",
      "    Minnesota      Carver County                $123,144\n",
      "    Minnesota       Scott County                $120,247\n",
      "\n",
      "\n",
      "\n"
     ]
    }
   ],
   "source": [
    "#Group 4: Top 2 counties per state by population (sorted)\n",
    "Group4_df = data.groupby('State').apply(lambda x: x.nlargest(2, 'Total Population')).reset_index(drop=True)\n",
    "\n",
    "state_sums_1 = Group4_df.groupby('State')['Total Population'].sum().sort_values(ascending=False) #generate order by max population to use for sorting output\n",
    "Group4_df['State'] = pd.Categorical(Group4_df['State'], categories=state_sums_1.index, ordered=True)\n",
    "Group4_df = Group4_df.sort_values(by='State')\n",
    "\n",
    "Group4_df = Group4_df[['State', 'County', 'Total Population']]\n",
    "Group4_df['Total Population'] = Group4_df['Total Population'].apply(lambda x: f'{x:,}')\n",
    "\n",
    "print('The Top 2 Counties by Population from the Top 10 States are as follows: \\n')\n",
    "print(Group4_df.head(20).to_string(index=False)) #hiding the index rather than going through another reset just for printing\n",
    "print('\\n\\n')\n",
    "\n",
    "\n",
    "#Group 5: Top 2 counties per state by median income (sorted)\n",
    "Group5_df = data.groupby('State').apply(lambda x: x.nlargest(2, 'Median Household Income')).reset_index(drop=True)\n",
    "\n",
    "state_sums_2 = Group5_df.groupby('State')['Median Household Income'].sum().sort_values(ascending=False) #generate order by max Median Household Income to use for sorting output\n",
    "Group5_df['State'] = pd.Categorical(Group5_df['State'], categories = state_sums_2.index, ordered=True)\n",
    "Group5_df = Group5_df.sort_values(by='State')\n",
    "\n",
    "Group5_df = Group5_df[['State', 'County', 'Median Household Income']]\n",
    "Group5_df['Median Household Income'] = Group5_df['Median Household Income'].apply(lambda x: f'${x:,}')\n",
    "print('The Top 2 Counties by Median Household Income from the Top 10 States are as follows: \\n')\n",
    "print(Group5_df.head(20).to_string(index=False))\n",
    "print('\\n\\n')"
   ]
  }
 ],
 "metadata": {
  "kaggle": {
   "accelerator": "none",
   "dataSources": [
    {
     "datasetId": 6471397,
     "sourceId": 10454063,
     "sourceType": "datasetVersion"
    }
   ],
   "dockerImageVersionId": 30839,
   "isGpuEnabled": false,
   "isInternetEnabled": true,
   "language": "python",
   "sourceType": "notebook"
  },
  "kernelspec": {
   "display_name": "Python 3",
   "language": "python",
   "name": "python3"
  },
  "language_info": {
   "codemirror_mode": {
    "name": "ipython",
    "version": 3
   },
   "file_extension": ".py",
   "mimetype": "text/x-python",
   "name": "python",
   "nbconvert_exporter": "python",
   "pygments_lexer": "ipython3",
   "version": "3.10.12"
  },
  "papermill": {
   "default_parameters": {},
   "duration": 6.573241,
   "end_time": "2025-01-22T00:28:24.252163",
   "environment_variables": {},
   "exception": null,
   "input_path": "__notebook__.ipynb",
   "output_path": "__notebook__.ipynb",
   "parameters": {},
   "start_time": "2025-01-22T00:28:17.678922",
   "version": "2.6.0"
  }
 },
 "nbformat": 4,
 "nbformat_minor": 5
}
