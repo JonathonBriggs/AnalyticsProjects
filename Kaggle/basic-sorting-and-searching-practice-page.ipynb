{
 "cells": [
  {
   "cell_type": "code",
   "execution_count": 1,
   "id": "8dc01841",
   "metadata": {
    "_cell_guid": "b1076dfc-b9ad-4769-8c92-a6c4dae69d19",
    "_uuid": "8f2839f25d086af736a60e9eeb907d3b93b6e0e5",
    "execution": {
     "iopub.execute_input": "2025-01-24T18:05:26.249910Z",
     "iopub.status.busy": "2025-01-24T18:05:26.249567Z",
     "iopub.status.idle": "2025-01-24T18:05:27.231920Z",
     "shell.execute_reply": "2025-01-24T18:05:27.230792Z"
    },
    "papermill": {
     "duration": 0.988139,
     "end_time": "2025-01-24T18:05:27.233861",
     "exception": false,
     "start_time": "2025-01-24T18:05:26.245722",
     "status": "completed"
    },
    "tags": []
   },
   "outputs": [],
   "source": [
    "# This Python 3 environment comes with many helpful analytics libraries installed\n",
    "# It is defined by the kaggle/python Docker image: https://github.com/kaggle/docker-python\n",
    "# For example, here's several helpful packages to load\n",
    "\n",
    "import numpy as np # linear algebra\n",
    "import pandas as pd # data processing, CSV file I/O (e.g. pd.read_csv)\n",
    "\n",
    "# Input data files are available in the read-only \"../input/\" directory\n",
    "# For example, running this (by clicking run or pressing Shift+Enter) will list all files under the input directory\n",
    "\n",
    "import os\n",
    "for dirname, _, filenames in os.walk('/kaggle/input'):\n",
    "    for filename in filenames:\n",
    "        print(os.path.join(dirname, filename))\n",
    "\n",
    "# You can write up to 20GB to the current directory (/kaggle/working/) that gets preserved as output when you create a version using \"Save & Run All\" \n",
    "# You can also write temporary files to /kaggle/temp/, but they won't be saved outside of the current session"
   ]
  },
  {
   "cell_type": "markdown",
   "id": "8a74ae9f",
   "metadata": {
    "papermill": {
     "duration": 0.001763,
     "end_time": "2025-01-24T18:05:27.238299",
     "exception": false,
     "start_time": "2025-01-24T18:05:27.236536",
     "status": "completed"
    },
    "tags": []
   },
   "source": [
    "# 1. Basic Sorting Methods for Python\n",
    "* Using [Index.dev Article](https://www.index.dev/blog/python-algorithms-developers-should-know) as reference"
   ]
  },
  {
   "cell_type": "markdown",
   "id": "696ba41d",
   "metadata": {
    "papermill": {
     "duration": 0.001738,
     "end_time": "2025-01-24T18:05:27.242001",
     "exception": false,
     "start_time": "2025-01-24T18:05:27.240263",
     "status": "completed"
    },
    "tags": []
   },
   "source": [
    "## 1-a. Quick Sort Method"
   ]
  },
  {
   "cell_type": "code",
   "execution_count": 2,
   "id": "6005f2cc",
   "metadata": {
    "execution": {
     "iopub.execute_input": "2025-01-24T18:05:27.247196Z",
     "iopub.status.busy": "2025-01-24T18:05:27.246741Z",
     "iopub.status.idle": "2025-01-24T18:05:27.253637Z",
     "shell.execute_reply": "2025-01-24T18:05:27.252460Z"
    },
    "papermill": {
     "duration": 0.011356,
     "end_time": "2025-01-24T18:05:27.255250",
     "exception": false,
     "start_time": "2025-01-24T18:05:27.243894",
     "status": "completed"
    },
    "tags": []
   },
   "outputs": [
    {
     "name": "stdout",
     "output_type": "stream",
     "text": [
      "[2, 3, 5, 7, 8, 9, 10, 10]\n"
     ]
    }
   ],
   "source": [
    "def quick_sort(arr):\n",
    "    if len(arr) <=1:\n",
    "        return arr\n",
    "    pivot = arr[len(arr) // 2] #creates the pivot point half way through the array\n",
    "    left = [x for x in arr if x < pivot] #list comprehension for left side slice\n",
    "    middle = [x for x in arr if x == pivot] #list comprehension for middle\n",
    "    right = [x for x in arr if x > pivot] #list comprehension for right side slice\n",
    "    return quick_sort(left) + middle + quick_sort(right)\n",
    "\n",
    "arr = [10, 2, 5, 3, 7, 8, 9, 10]\n",
    "sorted_arr = quick_sort(arr)\n",
    "print(sorted_arr)"
   ]
  },
  {
   "cell_type": "markdown",
   "id": "110d2806",
   "metadata": {
    "papermill": {
     "duration": 0.003128,
     "end_time": "2025-01-24T18:05:27.260660",
     "exception": false,
     "start_time": "2025-01-24T18:05:27.257532",
     "status": "completed"
    },
    "tags": []
   },
   "source": [
    "## 1-b. Merge Sort Method"
   ]
  },
  {
   "cell_type": "code",
   "execution_count": 3,
   "id": "3e4c4b25",
   "metadata": {
    "execution": {
     "iopub.execute_input": "2025-01-24T18:05:27.265936Z",
     "iopub.status.busy": "2025-01-24T18:05:27.265616Z",
     "iopub.status.idle": "2025-01-24T18:05:27.274286Z",
     "shell.execute_reply": "2025-01-24T18:05:27.273071Z"
    },
    "papermill": {
     "duration": 0.01365,
     "end_time": "2025-01-24T18:05:27.276372",
     "exception": false,
     "start_time": "2025-01-24T18:05:27.262722",
     "status": "completed"
    },
    "tags": []
   },
   "outputs": [
    {
     "name": "stdout",
     "output_type": "stream",
     "text": [
      "[1, 2, 4, 4, 6, 9, 10, 12, 13, 22]\n"
     ]
    }
   ],
   "source": [
    "def merge_sort(arr):\n",
    "    if len(arr) <=1:\n",
    "        return arr\n",
    "\n",
    "    #Divide the array into 2 halves\n",
    "    mid = len(arr) // 2\n",
    "    left_half = arr[:mid] #left slice of array, not inclusive of mid\n",
    "    right_half = arr[mid:] #right slice of array, inclusive of mid\n",
    "\n",
    "    #Recursive call to continue breaking down the list to single elements\n",
    "    left_half = merge_sort(left_half)\n",
    "    right_half = merge_sort(right_half)\n",
    "\n",
    "    #Use the merge function to integrate elements into complete array\n",
    "    return merge(left_half, right_half)\n",
    "\n",
    "def merge(left, right):\n",
    "    #i is counter for left array, j is counter for right array\n",
    "    i=j=0 #Setting counters at 0\n",
    "    result=[] #Setting blank result array\n",
    "\n",
    "    while i<len(left) and j<len(right):\n",
    "        if left[i] <= right[j]:\n",
    "            result.append(left[i])\n",
    "            i+=1\n",
    "        else:\n",
    "            result.append(right[j])\n",
    "            j+=1\n",
    "\n",
    "    result.extend(left[i:])\n",
    "    result.extend(right[j:])\n",
    "    \n",
    "    return result\n",
    "\n",
    "arr = [2, 4, 1, 10, 22, 13, 4, 6, 9, 12]\n",
    "sorted_arr = merge_sort(arr)\n",
    "print(sorted_arr)"
   ]
  }
 ],
 "metadata": {
  "kaggle": {
   "accelerator": "none",
   "dataSources": [],
   "dockerImageVersionId": 30839,
   "isGpuEnabled": false,
   "isInternetEnabled": true,
   "language": "python",
   "sourceType": "notebook"
  },
  "kernelspec": {
   "display_name": "Python 3",
   "language": "python",
   "name": "python3"
  },
  "language_info": {
   "codemirror_mode": {
    "name": "ipython",
    "version": 3
   },
   "file_extension": ".py",
   "mimetype": "text/x-python",
   "name": "python",
   "nbconvert_exporter": "python",
   "pygments_lexer": "ipython3",
   "version": "3.10.12"
  },
  "papermill": {
   "default_parameters": {},
   "duration": 4.521553,
   "end_time": "2025-01-24T18:05:27.898991",
   "environment_variables": {},
   "exception": null,
   "input_path": "__notebook__.ipynb",
   "output_path": "__notebook__.ipynb",
   "parameters": {},
   "start_time": "2025-01-24T18:05:23.377438",
   "version": "2.6.0"
  }
 },
 "nbformat": 4,
 "nbformat_minor": 5
}
