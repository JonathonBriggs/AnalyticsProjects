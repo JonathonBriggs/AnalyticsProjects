{
 "cells": [
  {
   "cell_type": "markdown",
   "metadata": {},
   "source": [
    "# 1-a. Load Data + Basic Imports"
   ]
  },
  {
   "cell_type": "code",
   "execution_count": 300,
   "metadata": {
    "scrolled": true
   },
   "outputs": [],
   "source": [
    "#Jupyter Only\n",
    "#!pip install xgboost"
   ]
  },
  {
   "cell_type": "code",
   "execution_count": 298,
   "metadata": {
    "scrolled": true
   },
   "outputs": [],
   "source": [
    "#Jupyter Only\n",
    "#!pip install lightgbm"
   ]
  },
  {
   "cell_type": "code",
   "execution_count": 296,
   "metadata": {
    "scrolled": true
   },
   "outputs": [],
   "source": [
    "#Jupyter Only\n",
    "#!pip install catboost"
   ]
  },
  {
   "cell_type": "code",
   "execution_count": null,
   "metadata": {},
   "outputs": [],
   "source": [
    "#For Kaggle\n",
    "# This Python 3 environment comes with many helpful analytics libraries installed\n",
    "# It is defined by the kaggle/python Docker image: https://github.com/kaggle/docker-python\n",
    "# For example, here's several helpful packages to load\n",
    "\n",
    "# # Input data files are available in the read-only \"../input/\" directory\n",
    "# # For example, running this (by clicking run or pressing Shift+Enter) will list all files under the input directory\n",
    "\n",
    "# import os\n",
    "# for dirname, _, filenames in os.walk('/kaggle/input'):\n",
    "#     for filename in filenames:\n",
    "#         print(os.path.join(dirname, filename))\n",
    "\n",
    "# You can write up to 20GB to the current directory (/kaggle/working/) that gets preserved as output when you create a version using \"Save & Run All\" \n",
    "# You can also write temporary files to /kaggle/temp/, but they won't be saved outside of the current session"
   ]
  },
  {
   "cell_type": "code",
   "execution_count": 139,
   "metadata": {},
   "outputs": [],
   "source": [
    "#Basic Data Libraries\n",
    "import pandas as pd\n",
    "import seaborn as sns\n",
    "import numpy as np\n",
    "import matplotlib.pyplot as plt\n",
    "\n",
    "#Ignore Warning\n",
    "import warnings\n",
    "warnings.filterwarnings('ignore')\n",
    "\n",
    "#VIF Testing (Categorical Columns)\n",
    "from statsmodels.stats.outliers_influence import variance_inflation_factor\n",
    "\n",
    "#Pipeline packages \n",
    "from sklearn.pipeline import Pipeline, make_pipeline\n",
    "from sklearn.impute import SimpleImputer\n",
    "from sklearn.preprocessing import OrdinalEncoder, StandardScaler, OneHotEncoder\n",
    "from sklearn.compose import make_column_transformer, ColumnTransformer\n",
    "\n",
    "#Data Splitting\n",
    "from sklearn.model_selection import train_test_split\n",
    "\n",
    "#GridSearchCV + RandomizedSearchCV + Scoring\n",
    "from sklearn.model_selection import GridSearchCV\n",
    "from sklearn.model_selection import RandomizedSearchCV\n",
    "from sklearn.metrics import mean_squared_error, r2_score\n",
    "\n",
    "#Regressor Models\n",
    "from sklearn.linear_model import LinearRegression\n",
    "from sklearn.ensemble import RandomForestRegressor\n",
    "from xgboost import XGBRegressor\n",
    "from sklearn.linear_model import Ridge\n",
    "from sklearn.ensemble import GradientBoostingRegressor\n",
    "import lightgbm as lgb\n",
    "from catboost import CatBoostRegressor\n",
    "\n",
    "#Voting and Stacking\n",
    "from sklearn.ensemble import VotingRegressor, StackingRegressor"
   ]
  },
  {
   "cell_type": "code",
   "execution_count": null,
   "metadata": {},
   "outputs": [],
   "source": [
    "#Kaggle Imports\n",
    "# train_df = pd.read_csv('/kaggle/input/playground-series-s5e2/train.csv')\n",
    "# train_extra_df = pd.read_csv('/kaggle/input/playground-series-s5e2/training_extra.csv')\n",
    "# test_df = pd.read_csv('/kaggle/input/playground-series-s5e2/test.csv')"
   ]
  },
  {
   "cell_type": "code",
   "execution_count": 247,
   "metadata": {},
   "outputs": [],
   "source": [
    "#Local Imports\n",
    "train_df = pd.read_csv(r'.\\train.csv')\n",
    "train_extra_df = pd.read_csv(r'.\\training_extra.csv')"
   ]
  },
  {
   "cell_type": "code",
   "execution_count": 257,
   "metadata": {},
   "outputs": [],
   "source": [
    "test_df = pd.read_csv(r'.\\test.csv')"
   ]
  },
  {
   "cell_type": "markdown",
   "metadata": {},
   "source": [
    "# 1-b. Initial Analysis of Data Types + Distributions"
   ]
  },
  {
   "cell_type": "code",
   "execution_count": 55,
   "metadata": {},
   "outputs": [
    {
     "name": "stdout",
     "output_type": "stream",
     "text": [
      "<class 'pandas.core.frame.DataFrame'>\n",
      "RangeIndex: 300000 entries, 0 to 299999\n",
      "Data columns (total 11 columns):\n",
      " #   Column                Non-Null Count   Dtype  \n",
      "---  ------                --------------   -----  \n",
      " 0   id                    300000 non-null  int64  \n",
      " 1   Brand                 290295 non-null  object \n",
      " 2   Material              291653 non-null  object \n",
      " 3   Size                  293405 non-null  object \n",
      " 4   Compartments          300000 non-null  float64\n",
      " 5   Laptop Compartment    292556 non-null  object \n",
      " 6   Waterproof            292950 non-null  object \n",
      " 7   Style                 292030 non-null  object \n",
      " 8   Color                 290050 non-null  object \n",
      " 9   Weight Capacity (kg)  299862 non-null  float64\n",
      " 10  Price                 300000 non-null  float64\n",
      "dtypes: float64(3), int64(1), object(7)\n",
      "memory usage: 25.2+ MB\n",
      "None\n"
     ]
    }
   ],
   "source": [
    "print(train_df.info())"
   ]
  },
  {
   "cell_type": "code",
   "execution_count": 57,
   "metadata": {},
   "outputs": [
    {
     "data": {
      "text/html": [
       "<div>\n",
       "<style scoped>\n",
       "    .dataframe tbody tr th:only-of-type {\n",
       "        vertical-align: middle;\n",
       "    }\n",
       "\n",
       "    .dataframe tbody tr th {\n",
       "        vertical-align: top;\n",
       "    }\n",
       "\n",
       "    .dataframe thead th {\n",
       "        text-align: right;\n",
       "    }\n",
       "</style>\n",
       "<table border=\"1\" class=\"dataframe\">\n",
       "  <thead>\n",
       "    <tr style=\"text-align: right;\">\n",
       "      <th></th>\n",
       "      <th>id</th>\n",
       "      <th>Compartments</th>\n",
       "      <th>Weight Capacity (kg)</th>\n",
       "      <th>Price</th>\n",
       "    </tr>\n",
       "  </thead>\n",
       "  <tbody>\n",
       "    <tr>\n",
       "      <th>count</th>\n",
       "      <td>300000.000000</td>\n",
       "      <td>300000.000000</td>\n",
       "      <td>299862.000000</td>\n",
       "      <td>300000.000000</td>\n",
       "    </tr>\n",
       "    <tr>\n",
       "      <th>mean</th>\n",
       "      <td>149999.500000</td>\n",
       "      <td>5.443590</td>\n",
       "      <td>18.029994</td>\n",
       "      <td>81.411107</td>\n",
       "    </tr>\n",
       "    <tr>\n",
       "      <th>std</th>\n",
       "      <td>86602.684716</td>\n",
       "      <td>2.890766</td>\n",
       "      <td>6.966914</td>\n",
       "      <td>39.039340</td>\n",
       "    </tr>\n",
       "    <tr>\n",
       "      <th>min</th>\n",
       "      <td>0.000000</td>\n",
       "      <td>1.000000</td>\n",
       "      <td>5.000000</td>\n",
       "      <td>15.000000</td>\n",
       "    </tr>\n",
       "    <tr>\n",
       "      <th>25%</th>\n",
       "      <td>74999.750000</td>\n",
       "      <td>3.000000</td>\n",
       "      <td>12.097867</td>\n",
       "      <td>47.384620</td>\n",
       "    </tr>\n",
       "    <tr>\n",
       "      <th>50%</th>\n",
       "      <td>149999.500000</td>\n",
       "      <td>5.000000</td>\n",
       "      <td>18.068614</td>\n",
       "      <td>80.956120</td>\n",
       "    </tr>\n",
       "    <tr>\n",
       "      <th>75%</th>\n",
       "      <td>224999.250000</td>\n",
       "      <td>8.000000</td>\n",
       "      <td>24.002375</td>\n",
       "      <td>115.018160</td>\n",
       "    </tr>\n",
       "    <tr>\n",
       "      <th>max</th>\n",
       "      <td>299999.000000</td>\n",
       "      <td>10.000000</td>\n",
       "      <td>30.000000</td>\n",
       "      <td>150.000000</td>\n",
       "    </tr>\n",
       "  </tbody>\n",
       "</table>\n",
       "</div>"
      ],
      "text/plain": [
       "                  id   Compartments  Weight Capacity (kg)          Price\n",
       "count  300000.000000  300000.000000         299862.000000  300000.000000\n",
       "mean   149999.500000       5.443590             18.029994      81.411107\n",
       "std     86602.684716       2.890766              6.966914      39.039340\n",
       "min         0.000000       1.000000              5.000000      15.000000\n",
       "25%     74999.750000       3.000000             12.097867      47.384620\n",
       "50%    149999.500000       5.000000             18.068614      80.956120\n",
       "75%    224999.250000       8.000000             24.002375     115.018160\n",
       "max    299999.000000      10.000000             30.000000     150.000000"
      ]
     },
     "execution_count": 57,
     "metadata": {},
     "output_type": "execute_result"
    }
   ],
   "source": [
    "#train_df.head(15)\n",
    "#train_df.tail(15)\n",
    "train_df.describe()"
   ]
  },
  {
   "cell_type": "code",
   "execution_count": 59,
   "metadata": {},
   "outputs": [
    {
     "data": {
      "text/html": [
       "<div>\n",
       "<style scoped>\n",
       "    .dataframe tbody tr th:only-of-type {\n",
       "        vertical-align: middle;\n",
       "    }\n",
       "\n",
       "    .dataframe tbody tr th {\n",
       "        vertical-align: top;\n",
       "    }\n",
       "\n",
       "    .dataframe thead th {\n",
       "        text-align: right;\n",
       "    }\n",
       "</style>\n",
       "<table border=\"1\" class=\"dataframe\">\n",
       "  <thead>\n",
       "    <tr style=\"text-align: right;\">\n",
       "      <th></th>\n",
       "      <th>0</th>\n",
       "    </tr>\n",
       "  </thead>\n",
       "  <tbody>\n",
       "    <tr>\n",
       "      <th>id</th>\n",
       "      <td>0</td>\n",
       "    </tr>\n",
       "    <tr>\n",
       "      <th>Brand</th>\n",
       "      <td>9705</td>\n",
       "    </tr>\n",
       "    <tr>\n",
       "      <th>Material</th>\n",
       "      <td>8347</td>\n",
       "    </tr>\n",
       "    <tr>\n",
       "      <th>Size</th>\n",
       "      <td>6595</td>\n",
       "    </tr>\n",
       "    <tr>\n",
       "      <th>Compartments</th>\n",
       "      <td>0</td>\n",
       "    </tr>\n",
       "    <tr>\n",
       "      <th>Laptop Compartment</th>\n",
       "      <td>7444</td>\n",
       "    </tr>\n",
       "    <tr>\n",
       "      <th>Waterproof</th>\n",
       "      <td>7050</td>\n",
       "    </tr>\n",
       "    <tr>\n",
       "      <th>Style</th>\n",
       "      <td>7970</td>\n",
       "    </tr>\n",
       "    <tr>\n",
       "      <th>Color</th>\n",
       "      <td>9950</td>\n",
       "    </tr>\n",
       "    <tr>\n",
       "      <th>Weight Capacity (kg)</th>\n",
       "      <td>138</td>\n",
       "    </tr>\n",
       "    <tr>\n",
       "      <th>Price</th>\n",
       "      <td>0</td>\n",
       "    </tr>\n",
       "  </tbody>\n",
       "</table>\n",
       "</div>"
      ],
      "text/plain": [
       "                         0\n",
       "id                       0\n",
       "Brand                 9705\n",
       "Material              8347\n",
       "Size                  6595\n",
       "Compartments             0\n",
       "Laptop Compartment    7444\n",
       "Waterproof            7050\n",
       "Style                 7970\n",
       "Color                 9950\n",
       "Weight Capacity (kg)   138\n",
       "Price                    0"
      ]
     },
     "execution_count": 59,
     "metadata": {},
     "output_type": "execute_result"
    }
   ],
   "source": [
    "#Total Counts of Missing Data\n",
    "pd.DataFrame(train_df.isnull().sum())"
   ]
  },
  {
   "cell_type": "code",
   "execution_count": 73,
   "metadata": {},
   "outputs": [],
   "source": [
    "#Creating a quick function for Categorical Data Distribution viewing\n",
    "def cat_quick_plot(df, name):\n",
    "    plt.clf()\n",
    "    fig, axes = plt.subplots(1,2,figsize=(15, 4))\n",
    "    axes = axes.flatten()\n",
    "    \n",
    "    value_counts = df[name].value_counts().reset_index()\n",
    "    value_counts.columns = [name, 'Frequency']\n",
    "    \n",
    "    sns.barplot(value_counts, x=name, y='Frequency', hue=name, legend=False, ax = axes[0])\n",
    "    axes[0].set_title(f'{name} Frequencies', fontweight='bold')\n",
    "    axes[0].set_xlabel(f'{name}', fontweight='bold')\n",
    "    axes[0].set_ylabel('Frequency', fontweight='bold')\n",
    "    \n",
    "    sns.boxplot(train_df, x=name, y='Price', hue=name, legend=False, ax=axes[1])\n",
    "    axes[1].set_title(f'{name} Price Distributions', fontweight='bold')\n",
    "    axes[1].set_xlabel(f'{name}', fontweight='bold')\n",
    "    axes[1].set_ylabel('Price', fontweight='bold')\n",
    "    plt.show()"
   ]
  },
  {
   "cell_type": "code",
   "execution_count": 75,
   "metadata": {},
   "outputs": [
    {
     "data": {
      "text/plain": [
       "<Figure size 640x480 with 0 Axes>"
      ]
     },
     "metadata": {},
     "output_type": "display_data"
    },
    {
     "data": {
      "image/png": "[encoded data removed]",
      "text/plain": [
       "<Figure size 1500x400 with 2 Axes>"
      ]
     },
     "metadata": {},
     "output_type": "display_data"
    }
   ],
   "source": [
    "#Plots for Brand Data\n",
    "# cat_quick_plot(train_df, 'Brand')\n",
    "\n",
    "#Plots for Material Data\n",
    "# cat_quick_plot(train_df, 'Material')\n",
    "\n",
    "#Plots for Size Data\n",
    "# cat_quick_plot(train_df, 'Size')\n",
    "\n",
    "#Plots for Laptop Compartment Data\n",
    "# cat_quick_plot(train_df, 'Laptop Compartment')\n",
    "\n",
    "#Plots for Waterproof Data\n",
    "# cat_quick_plot(train_df, 'Waterproof')\n",
    "\n",
    "#Plots for Style Data\n",
    "# cat_quick_plot(train_df, 'Style')\n",
    "\n",
    "#Plots for Color Data\n",
    "cat_quick_plot(train_df, 'Color')\n"
   ]
  },
  {
   "cell_type": "code",
   "execution_count": 77,
   "metadata": {},
   "outputs": [
    {
     "data": {
      "text/plain": [
       "<Figure size 640x480 with 0 Axes>"
      ]
     },
     "metadata": {},
     "output_type": "display_data"
    },
    {
     "data": {
      "image/png": "[encoded data removed]",
      "text/plain": [
       "<Figure size 1000x600 with 1 Axes>"
      ]
     },
     "metadata": {},
     "output_type": "display_data"
    }
   ],
   "source": [
    "#Compartments Graphing attempt 1\n",
    "# plt.clf()\n",
    "# fig, axes = plt.subplots(1,1,figsize=(10,6))\n",
    "\n",
    "# sns.stripplot(data=train_df, x='Compartments', y='Price', ax=axes, jitter=True, alpha=.7)\n",
    "# axes.set_title('Compartments vs Price Scatterplot', fontweight='bold')\n",
    "# axes.set_xlabel('Compartments', fontweight='bold')\n",
    "# axes.set_ylabel('Price', fontweight='bold')\n",
    "# plt.show()\n",
    "\n",
    "#Compartments Graphing attempt 2\n",
    "plt.clf()\n",
    "fig, axes = plt.subplots(1,1,figsize=(10,6))\n",
    "\n",
    "sns.histplot(data=train_df, x='Compartments', ax=axes, stat='count')\n",
    "axes.set_title('Compartments Histogram', fontweight='bold')\n",
    "axes.set_xlabel('Compartments', fontweight='bold')\n",
    "axes.set_ylabel('Frequency', fontweight='bold')\n",
    "plt.show()"
   ]
  },
  {
   "cell_type": "code",
   "execution_count": 79,
   "metadata": {},
   "outputs": [
    {
     "data": {
      "text/plain": [
       "<Figure size 640x480 with 0 Axes>"
      ]
     },
     "metadata": {},
     "output_type": "display_data"
    },
    {
     "data": {
      "image/png": "[encoded data removed]",
      "text/plain": [
       "<Figure size 1500x600 with 1 Axes>"
      ]
     },
     "metadata": {},
     "output_type": "display_data"
    }
   ],
   "source": [
    "#Weight Capacity (kg) Graphing attempt 1 (Warning: Kaggle froze while computing this chart)\n",
    "# plt.clf()\n",
    "# fig, axes = plt.subplots(1,1,figsize=(10,6))\n",
    "\n",
    "# sns.stripplot(data=train_df, x='Weight Capacity (kg)', y='Price', ax=axes, jitter=True, alpha=.7)\n",
    "# axes.set_title('Weight Capacity (kg) vs Price Scatterplot', fontweight='bold')\n",
    "# axes.set_xlabel('Weight Capacity (kg)', fontweight='bold')\n",
    "# axes.set_ylabel('Price', fontweight='bold')\n",
    "# plt.show()\n",
    "\n",
    "#Weight Capacity (kg) Graphing attempt 2\n",
    "plt.clf()\n",
    "fig, axes = plt.subplots(1,1,figsize=(15,6))\n",
    "\n",
    "sns.histplot(data=train_df, x='Weight Capacity (kg)', ax=axes, stat='count')\n",
    "axes.set_title('Weight Capacity (kg) Histogram', fontweight='bold')\n",
    "axes.set_xlabel('Weight Capacity (kg)', fontweight='bold')\n",
    "axes.set_ylabel('Frequency', fontweight='bold')\n",
    "plt.show()"
   ]
  },
  {
   "cell_type": "code",
   "execution_count": 81,
   "metadata": {},
   "outputs": [
    {
     "data": {
      "text/plain": [
       "<Figure size 640x480 with 0 Axes>"
      ]
     },
     "metadata": {},
     "output_type": "display_data"
    },
    {
     "data": {
      "image/png": "[encoded data removed]",
      "text/plain": [
       "<Figure size 1500x600 with 1 Axes>"
      ]
     },
     "metadata": {},
     "output_type": "display_data"
    }
   ],
   "source": [
    "#Price Histrogram quick look\n",
    "plt.clf()\n",
    "fig, axes = plt.subplots(1,1,figsize=(15,6))\n",
    "\n",
    "sns.histplot(data=train_df, x='Price', ax=axes, stat='count')\n",
    "axes.set_title('Price Histogram', fontweight='bold')\n",
    "axes.set_xlabel('Price', fontweight='bold')\n",
    "axes.set_ylabel('Frequency', fontweight='bold')\n",
    "plt.show()"
   ]
  },
  {
   "cell_type": "code",
   "execution_count": 83,
   "metadata": {},
   "outputs": [
    {
     "data": {
      "text/plain": [
       "(53314, 11)"
      ]
     },
     "execution_count": 83,
     "metadata": {},
     "output_type": "execute_result"
    }
   ],
   "source": [
    "train_df[train_df.isna().any(axis=1)].shape\n",
    "#Finding: 57,199 entries are distributed across 53,314 rows (only 7% overlap in NaN fields)... recommend to not drop rows due to limited overlap"
   ]
  },
  {
   "cell_type": "markdown",
   "metadata": {},
   "source": [
    "# 1-c. Data Cleanup Decisions\n",
    "* Weight Capacity (kg) --> fillna with mean(), convert to buckets after describe check\n",
    "    * [0-10), [10-20), [20-inf)\n",
    "* Color --> fillna with 'Multi-Color'\n",
    "* Size --> fillna with 'Other'\n",
    "* Waterproof --> fillna with 'Undetermined'\n",
    "* Brand --> fillna with 'Unknown'\n",
    "* Compartments --> convert to int (from float)\n",
    "* Laptop Compartment --> fillna with 'Unknown'"
   ]
  },
  {
   "cell_type": "markdown",
   "metadata": {},
   "source": [
    "# 2-a. Data Cleanup Pipeline"
   ]
  },
  {
   "cell_type": "code",
   "execution_count": 253,
   "metadata": {},
   "outputs": [],
   "source": [
    "#Rename columns with _ fillers\n",
    "train_df.rename(columns={'Weight Capacity (kg)': 'Weight_Capacity_(kg)', 'Laptop Compartment': 'Laptop_Compartment'}, inplace=True)"
   ]
  },
  {
   "cell_type": "code",
   "execution_count": 259,
   "metadata": {},
   "outputs": [],
   "source": [
    "test_df.rename(columns={'Weight Capacity (kg)': 'Weight_Capacity_(kg)', 'Laptop Compartment': 'Laptop_Compartment'}, inplace=True)"
   ]
  },
  {
   "cell_type": "code",
   "execution_count": 255,
   "metadata": {},
   "outputs": [],
   "source": [
    "train_df['Color'].fillna('Multi-Color', inplace=True)\n",
    "train_df['Size'].fillna('Other', inplace=True)\n",
    "train_df['Waterproof'].fillna('Undetermined', inplace=True)\n",
    "train_df['Brand'].fillna('Unknown', inplace=True)\n",
    "train_df['Compartments'] = train_df['Compartments'].astype('int')\n",
    "train_df['Laptop_Compartment'].fillna('Unknown', inplace=True)\n",
    "train_df['Style'].fillna('Mixed_Style', inplace=True)\n",
    "train_df['Material'].fillna('Mixed_Material', inplace=True)\n",
    "train_df['Weight_Capacity_(kg)'].fillna(train_df['Weight_Capacity_(kg)'].mean(), inplace=True)\n",
    "train_df['Weight_Capacity_(kg)'] = train_df['Weight_Capacity_(kg)'].apply(lambda x: '0-10' if x < 10 else('10-20' if x < 20 else('20+')))"
   ]
  },
  {
   "cell_type": "code",
   "execution_count": 237,
   "metadata": {},
   "outputs": [
    {
     "name": "stdout",
     "output_type": "stream",
     "text": [
      "<class 'pandas.core.frame.DataFrame'>\n",
      "RangeIndex: 200000 entries, 0 to 199999\n",
      "Data columns (total 10 columns):\n",
      " #   Column                Non-Null Count   Dtype  \n",
      "---  ------                --------------   -----  \n",
      " 0   id                    200000 non-null  int64  \n",
      " 1   Brand                 193773 non-null  object \n",
      " 2   Material              194387 non-null  object \n",
      " 3   Size                  195619 non-null  object \n",
      " 4   Compartments          200000 non-null  float64\n",
      " 5   Laptop_Compartment    195038 non-null  object \n",
      " 6   Waterproof            195189 non-null  object \n",
      " 7   Style                 194847 non-null  object \n",
      " 8   Color                 193215 non-null  object \n",
      " 9   Weight_Capacity_(kg)  199923 non-null  float64\n",
      "dtypes: float64(2), int64(1), object(7)\n",
      "memory usage: 15.3+ MB\n"
     ]
    }
   ],
   "source": [
    "test_df.info()"
   ]
  },
  {
   "cell_type": "code",
   "execution_count": 263,
   "metadata": {},
   "outputs": [],
   "source": [
    "test_df['Color'].fillna('Multi-Color', inplace=True)\n",
    "test_df['Size'].fillna('Other', inplace=True)\n",
    "test_df['Waterproof'].fillna('Undetermined', inplace=True)\n",
    "test_df['Brand'].fillna('Unknown', inplace=True)\n",
    "test_df['Compartments'] = train_df['Compartments'].astype('int')\n",
    "test_df['Laptop_Compartment'].fillna('Unknown', inplace=True)\n",
    "test_df['Style'].fillna('Mixed_Style', inplace=True)\n",
    "test_df['Material'].fillna('Mixed_Material', inplace=True)\n",
    "test_df['Weight_Capacity_(kg)'].fillna(test_df['Weight_Capacity_(kg)'].mean(), inplace=True)\n",
    "test_df['Weight_Capacity_(kg)'] = test_df['Weight_Capacity_(kg)'].apply(lambda x: '0-10' if x < 10 else('10-20' if x < 20 else('20+')))"
   ]
  },
  {
   "cell_type": "code",
   "execution_count": 89,
   "metadata": {},
   "outputs": [
    {
     "data": {
      "text/plain": [
       "<Axes: xlabel='Price', ylabel='Count'>"
      ]
     },
     "execution_count": 89,
     "metadata": {},
     "output_type": "execute_result"
    },
    {
     "data": {
      "image/png": "[encoded data removed]",
      "text/plain": [
       "<Figure size 640x480 with 1 Axes>"
      ]
     },
     "metadata": {},
     "output_type": "display_data"
    }
   ],
   "source": [
    "#Use log function to normalize the price data\n",
    "train_df['Price'] = np.log1p(train_df['Price'])\n",
    "sns.histplot(train_df, x=train_df['Price'])"
   ]
  },
  {
   "cell_type": "code",
   "execution_count": 211,
   "metadata": {},
   "outputs": [],
   "source": [
    "#Column Lists--------------\n",
    "\n",
    "ohe_cols = ['Weight_Capacity_(kg)', 'Brand', 'Material', 'Style', 'Color']\n",
    "ode_cols = ['Size', 'Laptop_Compartment', 'Waterproof']\n",
    "num_cols = ['Compartments']"
   ]
  },
  {
   "cell_type": "code",
   "execution_count": 213,
   "metadata": {},
   "outputs": [],
   "source": [
    "#Pipeline creation for data encoding--------------\n",
    "\n",
    "#Create Numerical Pipeline\n",
    "num_pipeline = Pipeline(steps=[\n",
    "    ('impute', SimpleImputer(strategy='mean')),\n",
    "    ('scaler', StandardScaler())\n",
    "])\n",
    "\n",
    "#Create Categorical Pipeline (Ordinal Values)\n",
    "ode_pipeline = Pipeline(steps=[\n",
    "    ('impute', SimpleImputer(strategy='most_frequent')),\n",
    "    ('ode', OrdinalEncoder(handle_unknown='use_encoded_value', unknown_value=-1))\n",
    "])\n",
    "\n",
    "#Create One Hot Encoding Pipeline (Nominal Values)\n",
    "ohe_pipeline = Pipeline(steps=[\n",
    "    ('impute', SimpleImputer(strategy='most_frequent')),\n",
    "    ('ohe', OneHotEncoder(handle_unknown='ignore', sparse_output=False))\n",
    "])\n",
    "\n",
    "#Create column transformer for running pipelines\n",
    "col_trans = ColumnTransformer(\n",
    "    transformers=[\n",
    "        ('num_p', num_pipeline, num_cols),\n",
    "        ('ode_p', ode_pipeline, ode_cols),\n",
    "        ('ohe_p', ohe_pipeline, ohe_cols)\n",
    "    ],\n",
    "    remainder='passthrough',\n",
    "    n_jobs=-1)\n",
    "\n",
    "main_pipeline = Pipeline(steps=[\n",
    "    ('preprocessing', col_trans)\n",
    "])"
   ]
  },
  {
   "cell_type": "markdown",
   "metadata": {},
   "source": [
    "# 2-b. Train / Test Split"
   ]
  },
  {
   "cell_type": "code",
   "execution_count": 95,
   "metadata": {},
   "outputs": [],
   "source": [
    "#Make X and y for encoding\n",
    "X = train_df.drop('Price', axis=1)\n",
    "y = train_df['Price']"
   ]
  },
  {
   "cell_type": "code",
   "execution_count": 219,
   "metadata": {},
   "outputs": [],
   "source": [
    "#Use pipeline to process training data\n",
    "X_preprocessed = main_pipeline.fit_transform(X)"
   ]
  },
  {
   "cell_type": "code",
   "execution_count": 101,
   "metadata": {},
   "outputs": [],
   "source": [
    "X_train, X_test, y_train, y_test = train_test_split(X_preprocessed, y, test_size=.2, random_state=15)"
   ]
  },
  {
   "cell_type": "markdown",
   "metadata": {},
   "source": [
    "# 3. Regression Models (Phase 1: nat log normalized price)"
   ]
  },
  {
   "cell_type": "markdown",
   "metadata": {},
   "source": [
    "## 3-a. Linear Regression"
   ]
  },
  {
   "cell_type": "code",
   "execution_count": 157,
   "metadata": {},
   "outputs": [],
   "source": [
    "#Linear Regression Optimization\n",
    "\n",
    "# LR = LinearRegression()\n",
    "# param_grid_LR = {\n",
    "#     'copy_X': [True, False],\n",
    "#     'fit_intercept': [True, False],\n",
    "#     'n_jobs': [1,5,10,15,None],\n",
    "#     'positive': [True, False]\n",
    "# }\n",
    "\n",
    "# lr_cv = GridSearchCV(LR, param_grid_LR, cv=5, scoring='neg_mean_squared_error')\n",
    "# lr_cv.fit(X_train, y_train)\n",
    "\n",
    "# #Print Linear Regressor CV Results\n",
    "# print('Linear Regressor CV Score (Train Data):')\n",
    "# print(np.sqrt(-1*lr_cv.best_score_))\n",
    "\n",
    "# #Check for Linear Regressor accuracy\n",
    "# y_pred = lr_cv.best_estimator_.predict(X_test)\n",
    "# print('Mean Squared Error (Test Data):')\n",
    "# print(mean_squared_error(y_test, y_pred))\n",
    "# print('\\nR2_Score Results (Test Data):')\n",
    "# print(r2_score(y_test, y_pred))\n",
    "\n",
    "# #Print Linear Regressor best params\n",
    "# print('\\nLinear Regression Best Parameters:')\n",
    "# print(lr_cv.best_params_)\n",
    "\n",
    "#Results\n",
    "# Linear Regressor CV Score (Train Data):\t0.116194015\n",
    "# Mean Squared Error (Test Data):\t0.013410402\n",
    "# R2_Score Results (Test Data):\t0.000964675\n",
    "# Linear Regression Best Parameters:\t{'copy_X': True, 'fit_intercept': False, 'n_jobs': 1, 'positive': False}\n"
   ]
  },
  {
   "cell_type": "markdown",
   "metadata": {},
   "source": [
    "## 3-b. Random Forest Regression"
   ]
  },
  {
   "cell_type": "code",
   "execution_count": 155,
   "metadata": {},
   "outputs": [],
   "source": [
    "#Random Forest Regressor Optimization\n",
    "\n",
    "#Switched to RandomizedSearchCV as GridSearchCV was running far too long.\n",
    "#Even with RandomizedSearchCV, taking 15+ minutes for 50 fits.\n",
    "#Should use n_jobs=5 going forward, leaving 3 local CPU cores for other processes\n",
    "#Struggling to monitor output progress, verbose does not work correctly unless n_jobs is set to 1\n",
    "\n",
    "\n",
    "# RFR = RandomForestRegressor(random_state=15)\n",
    "# param_dist_RFR = {\n",
    "#     'max_depth': [5, 10, 15, 20],\n",
    "#     'n_estimators': [100, 250, 500],\n",
    "#     'min_samples_split': [2, 3, 5]\n",
    "# }\n",
    "\n",
    "# rfr_cv = RandomizedSearchCV(\n",
    "#     RFR, param_dist_RFR, \n",
    "#     n_iter=10, \n",
    "#     cv=5,\n",
    "#     scoring='neg_mean_squared_error',\n",
    "#     random_state=15,\n",
    "#     n_jobs=1,\n",
    "#     verbose=10\n",
    "# )\n",
    "# rfr_cv.fit(X_train, y_train)\n",
    "\n",
    "# #Random Forest Regressor CV Results\n",
    "# print('Random Forest Regressor CV Score (Train Data):')\n",
    "# print(np.sqrt(-1*rfr_cv.best_score_))\n",
    "\n",
    "# #Check for Random Forest Regressor accuracy\n",
    "# y_pred = rfr_cv.best_estimator_.predict(X_test)\n",
    "# print('\\nMean Squared Error (Test Data):')\n",
    "# print(mean_squared_error(y_test, y_pred))\n",
    "# print('\\nR2_Score Results (Test Data):')\n",
    "# print(r2_score(y_test, y_pred))\n",
    "\n",
    "# #Random Forest Regressor best params\n",
    "# print('\\nRandom Forest Regressor Best Parameters:')\n",
    "# print(rfr_cv.best_params_)\n",
    "\n",
    "#Results (50 total fits)\n",
    "# Random Forest Regressor CV Score (Train Data):\t0.580888272\n",
    "# Mean Squared Error (Test Data):\t0.335604293\n",
    "# R2_Score Results (Test Data):\t0.000803615\n",
    "# Random Forest Regressor Best Parameters:\t{'n_estimators': 250, 'min_samples_split': 2, 'max_depth': 5}"
   ]
  },
  {
   "cell_type": "markdown",
   "metadata": {},
   "source": [
    "## 3-c. XGB Regression"
   ]
  },
  {
   "cell_type": "code",
   "execution_count": 159,
   "metadata": {
    "scrolled": true
   },
   "outputs": [],
   "source": [
    "#XGB Regressor Optimization\n",
    "\n",
    "# XGB = XGBRegressor(random_state = 15)\n",
    "# param_dist_XGB = {\n",
    "#     'learning_rate': [.05, .1, .2],\n",
    "#     'n_estimators': [300],\n",
    "#     'max_depth': [3],\n",
    "#     'min_child_weight': [1, 2, 3],\n",
    "#     'gamma': [0, .1, .2],\n",
    "#     'subsample': [.8, .9, 1],\n",
    "#     'colsample_bytree': [.8, .9, 1]\n",
    "# }\n",
    "\n",
    "# xgb_cv = RandomizedSearchCV(\n",
    "#     XGB, param_dist_XGB,\n",
    "#     n_iter=10,\n",
    "#     cv=3,\n",
    "#     scoring='neg_mean_squared_error',\n",
    "#     random_state=15,\n",
    "#     n_jobs=1,\n",
    "#     verbose=10\n",
    "# )\n",
    "\n",
    "# xgb_cv.fit(X_train, y_train)\n",
    "\n",
    "# #Print CV Results\n",
    "# print('XGB Regressor CV Score (Train Data):')\n",
    "# print(np.sqrt(-1 * xgb_cv.best_score_))\n",
    "\n",
    "# #Use test data to check for accuracy\n",
    "# y_pred = xgb_cv.best_estimator_.predict(X_test)\n",
    "# print('\\nMean Squared Error (Test Data):')\n",
    "# print(mean_squared_error(y_test, y_pred))\n",
    "# print('\\nR2_Score Results (Test Data):')\n",
    "# print(r2_score(y_test, y_pred))\n",
    "\n",
    "# #print best params\n",
    "# print('\\nXGB Regression Best Parameters:')\n",
    "# print(xgb_cv.best_params_)\n",
    "\n",
    "#Results\n",
    "# XGB Regressor CV Score (Train Data):\t0.58083435\n",
    "# Mean Squared Error (Test Data):\t0.335392133\n",
    "# R2_Score Results (Test Data):\t0.00143528\n",
    "# XGB Regression Best Parameters:\t{'subsample': 1, 'n_estimators': 300, 'min_child_weight': 3, 'max_depth': 3, 'learning_rate': 0.05, 'gamma': 0.1, 'colsample_bytree': 0.9}"
   ]
  },
  {
   "cell_type": "markdown",
   "metadata": {},
   "source": [
    "## 3-d. Ridge Regression"
   ]
  },
  {
   "cell_type": "code",
   "execution_count": null,
   "metadata": {},
   "outputs": [],
   "source": [
    "#Ridge Regressor Optimization\n",
    "\n",
    "# ridge = Ridge()\n",
    "# param_dist_Ridge = {\n",
    "#     'alpha': [.05, .1, 1, 3, 5, 10],\n",
    "#     'solver': ['auto', 'svd', 'cholesky', 'lsqr', 'sparse_cg', 'sag']\n",
    "# }\n",
    "\n",
    "# ridge_cv = RandomizedSearchCV(\n",
    "#     ridge, param_dist_Ridge,\n",
    "#     n_iter=10,\n",
    "#     cv=5,\n",
    "#     scoring = 'neg_mean_squared_error',\n",
    "#     random_state=15,\n",
    "#     n_jobs=1,\n",
    "#     verbose=10\n",
    "# )\n",
    "\n",
    "# ridge_cv.fit(X_train, y_train)\n",
    "\n",
    "# #Print CV Results\n",
    "# print('Ridge Regressor CV Score (Train Data):')\n",
    "# print(np.sqrt(-1*ridge_cv.best_score_))\n",
    "\n",
    "# #Use test data to check for accuracy\n",
    "# y_pred = ridge_cv.best_estimator_.predict(X_test)\n",
    "# print('\\nMean Squared Error (Test Data):')\n",
    "# print(mean_squared_error(y_test, y_pred))\n",
    "# print('\\nR2_Score Results (Test Data):')\n",
    "# print(r2_score(y_test, y_pred))\n",
    "\n",
    "#print best params\n",
    "# print('\\nRidge Regression Best Parameters:')\n",
    "# print(ridge_cv.best_params_)\n",
    "\n",
    "# #Results\n",
    "# Ridge Regressor CV Score (Train Data):\t0.580821392\n",
    "# Mean Squared Error (Test Data):\t0.335545291\n",
    "# R2_Score Results (Test Data):\t0.000979282\n",
    "# Ridge Regression Best Parameters:\t{'solver': 'svd', 'alpha': 10}"
   ]
  },
  {
   "cell_type": "markdown",
   "metadata": {},
   "source": [
    "## 3-e. Gradient Boosting Regression"
   ]
  },
  {
   "cell_type": "code",
   "execution_count": 199,
   "metadata": {},
   "outputs": [],
   "source": [
    "#GBR Regressor Optimization\n",
    "\n",
    "# GBR = GradientBoostingRegressor()\n",
    "\n",
    "# param_dist_GBR = {\n",
    "#     'max_depth': [12, 15, 20],\n",
    "#     'n_estimators': [200, 300, 1000],\n",
    "#     'min_samples_leaf': [10, 25, 50],\n",
    "#     'learning_rate': [.001, .01, .1],\n",
    "#     'max_features': [.01, .1, .7]\n",
    "# }\n",
    "\n",
    "# gbr_cv = RandomizedSearchCV(\n",
    "#     GBR, param_dist_GBR,\n",
    "#     n_iter=10,\n",
    "#     cv=5,\n",
    "#     scoring='neg_mean_squared_error',\n",
    "#     n_jobs=5, #picked due to 8 core cpu on home PC with new GPU boosting, runs at about 65%\n",
    "#     verbose=10 #does not work correctly in Jupyter due to n_jobs>1\n",
    "# )\n",
    "\n",
    "# gbr_cv.fit(X_train, y_train)\n",
    "\n",
    "# #Print CV Results\n",
    "# print('Gradient Boost Regressor CV Score (Train Data):')\n",
    "# print(np.sqrt(-1*gbr_cv.best_score_))\n",
    "\n",
    "# #Use test data to check for accuracy\n",
    "# y_pred = gbr_cv.best_estimator_.predict(X_test)\n",
    "# print('\\nMean Squared Error (Test Data):')\n",
    "# print(mean_squared_error(y_test, y_pred))\n",
    "# print('\\nR2_Score Results (Test Data):')\n",
    "# print(r2_score(y_test, y_pred))\n",
    "\n",
    "# #print best params\n",
    "# print('\\nGBR Regression Best Parameters:')\n",
    "# print(gbr_cv.best_params_)\n",
    "\n",
    "# #Results\n",
    "# Gradient Boost Regressor CV Score (Train Data):\t0.581010902\n",
    "# Mean Squared Error (Test Data):\t0.335754809\n",
    "# R2_Score Results (Test Data):\t0.000355483\n",
    "# GBR Regression Best Parameters:\t{'n_estimators': 300, 'min_samples_leaf': 25, 'max_features': 0.01, 'max_depth': 12, 'learning_rate': 0.001}\n"
   ]
  },
  {
   "cell_type": "markdown",
   "metadata": {},
   "source": [
    "## 3-f. Light GBM Regression"
   ]
  },
  {
   "cell_type": "code",
   "execution_count": 181,
   "metadata": {},
   "outputs": [],
   "source": [
    "# #LightGBM Regressor Optimization\n",
    "\n",
    "# lgbm_regressor = lgb.LGBMRegressor()\n",
    "# param_dist_lgbm = {\n",
    "#     'boosting_type': ['gbdt', 'dart'],\n",
    "#     'num_leaves': [20, 30, 40],\n",
    "#     'learning_rate': [.01, .05, .1],\n",
    "#     'n_estimators': [100, 200, 300]\n",
    "# }\n",
    "\n",
    "# lgbm_cv = RandomizedSearchCV(\n",
    "#     lgbm_regressor, param_dist_lgbm,\n",
    "#     n_iter=15,\n",
    "#     cv=3,\n",
    "#     scoring='neg_mean_squared_error',\n",
    "#     n_jobs=1, \n",
    "#     verbose=10 \n",
    "# )\n",
    "\n",
    "# lgbm_cv.fit(X_train, y_train)\n",
    "\n",
    "# #Print CV Results\n",
    "# print('LGBM Regressor CV Score (Train Data):')\n",
    "# print(np.sqrt(-1*lgbm_cv.best_score_))\n",
    "\n",
    "# #Use test data to check for accuracy\n",
    "# y_pred = lgbm_cv.best_estimator_.predict(X_test)\n",
    "# print('\\nMean Squared Error (Test Data):')\n",
    "# print(mean_squared_error(y_test, y_pred))\n",
    "# print('\\nR2_Score Results (Test Data):')\n",
    "# print(r2_score(y_test, y_pred))\n",
    "\n",
    "# print('\\nlgbm Best Params:')\n",
    "# lgbm_cv.best_params_\n",
    "\n",
    "#Results\n"
   ]
  },
  {
   "cell_type": "markdown",
   "metadata": {},
   "source": [
    "## 3-g. CatBoost Regression"
   ]
  },
  {
   "cell_type": "code",
   "execution_count": 187,
   "metadata": {},
   "outputs": [],
   "source": [
    "#CatBoost Regressor Optimization\n",
    "# catboost = CatBoostRegressor(loss_function='RMSE', verbose=False)\n",
    "\n",
    "# param_dist_cat ={\n",
    "#     'iterations': [100, 500, 1000],\n",
    "#     'depth': [4, 6, 8, 10],\n",
    "#     'learning_rate': [0.01, 0.05, 0.1, 0.5]\n",
    "# }\n",
    "\n",
    "# cat_cv = RandomizedSearchCV(\n",
    "#     catboost, param_dist_cat,\n",
    "#     n_iter=15,\n",
    "#     cv=3,\n",
    "#     scoring='neg_mean_squared_error',\n",
    "#     random_state=15,\n",
    "#     n_jobs=1,\n",
    "#     verbose=10\n",
    "# )\n",
    "\n",
    "# cat_cv.fit(X_train, y_train)\n",
    "\n",
    "# #Print CV Results\n",
    "# print('CatBoost Regressor CV Score (Train Data):')\n",
    "# print(np.sqrt(-1 * cat_cv.best_score_))\n",
    "\n",
    "# #Use test data to check for accuracy\n",
    "# y_pred = cat_cv.best_estimator_.predict(X_test)\n",
    "# print('\\nMean Squared Error (Test Data):')\n",
    "# print(mean_squared_error(y_test, y_pred))\n",
    "# print('\\nR2_Score Results (Test Data):')\n",
    "# print(r2_score(y_test, y_pred))\n",
    "\n",
    "# print('\\nCatBoost Best Params:')\n",
    "# cat_cv.best_params_\n",
    "\n",
    "# #Results\n",
    "# CatBoost Regressor CV Score (Train Data):\t0.580750218\n",
    "# Mean Squared Error (Test Data):\t0.335345903\n",
    "# R2_Score Results (Test Data):\t0.001572921\n",
    "# CatBoost Best Params:\t{'learning_rate': 0.01, 'iterations': 500, 'depth': 6}"
   ]
  },
  {
   "cell_type": "markdown",
   "metadata": {},
   "source": [
    "## 3-h. Voting and Stacking Ensembles"
   ]
  },
  {
   "cell_type": "code",
   "execution_count": 207,
   "metadata": {
    "scrolled": true
   },
   "outputs": [],
   "source": [
    "#Set all the Models with best params into a Voting Regressor and Stacking Regressor\n",
    "\n",
    "#Top 3 Models\n",
    "# xgb_best = XGBRegressor(subsample= 1, n_estimators=300, min_child_weight=3,\\\n",
    "#                    max_depth=3, learning_rate=0.05, gamma=0.1, colsample_bytree=0.9)\n",
    "# cat_best = CatBoostRegressor(loss_function='RMSE', verbose=False, learning_rate=0.01, \\\n",
    "#                              iterations=500, depth=6)\n",
    "# lgbm_best = lgb.LGBMRegressor(num_leaves=40,  n_estimators=100,  learning_rate=0.05, boosting_type='gbdt')\n",
    "\n",
    "# #Other Models\n",
    "# lr_best = LinearRegression(copy_X=True, fit_intercept=False, n_jobs=1, positive=False)\n",
    "# rfr_best = RandomForestRegressor(n_estimators=250, min_samples_split=2, max_depth=5)\n",
    "# ridge_best = Ridge(solver='svd', alpha=10)\n",
    "# gbr_best = GradientBoostingRegressor(n_estimators=300, min_samples_leaf=25, max_features=0.01, max_depth=12, learning_rate=0.001)\n",
    "\n",
    "\n",
    "# #Set the voting regressor first to be the final estimator for the Stacking Regressor\n",
    "# vr = VotingRegressor([('xgb', XGB_best),\n",
    "#                       ('cat', cat_best),\n",
    "#                       ('lgbm', lgbm_best)],\n",
    "#                     weights=[3,2,1])\n",
    "\n",
    "\n",
    "\n",
    "# vr.fit(X_train, y_train)\n",
    "# # y_pred_vr = vr.predict(X_test)\n",
    "# # print('Mean Squared for Voting Regressor (XGB_best, cat_best, lgbm_best):')\n",
    "# # print(mean_squared_error(y_test, y_pred))\n",
    "# # print('\\nR2_Score Results (XGB_best, cat_best, lgbm_best):')\n",
    "# # print(r2_score(y_test, y_pred))\n",
    "\n",
    "# #Set Estimators\n",
    "# estimators = [\n",
    "#     ('xgb', XGB_best),\n",
    "#     ('cat', cat_best),\n",
    "#     ('lgbm', lgbm_best),\n",
    "#     ('lr', lr_best),\n",
    "#     ('rfr', rfr_best),\n",
    "#     ('ridge', ridge_best),\n",
    "#     ('gbr', gbr_best)\n",
    "# ]\n",
    "\n",
    "# #Make Stacking Regressor\n",
    "# stackreg = StackingRegressor(\n",
    "#             estimators = estimators,\n",
    "#             final_estimator = vr\n",
    "# )\n",
    "\n",
    "# #Fit and predict\n",
    "# stackreg.fit(X_train, y_train)\n",
    "# y_pred_stack = stackreg.predict(X_test)\n",
    "\n",
    "# #Scoring\n",
    "# print('Mean Squared Error (Test Data):')\n",
    "# print(mean_squared_error(y_test, y_pred_stack, squared=False))\n",
    "# print('\\nR2_Score Results (Test Data):')\n",
    "# print(r2_score(y_test, y_pred_stack))\n",
    "\n",
    "#Results\n",
    "# Voting Regressor (XGB, CatBoost, LGBM)\n",
    "# Mean Squared for Voting Regressor (XGB_best, cat_best, lgbm_best):\t0.335345903\n",
    "# R2_Score Results (XGB_best, cat_best, lgbm_best):\t0.001572921\n",
    "\t\n",
    "# Stacking Regressor with vr final est\n",
    "# Mean Squared Error (Stacking with vr final):\t0.579153722\n",
    "# R2_Score Results (Stacking with vr final):\t0.001355188\n"
   ]
  },
  {
   "cell_type": "markdown",
   "metadata": {},
   "source": [
    "# 4. Output (Phase 1: nat log normalized price)"
   ]
  },
  {
   "cell_type": "code",
   "execution_count": 269,
   "metadata": {},
   "outputs": [],
   "source": [
    "test_preprocessed = main_pipeline.fit_transform(test_df)"
   ]
  },
  {
   "cell_type": "code",
   "execution_count": 273,
   "metadata": {},
   "outputs": [],
   "source": [
    "#Run prediction #1 with log normalized pricing data and optimized regressors\n",
    "y_stacking = np.exp(stackreg.predict(test_preprocessed))"
   ]
  },
  {
   "cell_type": "code",
   "execution_count": 279,
   "metadata": {},
   "outputs": [
    {
     "name": "stdout",
     "output_type": "stream",
     "text": [
      "file load done\n"
     ]
    }
   ],
   "source": [
    "y_stacking_out_v1 = test_df[['id']]\n",
    "y_stacking_out_v1['Price'] = y_stacking\n",
    "\n",
    "y_stacking_out_v1.to_csv('submission v1.csv', index=False)\n",
    "print('file load done')"
   ]
  }
 ],
 "metadata": {
  "kaggle": {
   "accelerator": "none",
   "dataSources": [
    {
     "databundleVersionId": 10995111,
     "sourceId": 90274,
     "sourceType": "competition"
    }
   ],
   "dockerImageVersionId": 30886,
   "isGpuEnabled": false,
   "isInternetEnabled": true,
   "language": "python",
   "sourceType": "notebook"
  },
  "kernelspec": {
   "display_name": "Python 3 (ipykernel)",
   "language": "python",
   "name": "python3"
  },
  "language_info": {
   "codemirror_mode": {
    "name": "ipython",
    "version": 3
   },
   "file_extension": ".py",
   "mimetype": "text/x-python",
   "name": "python",
   "nbconvert_exporter": "python",
   "pygments_lexer": "ipython3",
   "version": "3.12.4"
  }
 },
 "nbformat": 4,
 "nbformat_minor": 4
}
