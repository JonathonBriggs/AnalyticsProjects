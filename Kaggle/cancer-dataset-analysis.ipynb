{
 "cells": [
  {
   "cell_type": "markdown",
   "id": "98e8cacd",
   "metadata": {
    "papermill": {
     "duration": 0.005048,
     "end_time": "2025-01-13T23:53:20.428446",
     "exception": false,
     "start_time": "2025-01-13T23:53:20.423398",
     "status": "completed"
    },
    "tags": []
   },
   "source": [
    "# Initial Data Cleaning and Stats Exploration"
   ]
  },
  {
   "cell_type": "code",
   "execution_count": 1,
   "id": "544ab42c",
   "metadata": {
    "_cell_guid": "b1076dfc-b9ad-4769-8c92-a6c4dae69d19",
    "_uuid": "8f2839f25d086af736a60e9eeb907d3b93b6e0e5",
    "execution": {
     "iopub.execute_input": "2025-01-13T23:53:20.438540Z",
     "iopub.status.busy": "2025-01-13T23:53:20.438169Z",
     "iopub.status.idle": "2025-01-13T23:53:20.809755Z",
     "shell.execute_reply": "2025-01-13T23:53:20.808649Z"
    },
    "papermill": {
     "duration": 0.378634,
     "end_time": "2025-01-13T23:53:20.811619",
     "exception": false,
     "start_time": "2025-01-13T23:53:20.432985",
     "status": "completed"
    },
    "tags": []
   },
   "outputs": [
    {
     "name": "stdout",
     "output_type": "stream",
     "text": [
      "/kaggle/input/cancer-issue/cancer issue.csv\n"
     ]
    }
   ],
   "source": [
    "# This Python 3 environment comes with many helpful analytics libraries installed\n",
    "# It is defined by the kaggle/python Docker image: https://github.com/kaggle/docker-python\n",
    "# For example, here's several helpful packages to load\n",
    "\n",
    "import numpy as np # linear algebra\n",
    "import pandas as pd # data processing, CSV file I/O (e.g. pd.read_csv)\n",
    "\n",
    "# Input data files are available in the read-only \"../input/\" directory\n",
    "# For example, running this (by clicking run or pressing Shift+Enter) will list all files under the input directory\n",
    "\n",
    "import os\n",
    "for dirname, _, filenames in os.walk('/kaggle/input'):\n",
    "    for filename in filenames:\n",
    "        print(os.path.join(dirname, filename))\n",
    "\n",
    "# You can write up to 20GB to the current directory (/kaggle/working/) that gets preserved as output when you create a version using \"Save & Run All\" \n",
    "# You can also write temporary files to /kaggle/temp/, but they won't be saved outside of the current session"
   ]
  },
  {
   "cell_type": "code",
   "execution_count": 2,
   "id": "a714c753",
   "metadata": {
    "execution": {
     "iopub.execute_input": "2025-01-13T23:53:20.822359Z",
     "iopub.status.busy": "2025-01-13T23:53:20.821875Z",
     "iopub.status.idle": "2025-01-13T23:53:22.295090Z",
     "shell.execute_reply": "2025-01-13T23:53:22.294285Z"
    },
    "papermill": {
     "duration": 1.48045,
     "end_time": "2025-01-13T23:53:22.296964",
     "exception": false,
     "start_time": "2025-01-13T23:53:20.816514",
     "status": "completed"
    },
    "tags": []
   },
   "outputs": [],
   "source": [
    "#Import graphing libraries\n",
    "import seaborn as sns\n",
    "import matplotlib.pyplot as plt "
   ]
  },
  {
   "cell_type": "code",
   "execution_count": 3,
   "id": "2e38bc53",
   "metadata": {
    "execution": {
     "iopub.execute_input": "2025-01-13T23:53:22.307344Z",
     "iopub.status.busy": "2025-01-13T23:53:22.306863Z",
     "iopub.status.idle": "2025-01-13T23:53:22.424939Z",
     "shell.execute_reply": "2025-01-13T23:53:22.423676Z"
    },
    "papermill": {
     "duration": 0.125024,
     "end_time": "2025-01-13T23:53:22.426699",
     "exception": false,
     "start_time": "2025-01-13T23:53:22.301675",
     "status": "completed"
    },
    "tags": []
   },
   "outputs": [
    {
     "name": "stdout",
     "output_type": "stream",
     "text": [
      "<class 'pandas.core.frame.DataFrame'>\n",
      "Index: 13360 entries, 1 to 17684\n",
      "Data columns (total 16 columns):\n",
      " #   Column             Non-Null Count  Dtype  \n",
      "---  ------             --------------  -----  \n",
      " 0   PatientID          13360 non-null  int64  \n",
      " 1   Age                13360 non-null  int64  \n",
      " 2   Gender             13360 non-null  object \n",
      " 3   Race/Ethnicity     13360 non-null  object \n",
      " 4   BMI                13360 non-null  float64\n",
      " 5   SmokingStatus      13360 non-null  object \n",
      " 6   FamilyHistory      13360 non-null  object \n",
      " 7   CancerType         13360 non-null  object \n",
      " 8   Stage              13360 non-null  object \n",
      " 9   TumorSize          13360 non-null  float64\n",
      " 10  TreatmentType      13360 non-null  object \n",
      " 11  TreatmentResponse  13360 non-null  object \n",
      " 12  SurvivalMonths     13360 non-null  int64  \n",
      " 13  Recurrence         13360 non-null  object \n",
      " 14  GeneticMarker      13360 non-null  object \n",
      " 15  HospitalRegion     13360 non-null  object \n",
      "dtypes: float64(2), int64(3), object(11)\n",
      "memory usage: 1.7+ MB\n",
      "None\n"
     ]
    }
   ],
   "source": [
    "#Create first DataFrame\n",
    "data = pd.read_csv('/kaggle/input/cancer-issue/cancer issue.csv')\n",
    "\n",
    "#Basic Info on variable types, possible nulls for investigation\n",
    "#data.info() #--17,686 records total\n",
    "#data.isna().sum() #--4,326 NaN records in GeneticMarker field\n",
    "cl_data = data.dropna(axis=0, how='any') #-- cleaned data with genetic marker NaN cleaned out\n",
    "print(cl_data.info())"
   ]
  },
  {
   "cell_type": "code",
   "execution_count": 4,
   "id": "25f6a5a7",
   "metadata": {
    "execution": {
     "iopub.execute_input": "2025-01-13T23:53:22.436907Z",
     "iopub.status.busy": "2025-01-13T23:53:22.436588Z",
     "iopub.status.idle": "2025-01-13T23:53:22.464062Z",
     "shell.execute_reply": "2025-01-13T23:53:22.463058Z"
    },
    "papermill": {
     "duration": 0.034332,
     "end_time": "2025-01-13T23:53:22.465719",
     "exception": false,
     "start_time": "2025-01-13T23:53:22.431387",
     "status": "completed"
    },
    "tags": []
   },
   "outputs": [
    {
     "data": {
      "text/html": [
       "<div>\n",
       "<style scoped>\n",
       "    .dataframe tbody tr th:only-of-type {\n",
       "        vertical-align: middle;\n",
       "    }\n",
       "\n",
       "    .dataframe tbody tr th {\n",
       "        vertical-align: top;\n",
       "    }\n",
       "\n",
       "    .dataframe thead th {\n",
       "        text-align: right;\n",
       "    }\n",
       "</style>\n",
       "<table border=\"1\" class=\"dataframe\">\n",
       "  <thead>\n",
       "    <tr style=\"text-align: right;\">\n",
       "      <th></th>\n",
       "      <th>PatientID</th>\n",
       "      <th>Age</th>\n",
       "      <th>BMI</th>\n",
       "      <th>TumorSize</th>\n",
       "      <th>SurvivalMonths</th>\n",
       "    </tr>\n",
       "  </thead>\n",
       "  <tbody>\n",
       "    <tr>\n",
       "      <th>count</th>\n",
       "      <td>13360.000000</td>\n",
       "      <td>13360.000000</td>\n",
       "      <td>13360.000000</td>\n",
       "      <td>13360.000000</td>\n",
       "      <td>13360.000000</td>\n",
       "    </tr>\n",
       "    <tr>\n",
       "      <th>mean</th>\n",
       "      <td>8839.728518</td>\n",
       "      <td>53.796632</td>\n",
       "      <td>29.226684</td>\n",
       "      <td>5.484581</td>\n",
       "      <td>60.487350</td>\n",
       "    </tr>\n",
       "    <tr>\n",
       "      <th>std</th>\n",
       "      <td>5098.236171</td>\n",
       "      <td>21.092605</td>\n",
       "      <td>6.212583</td>\n",
       "      <td>2.599659</td>\n",
       "      <td>34.829083</td>\n",
       "    </tr>\n",
       "    <tr>\n",
       "      <th>min</th>\n",
       "      <td>2.000000</td>\n",
       "      <td>18.000000</td>\n",
       "      <td>18.500000</td>\n",
       "      <td>1.000000</td>\n",
       "      <td>1.000000</td>\n",
       "    </tr>\n",
       "    <tr>\n",
       "      <th>25%</th>\n",
       "      <td>4421.750000</td>\n",
       "      <td>35.000000</td>\n",
       "      <td>23.900000</td>\n",
       "      <td>3.200000</td>\n",
       "      <td>30.000000</td>\n",
       "    </tr>\n",
       "    <tr>\n",
       "      <th>50%</th>\n",
       "      <td>8867.000000</td>\n",
       "      <td>54.000000</td>\n",
       "      <td>29.200000</td>\n",
       "      <td>5.500000</td>\n",
       "      <td>60.000000</td>\n",
       "    </tr>\n",
       "    <tr>\n",
       "      <th>75%</th>\n",
       "      <td>13231.250000</td>\n",
       "      <td>72.000000</td>\n",
       "      <td>34.600000</td>\n",
       "      <td>7.700000</td>\n",
       "      <td>91.000000</td>\n",
       "    </tr>\n",
       "    <tr>\n",
       "      <th>max</th>\n",
       "      <td>17685.000000</td>\n",
       "      <td>90.000000</td>\n",
       "      <td>40.000000</td>\n",
       "      <td>10.000000</td>\n",
       "      <td>120.000000</td>\n",
       "    </tr>\n",
       "  </tbody>\n",
       "</table>\n",
       "</div>"
      ],
      "text/plain": [
       "          PatientID           Age           BMI     TumorSize  SurvivalMonths\n",
       "count  13360.000000  13360.000000  13360.000000  13360.000000    13360.000000\n",
       "mean    8839.728518     53.796632     29.226684      5.484581       60.487350\n",
       "std     5098.236171     21.092605      6.212583      2.599659       34.829083\n",
       "min        2.000000     18.000000     18.500000      1.000000        1.000000\n",
       "25%     4421.750000     35.000000     23.900000      3.200000       30.000000\n",
       "50%     8867.000000     54.000000     29.200000      5.500000       60.000000\n",
       "75%    13231.250000     72.000000     34.600000      7.700000       91.000000\n",
       "max    17685.000000     90.000000     40.000000     10.000000      120.000000"
      ]
     },
     "execution_count": 4,
     "metadata": {},
     "output_type": "execute_result"
    }
   ],
   "source": [
    "#Stat descriptions for numeric fields after data cleaning\n",
    "cl_data.describe()"
   ]
  },
  {
   "cell_type": "code",
   "execution_count": 5,
   "id": "14c30ddc",
   "metadata": {
    "execution": {
     "iopub.execute_input": "2025-01-13T23:53:22.476408Z",
     "iopub.status.busy": "2025-01-13T23:53:22.476056Z",
     "iopub.status.idle": "2025-01-13T23:53:22.482890Z",
     "shell.execute_reply": "2025-01-13T23:53:22.481864Z"
    },
    "papermill": {
     "duration": 0.013865,
     "end_time": "2025-01-13T23:53:22.484486",
     "exception": false,
     "start_time": "2025-01-13T23:53:22.470621",
     "status": "completed"
    },
    "tags": []
   },
   "outputs": [
    {
     "name": "stdout",
     "output_type": "stream",
     "text": [
      "CancerType\n",
      "Leukemia    2269\n",
      "Skin        2264\n",
      "Breast      2236\n",
      "Prostate    2217\n",
      "Lung        2189\n",
      "Colon       2185\n",
      "Name: count, dtype: int64\n"
     ]
    }
   ],
   "source": [
    "print(cl_data['CancerType'].value_counts())"
   ]
  },
  {
   "cell_type": "markdown",
   "id": "17ec7664",
   "metadata": {
    "papermill": {
     "duration": 0.004496,
     "end_time": "2025-01-13T23:53:22.493834",
     "exception": false,
     "start_time": "2025-01-13T23:53:22.489338",
     "status": "completed"
    },
    "tags": []
   },
   "source": [
    "# 1. Gender Vs. Cancer Type:\n",
    "* First analysis focuses on exploration if gender is a significant factor in cancer data overall or within analysis of types\n",
    "* Conclusion: None of the cancer types appear to group significantly by gender within this dataset (before or after cleaning)"
   ]
  },
  {
   "cell_type": "code",
   "execution_count": 6,
   "id": "fadaac9b",
   "metadata": {
    "execution": {
     "iopub.execute_input": "2025-01-13T23:53:22.505152Z",
     "iopub.status.busy": "2025-01-13T23:53:22.504781Z",
     "iopub.status.idle": "2025-01-13T23:53:22.516650Z",
     "shell.execute_reply": "2025-01-13T23:53:22.515600Z"
    },
    "papermill": {
     "duration": 0.019517,
     "end_time": "2025-01-13T23:53:22.518413",
     "exception": false,
     "start_time": "2025-01-13T23:53:22.498896",
     "status": "completed"
    },
    "tags": []
   },
   "outputs": [
    {
     "name": "stdout",
     "output_type": "stream",
     "text": [
      "Gender\n",
      "Female    8930\n",
      "Male      8756\n",
      "Name: count, dtype: int64\n",
      "Gender\n",
      "Female    6743\n",
      "Male      6617\n",
      "Name: count, dtype: int64\n"
     ]
    },
    {
     "data": {
      "text/plain": [
       "'\\nResults:\\nGender\\nFemale    6743\\nMale      6617\\nSpread of 126 records\\n'"
      ]
     },
     "execution_count": 6,
     "metadata": {},
     "output_type": "execute_result"
    }
   ],
   "source": [
    "#First, analyze the raw data (prior to dropna for Genetic Marker)\n",
    "data_gender_split = data['Gender'].value_counts()\n",
    "print(data_gender_split)\n",
    "\n",
    "'''\n",
    "Results:\n",
    "Female    8930\n",
    "Male      8756\n",
    "Spread of 174 records\n",
    "'''\n",
    "\n",
    "#Second, analyze cl_data\n",
    "cl_data_gender_split = cl_data['Gender'].value_counts()\n",
    "print(cl_data_gender_split)\n",
    "'''\n",
    "Results:\n",
    "Gender\n",
    "Female    6743\n",
    "Male      6617\n",
    "Spread of 126 records\n",
    "'''"
   ]
  },
  {
   "cell_type": "code",
   "execution_count": 7,
   "id": "3e805816",
   "metadata": {
    "execution": {
     "iopub.execute_input": "2025-01-13T23:53:22.529687Z",
     "iopub.status.busy": "2025-01-13T23:53:22.529352Z",
     "iopub.status.idle": "2025-01-13T23:53:22.578278Z",
     "shell.execute_reply": "2025-01-13T23:53:22.577299Z"
    },
    "papermill": {
     "duration": 0.0564,
     "end_time": "2025-01-13T23:53:22.580064",
     "exception": false,
     "start_time": "2025-01-13T23:53:22.523664",
     "status": "completed"
    },
    "tags": []
   },
   "outputs": [
    {
     "data": {
      "text/html": [
       "<div>\n",
       "<style scoped>\n",
       "    .dataframe tbody tr th:only-of-type {\n",
       "        vertical-align: middle;\n",
       "    }\n",
       "\n",
       "    .dataframe tbody tr th {\n",
       "        vertical-align: top;\n",
       "    }\n",
       "\n",
       "    .dataframe thead th {\n",
       "        text-align: right;\n",
       "    }\n",
       "</style>\n",
       "<table border=\"1\" class=\"dataframe\">\n",
       "  <thead>\n",
       "    <tr style=\"text-align: right;\">\n",
       "      <th>CancerType</th>\n",
       "      <th>Breast</th>\n",
       "      <th>Colon</th>\n",
       "      <th>Leukemia</th>\n",
       "      <th>Lung</th>\n",
       "      <th>Prostate</th>\n",
       "      <th>Skin</th>\n",
       "      <th>All</th>\n",
       "    </tr>\n",
       "    <tr>\n",
       "      <th>Gender</th>\n",
       "      <th></th>\n",
       "      <th></th>\n",
       "      <th></th>\n",
       "      <th></th>\n",
       "      <th></th>\n",
       "      <th></th>\n",
       "      <th></th>\n",
       "    </tr>\n",
       "  </thead>\n",
       "  <tbody>\n",
       "    <tr>\n",
       "      <th>Female</th>\n",
       "      <td>1079</td>\n",
       "      <td>1101</td>\n",
       "      <td>1144</td>\n",
       "      <td>1133</td>\n",
       "      <td>1096</td>\n",
       "      <td>1190</td>\n",
       "      <td>6743</td>\n",
       "    </tr>\n",
       "    <tr>\n",
       "      <th>Male</th>\n",
       "      <td>1157</td>\n",
       "      <td>1084</td>\n",
       "      <td>1125</td>\n",
       "      <td>1056</td>\n",
       "      <td>1121</td>\n",
       "      <td>1074</td>\n",
       "      <td>6617</td>\n",
       "    </tr>\n",
       "    <tr>\n",
       "      <th>All</th>\n",
       "      <td>2236</td>\n",
       "      <td>2185</td>\n",
       "      <td>2269</td>\n",
       "      <td>2189</td>\n",
       "      <td>2217</td>\n",
       "      <td>2264</td>\n",
       "      <td>13360</td>\n",
       "    </tr>\n",
       "  </tbody>\n",
       "</table>\n",
       "</div>"
      ],
      "text/plain": [
       "CancerType  Breast  Colon  Leukemia  Lung  Prostate  Skin    All\n",
       "Gender                                                          \n",
       "Female        1079   1101      1144  1133      1096  1190   6743\n",
       "Male          1157   1084      1125  1056      1121  1074   6617\n",
       "All           2236   2185      2269  2189      2217  2264  13360"
      ]
     },
     "execution_count": 7,
     "metadata": {},
     "output_type": "execute_result"
    }
   ],
   "source": [
    "#Analysis of gender vs. cancer type displayed numerically\n",
    "gender_vs_type = pd.crosstab(cl_data['Gender'], cl_data['CancerType'], margins = True)\n",
    "gender_vs_type"
   ]
  },
  {
   "cell_type": "code",
   "execution_count": 8,
   "id": "b9040ded",
   "metadata": {
    "execution": {
     "iopub.execute_input": "2025-01-13T23:53:22.591503Z",
     "iopub.status.busy": "2025-01-13T23:53:22.591158Z",
     "iopub.status.idle": "2025-01-13T23:53:22.631295Z",
     "shell.execute_reply": "2025-01-13T23:53:22.630325Z"
    },
    "papermill": {
     "duration": 0.047633,
     "end_time": "2025-01-13T23:53:22.632977",
     "exception": false,
     "start_time": "2025-01-13T23:53:22.585344",
     "status": "completed"
    },
    "tags": []
   },
   "outputs": [
    {
     "data": {
      "text/html": [
       "<div>\n",
       "<style scoped>\n",
       "    .dataframe tbody tr th:only-of-type {\n",
       "        vertical-align: middle;\n",
       "    }\n",
       "\n",
       "    .dataframe tbody tr th {\n",
       "        vertical-align: top;\n",
       "    }\n",
       "\n",
       "    .dataframe thead th {\n",
       "        text-align: right;\n",
       "    }\n",
       "</style>\n",
       "<table border=\"1\" class=\"dataframe\">\n",
       "  <thead>\n",
       "    <tr style=\"text-align: right;\">\n",
       "      <th>CancerType</th>\n",
       "      <th>Breast</th>\n",
       "      <th>Colon</th>\n",
       "      <th>Leukemia</th>\n",
       "      <th>Lung</th>\n",
       "      <th>Prostate</th>\n",
       "      <th>Skin</th>\n",
       "      <th>All</th>\n",
       "    </tr>\n",
       "    <tr>\n",
       "      <th>Gender</th>\n",
       "      <th></th>\n",
       "      <th></th>\n",
       "      <th></th>\n",
       "      <th></th>\n",
       "      <th></th>\n",
       "      <th></th>\n",
       "      <th></th>\n",
       "    </tr>\n",
       "  </thead>\n",
       "  <tbody>\n",
       "    <tr>\n",
       "      <th>Female</th>\n",
       "      <td>48.26%</td>\n",
       "      <td>50.39%</td>\n",
       "      <td>50.42%</td>\n",
       "      <td>51.76%</td>\n",
       "      <td>49.44%</td>\n",
       "      <td>52.56%</td>\n",
       "      <td>50.47%</td>\n",
       "    </tr>\n",
       "    <tr>\n",
       "      <th>Male</th>\n",
       "      <td>51.74%</td>\n",
       "      <td>49.61%</td>\n",
       "      <td>49.58%</td>\n",
       "      <td>48.24%</td>\n",
       "      <td>50.56%</td>\n",
       "      <td>47.44%</td>\n",
       "      <td>49.53%</td>\n",
       "    </tr>\n",
       "  </tbody>\n",
       "</table>\n",
       "</div>"
      ],
      "text/plain": [
       "CancerType  Breast   Colon Leukemia    Lung Prostate    Skin     All\n",
       "Gender                                                              \n",
       "Female      48.26%  50.39%   50.42%  51.76%   49.44%  52.56%  50.47%\n",
       "Male        51.74%  49.61%   49.58%  48.24%   50.56%  47.44%  49.53%"
      ]
     },
     "execution_count": 8,
     "metadata": {},
     "output_type": "execute_result"
    }
   ],
   "source": [
    "#Analysis of gender vs. cancer type displayed in %'s'\n",
    "gender_vs_type_perc = pd.crosstab(cl_data['Gender'], cl_data['CancerType'], normalize='columns', margins = True)*100\n",
    "gender_vs_type_perc = gender_vs_type_perc.round(2).astype(str) + '%'\n",
    "gender_vs_type_perc"
   ]
  },
  {
   "cell_type": "markdown",
   "id": "16ec616b",
   "metadata": {
    "papermill": {
     "duration": 0.005006,
     "end_time": "2025-01-13T23:53:22.643329",
     "exception": false,
     "start_time": "2025-01-13T23:53:22.638323",
     "status": "completed"
    },
    "tags": []
   },
   "source": [
    "# 2. Smoking Vs. Cancer Type:\n",
    "* Next we can check if smoking status shows any effect on cancer type\n",
    "* Smokers and Past Smokers share roughly 1/3 of the entries each (2/3 total) vs. Non Smokers\n",
    "* Data for Smokers and Past Smokers was combined to show overall % effect from smoking\n",
    "* Conclusion: Smoking (past or current) is significantly represented vs. Non Smokers in this dataset"
   ]
  },
  {
   "cell_type": "code",
   "execution_count": 9,
   "id": "54638740",
   "metadata": {
    "execution": {
     "iopub.execute_input": "2025-01-13T23:53:22.654804Z",
     "iopub.status.busy": "2025-01-13T23:53:22.654460Z",
     "iopub.status.idle": "2025-01-13T23:53:22.691586Z",
     "shell.execute_reply": "2025-01-13T23:53:22.690607Z"
    },
    "papermill": {
     "duration": 0.044737,
     "end_time": "2025-01-13T23:53:22.693222",
     "exception": false,
     "start_time": "2025-01-13T23:53:22.648485",
     "status": "completed"
    },
    "tags": []
   },
   "outputs": [
    {
     "data": {
      "text/html": [
       "<div>\n",
       "<style scoped>\n",
       "    .dataframe tbody tr th:only-of-type {\n",
       "        vertical-align: middle;\n",
       "    }\n",
       "\n",
       "    .dataframe tbody tr th {\n",
       "        vertical-align: top;\n",
       "    }\n",
       "\n",
       "    .dataframe thead th {\n",
       "        text-align: right;\n",
       "    }\n",
       "</style>\n",
       "<table border=\"1\" class=\"dataframe\">\n",
       "  <thead>\n",
       "    <tr style=\"text-align: right;\">\n",
       "      <th>CancerType</th>\n",
       "      <th>Breast</th>\n",
       "      <th>Colon</th>\n",
       "      <th>Leukemia</th>\n",
       "      <th>Lung</th>\n",
       "      <th>Prostate</th>\n",
       "      <th>Skin</th>\n",
       "      <th>All</th>\n",
       "    </tr>\n",
       "    <tr>\n",
       "      <th>SmokingStatus</th>\n",
       "      <th></th>\n",
       "      <th></th>\n",
       "      <th></th>\n",
       "      <th></th>\n",
       "      <th></th>\n",
       "      <th></th>\n",
       "      <th></th>\n",
       "    </tr>\n",
       "  </thead>\n",
       "  <tbody>\n",
       "    <tr>\n",
       "      <th>Former Smoker</th>\n",
       "      <td>751</td>\n",
       "      <td>763</td>\n",
       "      <td>779</td>\n",
       "      <td>713</td>\n",
       "      <td>725</td>\n",
       "      <td>764</td>\n",
       "      <td>4495</td>\n",
       "    </tr>\n",
       "    <tr>\n",
       "      <th>Non-Smoker</th>\n",
       "      <td>771</td>\n",
       "      <td>723</td>\n",
       "      <td>766</td>\n",
       "      <td>740</td>\n",
       "      <td>748</td>\n",
       "      <td>742</td>\n",
       "      <td>4490</td>\n",
       "    </tr>\n",
       "    <tr>\n",
       "      <th>Smoker</th>\n",
       "      <td>714</td>\n",
       "      <td>699</td>\n",
       "      <td>724</td>\n",
       "      <td>736</td>\n",
       "      <td>744</td>\n",
       "      <td>758</td>\n",
       "      <td>4375</td>\n",
       "    </tr>\n",
       "    <tr>\n",
       "      <th>All</th>\n",
       "      <td>2236</td>\n",
       "      <td>2185</td>\n",
       "      <td>2269</td>\n",
       "      <td>2189</td>\n",
       "      <td>2217</td>\n",
       "      <td>2264</td>\n",
       "      <td>13360</td>\n",
       "    </tr>\n",
       "  </tbody>\n",
       "</table>\n",
       "</div>"
      ],
      "text/plain": [
       "CancerType     Breast  Colon  Leukemia  Lung  Prostate  Skin    All\n",
       "SmokingStatus                                                      \n",
       "Former Smoker     751    763       779   713       725   764   4495\n",
       "Non-Smoker        771    723       766   740       748   742   4490\n",
       "Smoker            714    699       724   736       744   758   4375\n",
       "All              2236   2185      2269  2189      2217  2264  13360"
      ]
     },
     "execution_count": 9,
     "metadata": {},
     "output_type": "execute_result"
    }
   ],
   "source": [
    "#Analysis of smoking status vs. cancer type\n",
    "smoke_vs_type = pd.crosstab(cl_data['SmokingStatus'], cl_data['CancerType'], margins = True)\n",
    "smoke_vs_type"
   ]
  },
  {
   "cell_type": "code",
   "execution_count": 10,
   "id": "9336677e",
   "metadata": {
    "execution": {
     "iopub.execute_input": "2025-01-13T23:53:22.705325Z",
     "iopub.status.busy": "2025-01-13T23:53:22.704946Z",
     "iopub.status.idle": "2025-01-13T23:53:22.823645Z",
     "shell.execute_reply": "2025-01-13T23:53:22.822705Z"
    },
    "papermill": {
     "duration": 0.126335,
     "end_time": "2025-01-13T23:53:22.825176",
     "exception": false,
     "start_time": "2025-01-13T23:53:22.698841",
     "status": "completed"
    },
    "tags": []
   },
   "outputs": [
    {
     "data": {
      "text/html": [
       "<div>\n",
       "<style scoped>\n",
       "    .dataframe tbody tr th:only-of-type {\n",
       "        vertical-align: middle;\n",
       "    }\n",
       "\n",
       "    .dataframe tbody tr th {\n",
       "        vertical-align: top;\n",
       "    }\n",
       "\n",
       "    .dataframe thead th {\n",
       "        text-align: right;\n",
       "    }\n",
       "</style>\n",
       "<table border=\"1\" class=\"dataframe\">\n",
       "  <thead>\n",
       "    <tr style=\"text-align: right;\">\n",
       "      <th>CancerType</th>\n",
       "      <th>Breast</th>\n",
       "      <th>Colon</th>\n",
       "      <th>Leukemia</th>\n",
       "      <th>Lung</th>\n",
       "      <th>Prostate</th>\n",
       "      <th>Skin</th>\n",
       "      <th>All</th>\n",
       "    </tr>\n",
       "    <tr>\n",
       "      <th>Smoke_Comp</th>\n",
       "      <th></th>\n",
       "      <th></th>\n",
       "      <th></th>\n",
       "      <th></th>\n",
       "      <th></th>\n",
       "      <th></th>\n",
       "      <th></th>\n",
       "    </tr>\n",
       "  </thead>\n",
       "  <tbody>\n",
       "    <tr>\n",
       "      <th>Non-Smoker</th>\n",
       "      <td>771</td>\n",
       "      <td>723</td>\n",
       "      <td>766</td>\n",
       "      <td>740</td>\n",
       "      <td>748</td>\n",
       "      <td>742</td>\n",
       "      <td>4490</td>\n",
       "    </tr>\n",
       "    <tr>\n",
       "      <th>Smoker</th>\n",
       "      <td>1465</td>\n",
       "      <td>1462</td>\n",
       "      <td>1503</td>\n",
       "      <td>1449</td>\n",
       "      <td>1469</td>\n",
       "      <td>1522</td>\n",
       "      <td>8870</td>\n",
       "    </tr>\n",
       "    <tr>\n",
       "      <th>All</th>\n",
       "      <td>2236</td>\n",
       "      <td>2185</td>\n",
       "      <td>2269</td>\n",
       "      <td>2189</td>\n",
       "      <td>2217</td>\n",
       "      <td>2264</td>\n",
       "      <td>13360</td>\n",
       "    </tr>\n",
       "  </tbody>\n",
       "</table>\n",
       "</div>"
      ],
      "text/plain": [
       "CancerType  Breast  Colon  Leukemia  Lung  Prostate  Skin    All\n",
       "Smoke_Comp                                                      \n",
       "Non-Smoker     771    723       766   740       748   742   4490\n",
       "Smoker        1465   1462      1503  1449      1469  1522   8870\n",
       "All           2236   2185      2269  2189      2217  2264  13360"
      ]
     },
     "execution_count": 10,
     "metadata": {},
     "output_type": "execute_result"
    }
   ],
   "source": [
    "#Since smoking and former smoking seem to represent a larger margin, we can quickly combine the categories with a lambda function\n",
    "#Note: I had to explicitly create cl_data as a copy here since the lambda function was generating a SettingWithCopyWarning otherwise\n",
    "cl_data = cl_data.copy()\n",
    "cl_data['Smoke_Comp'] = cl_data.apply(lambda x: 'Smoker' if x['SmokingStatus'] in ['Former Smoker', 'Smoker'] else 'Non-Smoker', axis=1)\n",
    "smoke_vs_type_fix = pd.crosstab(cl_data['Smoke_Comp'], cl_data['CancerType'], margins = True)\n",
    "smoke_vs_type_fix"
   ]
  },
  {
   "cell_type": "code",
   "execution_count": 11,
   "id": "a9e59ec5",
   "metadata": {
    "execution": {
     "iopub.execute_input": "2025-01-13T23:53:22.838185Z",
     "iopub.status.busy": "2025-01-13T23:53:22.837858Z",
     "iopub.status.idle": "2025-01-13T23:53:22.877074Z",
     "shell.execute_reply": "2025-01-13T23:53:22.876111Z"
    },
    "papermill": {
     "duration": 0.047577,
     "end_time": "2025-01-13T23:53:22.878858",
     "exception": false,
     "start_time": "2025-01-13T23:53:22.831281",
     "status": "completed"
    },
    "tags": []
   },
   "outputs": [
    {
     "data": {
      "text/html": [
       "<div>\n",
       "<style scoped>\n",
       "    .dataframe tbody tr th:only-of-type {\n",
       "        vertical-align: middle;\n",
       "    }\n",
       "\n",
       "    .dataframe tbody tr th {\n",
       "        vertical-align: top;\n",
       "    }\n",
       "\n",
       "    .dataframe thead th {\n",
       "        text-align: right;\n",
       "    }\n",
       "</style>\n",
       "<table border=\"1\" class=\"dataframe\">\n",
       "  <thead>\n",
       "    <tr style=\"text-align: right;\">\n",
       "      <th>CancerType</th>\n",
       "      <th>Breast</th>\n",
       "      <th>Colon</th>\n",
       "      <th>Leukemia</th>\n",
       "      <th>Lung</th>\n",
       "      <th>Prostate</th>\n",
       "      <th>Skin</th>\n",
       "      <th>All</th>\n",
       "    </tr>\n",
       "    <tr>\n",
       "      <th>Smoke_Comp</th>\n",
       "      <th></th>\n",
       "      <th></th>\n",
       "      <th></th>\n",
       "      <th></th>\n",
       "      <th></th>\n",
       "      <th></th>\n",
       "      <th></th>\n",
       "    </tr>\n",
       "  </thead>\n",
       "  <tbody>\n",
       "    <tr>\n",
       "      <th>Non-Smoker</th>\n",
       "      <td>34.0%</td>\n",
       "      <td>33.0%</td>\n",
       "      <td>34.0%</td>\n",
       "      <td>34.0%</td>\n",
       "      <td>34.0%</td>\n",
       "      <td>33.0%</td>\n",
       "      <td>34.0%</td>\n",
       "    </tr>\n",
       "    <tr>\n",
       "      <th>Smoker</th>\n",
       "      <td>66.0%</td>\n",
       "      <td>67.0%</td>\n",
       "      <td>66.0%</td>\n",
       "      <td>66.0%</td>\n",
       "      <td>66.0%</td>\n",
       "      <td>67.0%</td>\n",
       "      <td>66.0%</td>\n",
       "    </tr>\n",
       "  </tbody>\n",
       "</table>\n",
       "</div>"
      ],
      "text/plain": [
       "CancerType Breast  Colon Leukemia   Lung Prostate   Skin    All\n",
       "Smoke_Comp                                                     \n",
       "Non-Smoker  34.0%  33.0%    34.0%  34.0%    34.0%  33.0%  34.0%\n",
       "Smoker      66.0%  67.0%    66.0%  66.0%    66.0%  67.0%  66.0%"
      ]
     },
     "execution_count": 11,
     "metadata": {},
     "output_type": "execute_result"
    }
   ],
   "source": [
    "#There is a clear bias toward smokers and past smokers for cancer types\n",
    "smoke_vs_type_fix_perc = pd.crosstab(cl_data['Smoke_Comp'], cl_data['CancerType'], margins = True, normalize='columns')*100\n",
    "smoke_vs_type_fix_perc = smoke_vs_type_fix_perc.round(0).astype(str)+'%'\n",
    "smoke_vs_type_fix_perc"
   ]
  },
  {
   "cell_type": "markdown",
   "id": "617eb213",
   "metadata": {
    "papermill": {
     "duration": 0.005537,
     "end_time": "2025-01-13T23:53:22.890355",
     "exception": false,
     "start_time": "2025-01-13T23:53:22.884818",
     "status": "completed"
    },
    "tags": []
   },
   "source": [
    "# 3. Genetic Marker (+ Gender) Vs. Cancer Type\n",
    "* Given: Genetic Marker is not present for ~4k records and is a limiting factor to the data set when NaN values were removed\n",
    "* Comparison of Genetic Marker (+ Gender) vs. Cancer Type analyzed via crosstab table\n",
    "* Conclusion: No obvious link of specific single Genetic Markers to Cancer Types"
   ]
  },
  {
   "cell_type": "code",
   "execution_count": 12,
   "id": "f03f8cee",
   "metadata": {
    "execution": {
     "iopub.execute_input": "2025-01-13T23:53:22.902822Z",
     "iopub.status.busy": "2025-01-13T23:53:22.902478Z",
     "iopub.status.idle": "2025-01-13T23:53:22.909899Z",
     "shell.execute_reply": "2025-01-13T23:53:22.908977Z"
    },
    "papermill": {
     "duration": 0.015471,
     "end_time": "2025-01-13T23:53:22.911457",
     "exception": false,
     "start_time": "2025-01-13T23:53:22.895986",
     "status": "completed"
    },
    "tags": []
   },
   "outputs": [
    {
     "data": {
      "text/plain": [
       "GeneticMarker\n",
       "BRCA1    4478\n",
       "EGFR     4459\n",
       "KRAS     4423\n",
       "Name: count, dtype: int64"
      ]
     },
     "execution_count": 12,
     "metadata": {},
     "output_type": "execute_result"
    }
   ],
   "source": [
    "#Genetic Marker Split (regardless of Cancer Type)\n",
    "cl_data['GeneticMarker'].value_counts()"
   ]
  },
  {
   "cell_type": "code",
   "execution_count": 13,
   "id": "b3cabaae",
   "metadata": {
    "execution": {
     "iopub.execute_input": "2025-01-13T23:53:22.924275Z",
     "iopub.status.busy": "2025-01-13T23:53:22.923923Z",
     "iopub.status.idle": "2025-01-13T23:53:22.966502Z",
     "shell.execute_reply": "2025-01-13T23:53:22.965485Z"
    },
    "papermill": {
     "duration": 0.050798,
     "end_time": "2025-01-13T23:53:22.968133",
     "exception": false,
     "start_time": "2025-01-13T23:53:22.917335",
     "status": "completed"
    },
    "tags": []
   },
   "outputs": [
    {
     "data": {
      "text/html": [
       "<div>\n",
       "<style scoped>\n",
       "    .dataframe tbody tr th:only-of-type {\n",
       "        vertical-align: middle;\n",
       "    }\n",
       "\n",
       "    .dataframe tbody tr th {\n",
       "        vertical-align: top;\n",
       "    }\n",
       "\n",
       "    .dataframe thead th {\n",
       "        text-align: right;\n",
       "    }\n",
       "</style>\n",
       "<table border=\"1\" class=\"dataframe\">\n",
       "  <thead>\n",
       "    <tr style=\"text-align: right;\">\n",
       "      <th></th>\n",
       "      <th>GeneticMarker</th>\n",
       "      <th>BRCA1</th>\n",
       "      <th>EGFR</th>\n",
       "      <th>KRAS</th>\n",
       "      <th>All</th>\n",
       "    </tr>\n",
       "    <tr>\n",
       "      <th>CancerType</th>\n",
       "      <th>Gender</th>\n",
       "      <th></th>\n",
       "      <th></th>\n",
       "      <th></th>\n",
       "      <th></th>\n",
       "    </tr>\n",
       "  </thead>\n",
       "  <tbody>\n",
       "    <tr>\n",
       "      <th rowspan=\"2\" valign=\"top\">Breast</th>\n",
       "      <th>Female</th>\n",
       "      <td>357</td>\n",
       "      <td>347</td>\n",
       "      <td>375</td>\n",
       "      <td>1079</td>\n",
       "    </tr>\n",
       "    <tr>\n",
       "      <th>Male</th>\n",
       "      <td>408</td>\n",
       "      <td>373</td>\n",
       "      <td>376</td>\n",
       "      <td>1157</td>\n",
       "    </tr>\n",
       "    <tr>\n",
       "      <th rowspan=\"2\" valign=\"top\">Colon</th>\n",
       "      <th>Female</th>\n",
       "      <td>379</td>\n",
       "      <td>367</td>\n",
       "      <td>355</td>\n",
       "      <td>1101</td>\n",
       "    </tr>\n",
       "    <tr>\n",
       "      <th>Male</th>\n",
       "      <td>353</td>\n",
       "      <td>369</td>\n",
       "      <td>362</td>\n",
       "      <td>1084</td>\n",
       "    </tr>\n",
       "    <tr>\n",
       "      <th rowspan=\"2\" valign=\"top\">Leukemia</th>\n",
       "      <th>Female</th>\n",
       "      <td>394</td>\n",
       "      <td>382</td>\n",
       "      <td>368</td>\n",
       "      <td>1144</td>\n",
       "    </tr>\n",
       "    <tr>\n",
       "      <th>Male</th>\n",
       "      <td>389</td>\n",
       "      <td>350</td>\n",
       "      <td>386</td>\n",
       "      <td>1125</td>\n",
       "    </tr>\n",
       "    <tr>\n",
       "      <th rowspan=\"2\" valign=\"top\">Lung</th>\n",
       "      <th>Female</th>\n",
       "      <td>383</td>\n",
       "      <td>382</td>\n",
       "      <td>368</td>\n",
       "      <td>1133</td>\n",
       "    </tr>\n",
       "    <tr>\n",
       "      <th>Male</th>\n",
       "      <td>328</td>\n",
       "      <td>368</td>\n",
       "      <td>360</td>\n",
       "      <td>1056</td>\n",
       "    </tr>\n",
       "    <tr>\n",
       "      <th rowspan=\"2\" valign=\"top\">Prostate</th>\n",
       "      <th>Female</th>\n",
       "      <td>357</td>\n",
       "      <td>374</td>\n",
       "      <td>365</td>\n",
       "      <td>1096</td>\n",
       "    </tr>\n",
       "    <tr>\n",
       "      <th>Male</th>\n",
       "      <td>367</td>\n",
       "      <td>411</td>\n",
       "      <td>343</td>\n",
       "      <td>1121</td>\n",
       "    </tr>\n",
       "    <tr>\n",
       "      <th rowspan=\"2\" valign=\"top\">Skin</th>\n",
       "      <th>Female</th>\n",
       "      <td>415</td>\n",
       "      <td>361</td>\n",
       "      <td>414</td>\n",
       "      <td>1190</td>\n",
       "    </tr>\n",
       "    <tr>\n",
       "      <th>Male</th>\n",
       "      <td>348</td>\n",
       "      <td>375</td>\n",
       "      <td>351</td>\n",
       "      <td>1074</td>\n",
       "    </tr>\n",
       "    <tr>\n",
       "      <th>All</th>\n",
       "      <th></th>\n",
       "      <td>4478</td>\n",
       "      <td>4459</td>\n",
       "      <td>4423</td>\n",
       "      <td>13360</td>\n",
       "    </tr>\n",
       "  </tbody>\n",
       "</table>\n",
       "</div>"
      ],
      "text/plain": [
       "GeneticMarker      BRCA1  EGFR  KRAS    All\n",
       "CancerType Gender                          \n",
       "Breast     Female    357   347   375   1079\n",
       "           Male      408   373   376   1157\n",
       "Colon      Female    379   367   355   1101\n",
       "           Male      353   369   362   1084\n",
       "Leukemia   Female    394   382   368   1144\n",
       "           Male      389   350   386   1125\n",
       "Lung       Female    383   382   368   1133\n",
       "           Male      328   368   360   1056\n",
       "Prostate   Female    357   374   365   1096\n",
       "           Male      367   411   343   1121\n",
       "Skin       Female    415   361   414   1190\n",
       "           Male      348   375   351   1074\n",
       "All                 4478  4459  4423  13360"
      ]
     },
     "execution_count": 13,
     "metadata": {},
     "output_type": "execute_result"
    }
   ],
   "source": [
    "#Initial investigation showed a relatively average split of the Genetic Markers across Cancer Types, so Gender was added in as well to see if a pattern would emerge\n",
    "cancertype_vs_geneticmarker = pd.crosstab([cl_data['CancerType'], cl_data['Gender']], cl_data['GeneticMarker'], margins=True)\n",
    "cancertype_vs_geneticmarker"
   ]
  },
  {
   "cell_type": "code",
   "execution_count": 14,
   "id": "58fc570e",
   "metadata": {
    "execution": {
     "iopub.execute_input": "2025-01-13T23:53:22.981429Z",
     "iopub.status.busy": "2025-01-13T23:53:22.981074Z",
     "iopub.status.idle": "2025-01-13T23:53:23.003986Z",
     "shell.execute_reply": "2025-01-13T23:53:23.002629Z"
    },
    "papermill": {
     "duration": 0.031482,
     "end_time": "2025-01-13T23:53:23.005723",
     "exception": false,
     "start_time": "2025-01-13T23:53:22.974241",
     "status": "completed"
    },
    "tags": []
   },
   "outputs": [
    {
     "data": {
      "text/html": [
       "<div>\n",
       "<style scoped>\n",
       "    .dataframe tbody tr th:only-of-type {\n",
       "        vertical-align: middle;\n",
       "    }\n",
       "\n",
       "    .dataframe tbody tr th {\n",
       "        vertical-align: top;\n",
       "    }\n",
       "\n",
       "    .dataframe thead th {\n",
       "        text-align: right;\n",
       "    }\n",
       "</style>\n",
       "<table border=\"1\" class=\"dataframe\">\n",
       "  <thead>\n",
       "    <tr style=\"text-align: right;\">\n",
       "      <th></th>\n",
       "      <th>GeneticMarker</th>\n",
       "      <th>BRCA1</th>\n",
       "      <th>EGFR</th>\n",
       "      <th>KRAS</th>\n",
       "    </tr>\n",
       "    <tr>\n",
       "      <th>CancerType</th>\n",
       "      <th>Gender</th>\n",
       "      <th></th>\n",
       "      <th></th>\n",
       "      <th></th>\n",
       "    </tr>\n",
       "  </thead>\n",
       "  <tbody>\n",
       "    <tr>\n",
       "      <th rowspan=\"2\" valign=\"top\">Breast</th>\n",
       "      <th>Female</th>\n",
       "      <td>33.1%</td>\n",
       "      <td>32.2%</td>\n",
       "      <td>34.8%</td>\n",
       "    </tr>\n",
       "    <tr>\n",
       "      <th>Male</th>\n",
       "      <td>35.3%</td>\n",
       "      <td>32.2%</td>\n",
       "      <td>32.5%</td>\n",
       "    </tr>\n",
       "    <tr>\n",
       "      <th rowspan=\"2\" valign=\"top\">Colon</th>\n",
       "      <th>Female</th>\n",
       "      <td>34.4%</td>\n",
       "      <td>33.3%</td>\n",
       "      <td>32.2%</td>\n",
       "    </tr>\n",
       "    <tr>\n",
       "      <th>Male</th>\n",
       "      <td>32.6%</td>\n",
       "      <td>34.0%</td>\n",
       "      <td>33.4%</td>\n",
       "    </tr>\n",
       "    <tr>\n",
       "      <th rowspan=\"2\" valign=\"top\">Leukemia</th>\n",
       "      <th>Female</th>\n",
       "      <td>34.4%</td>\n",
       "      <td>33.4%</td>\n",
       "      <td>32.2%</td>\n",
       "    </tr>\n",
       "    <tr>\n",
       "      <th>Male</th>\n",
       "      <td>34.6%</td>\n",
       "      <td>31.1%</td>\n",
       "      <td>34.3%</td>\n",
       "    </tr>\n",
       "    <tr>\n",
       "      <th rowspan=\"2\" valign=\"top\">Lung</th>\n",
       "      <th>Female</th>\n",
       "      <td>33.8%</td>\n",
       "      <td>33.7%</td>\n",
       "      <td>32.5%</td>\n",
       "    </tr>\n",
       "    <tr>\n",
       "      <th>Male</th>\n",
       "      <td>31.1%</td>\n",
       "      <td>34.8%</td>\n",
       "      <td>34.1%</td>\n",
       "    </tr>\n",
       "    <tr>\n",
       "      <th rowspan=\"2\" valign=\"top\">Prostate</th>\n",
       "      <th>Female</th>\n",
       "      <td>32.6%</td>\n",
       "      <td>34.1%</td>\n",
       "      <td>33.3%</td>\n",
       "    </tr>\n",
       "    <tr>\n",
       "      <th>Male</th>\n",
       "      <td>32.7%</td>\n",
       "      <td>36.7%</td>\n",
       "      <td>30.6%</td>\n",
       "    </tr>\n",
       "    <tr>\n",
       "      <th rowspan=\"2\" valign=\"top\">Skin</th>\n",
       "      <th>Female</th>\n",
       "      <td>34.9%</td>\n",
       "      <td>30.3%</td>\n",
       "      <td>34.8%</td>\n",
       "    </tr>\n",
       "    <tr>\n",
       "      <th>Male</th>\n",
       "      <td>32.4%</td>\n",
       "      <td>34.9%</td>\n",
       "      <td>32.7%</td>\n",
       "    </tr>\n",
       "  </tbody>\n",
       "</table>\n",
       "</div>"
      ],
      "text/plain": [
       "GeneticMarker      BRCA1   EGFR   KRAS\n",
       "CancerType Gender                     \n",
       "Breast     Female  33.1%  32.2%  34.8%\n",
       "           Male    35.3%  32.2%  32.5%\n",
       "Colon      Female  34.4%  33.3%  32.2%\n",
       "           Male    32.6%  34.0%  33.4%\n",
       "Leukemia   Female  34.4%  33.4%  32.2%\n",
       "           Male    34.6%  31.1%  34.3%\n",
       "Lung       Female  33.8%  33.7%  32.5%\n",
       "           Male    31.1%  34.8%  34.1%\n",
       "Prostate   Female  32.6%  34.1%  33.3%\n",
       "           Male    32.7%  36.7%  30.6%\n",
       "Skin       Female  34.9%  30.3%  34.8%\n",
       "           Male    32.4%  34.9%  32.7%"
      ]
     },
     "execution_count": 14,
     "metadata": {},
     "output_type": "execute_result"
    }
   ],
   "source": [
    "#Note 1: Normalizing by row in this case to show the distribution by Genetic Marker for each Cancer Type\n",
    "#Note 2: Even with addition of Gender in the crosstab, no distinct patter is obviously emerging in this comparison\n",
    "\n",
    "cancertype_vs_geneticmarker_perc = pd.crosstab([cl_data['CancerType'], cl_data['Gender']], cl_data['GeneticMarker'], normalize='index')*100\n",
    "cancertype_vs_geneticmarker_perc = cancertype_vs_geneticmarker_perc.round(1).astype(str) +'%'\n",
    "cancertype_vs_geneticmarker_perc"
   ]
  },
  {
   "cell_type": "markdown",
   "id": "4a3b145d",
   "metadata": {
    "papermill": {
     "duration": 0.006128,
     "end_time": "2025-01-13T23:53:23.018213",
     "exception": false,
     "start_time": "2025-01-13T23:53:23.012085",
     "status": "completed"
    },
    "tags": []
   },
   "source": [
    "# 4. Something about Recurrence here"
   ]
  },
  {
   "cell_type": "markdown",
   "id": "c9eeae0d",
   "metadata": {
    "papermill": {
     "duration": 0.006006,
     "end_time": "2025-01-13T23:53:23.030840",
     "exception": false,
     "start_time": "2025-01-13T23:53:23.024834",
     "status": "completed"
    },
    "tags": []
   },
   "source": [
    "# Charts: Factors Vs. Cancer Type (Section 1 - 4)\n",
    "* Figure 1: Gender vs. Cancer Type\n",
    "* Figure 2: Smoking vs. Cancer Type\n",
    "* Figure 3: Genetic Marker vs. Cancer Type\n",
    "* Figure 4: Genetic Marker vs. Cancer Type"
   ]
  },
  {
   "cell_type": "code",
   "execution_count": 15,
   "id": "794a9076",
   "metadata": {
    "execution": {
     "iopub.execute_input": "2025-01-13T23:53:23.045983Z",
     "iopub.status.busy": "2025-01-13T23:53:23.045627Z",
     "iopub.status.idle": "2025-01-13T23:53:24.306984Z",
     "shell.execute_reply": "2025-01-13T23:53:24.305890Z"
    },
    "papermill": {
     "duration": 1.270499,
     "end_time": "2025-01-13T23:53:24.308861",
     "exception": false,
     "start_time": "2025-01-13T23:53:23.038362",
     "status": "completed"
    },
    "tags": []
   },
   "outputs": [
    {
     "data": {
      "text/plain": [
       "<Figure size 640x480 with 0 Axes>"
      ]
     },
     "metadata": {},
     "output_type": "display_data"
    },
    {
     "data": {
      "image/png": "[encoded data removed]",
      "text/plain": [
       "<Figure size 1500x1500 with 4 Axes>"
      ]
     },
     "metadata": {},
     "output_type": "display_data"
    }
   ],
   "source": [
    "plt.clf() #clear figure\n",
    "fig, axes = plt.subplots(2,2, figsize=(15,15)) #4 plots in 10in x 10in frame\n",
    "axes = axes.flatten() #creates single numerical index for addressing all chart locations\n",
    "\n",
    "#chart 1: Gender vs. Cancer Type\n",
    "sns.countplot(cl_data, x = 'Gender', hue ='CancerType', ax=axes[0], palette = 'rainbow')\n",
    "axes[0].set_title('Figure 1: Gender vs. Cancer Type', fontweight='bold')\n",
    "axes[0].set_xlabel('Gender', fontweight='bold')\n",
    "axes[0].set_ylabel('Count of Patients', fontweight='bold')\n",
    "axes[0].legend(borderpad=1, loc='upper right', markerscale=.3, ncol=3)\n",
    "axes[0].set_ylim(0,1600)\n",
    "\n",
    "#chart 1: Smoking vs. Cancer Type\n",
    "sns.countplot(cl_data, x='Smoke_Comp', hue='CancerType', ax=axes[1], palette = 'rainbow') #Using the updated smoking data to combine past and present smokers\n",
    "axes[1].set_title('Figure 2: Smoking vs. Cancer Type', fontweight='bold')\n",
    "axes[1].set_xlabel('Smoking Status (incl. Past and Present)', fontweight='bold')\n",
    "axes[1].set_ylabel('Count of Patients', fontweight='bold')\n",
    "axes[1].legend(borderpad=1, loc='upper right', markerscale=.3, ncol=3)\n",
    "axes[1].set_ylim(0, 2000)\n",
    "\n",
    "sns.countplot(cl_data, x='GeneticMarker', hue='CancerType', ax=axes[2], palette='rainbow')\n",
    "axes[2].set_title('Figure 3: Genetic Marker vs. Cancer Type', fontweight='bold')\n",
    "axes[2].set_xlabel('Genetic Marker', fontweight='bold')\n",
    "axes[2].set_ylabel('Count of Patients', fontweight='bold')\n",
    "axes[2].legend(borderpad=1, loc='upper right', ncol=3, markerscale=.3)\n",
    "axes[2].set_ylim(0,1200)\n",
    "\n",
    "sns.countplot(cl_data, x='GeneticMarker', hue='CancerType', ax=axes[3], palette='rainbow')\n",
    "axes[3].set_title('Figure 4: Genetic Marker vs. Cancer Type', fontweight='bold')\n",
    "axes[3].set_xlabel('Genetic Marker', fontweight='bold')\n",
    "axes[3].set_ylabel('Count of Patients', fontweight='bold')\n",
    "axes[3].legend(borderpad=1, loc='upper right', ncol=3, markerscale=.3)\n",
    "axes[3].set_ylim(0, 1000)\n",
    "plt.tight_layout()\n",
    "plt.show()"
   ]
  }
 ],
 "metadata": {
  "kaggle": {
   "accelerator": "none",
   "dataSources": [
    {
     "datasetId": 6463148,
     "sourceId": 10442055,
     "sourceType": "datasetVersion"
    }
   ],
   "dockerImageVersionId": 30822,
   "isGpuEnabled": false,
   "isInternetEnabled": true,
   "language": "python",
   "sourceType": "notebook"
  },
  "kernelspec": {
   "display_name": "Python 3",
   "language": "python",
   "name": "python3"
  },
  "language_info": {
   "codemirror_mode": {
    "name": "ipython",
    "version": 3
   },
   "file_extension": ".py",
   "mimetype": "text/x-python",
   "name": "python",
   "nbconvert_exporter": "python",
   "pygments_lexer": "ipython3",
   "version": "3.10.12"
  },
  "papermill": {
   "default_parameters": {},
   "duration": 6.627332,
   "end_time": "2025-01-13T23:53:24.936566",
   "environment_variables": {},
   "exception": null,
   "input_path": "__notebook__.ipynb",
   "output_path": "__notebook__.ipynb",
   "parameters": {},
   "start_time": "2025-01-13T23:53:18.309234",
   "version": "2.6.0"
  }
 },
 "nbformat": 4,
 "nbformat_minor": 5
}
