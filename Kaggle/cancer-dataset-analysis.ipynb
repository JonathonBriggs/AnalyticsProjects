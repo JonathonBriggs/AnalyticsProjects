{
 "cells": [
  {
   "cell_type": "markdown",
   "id": "df59aca9",
   "metadata": {
    "papermill": {
     "duration": 0.004423,
     "end_time": "2025-01-13T19:51:20.404228",
     "exception": false,
     "start_time": "2025-01-13T19:51:20.399805",
     "status": "completed"
    },
    "tags": []
   },
   "source": [
    "# Initial Data Cleaning and Stats Exploration"
   ]
  },
  {
   "cell_type": "code",
   "execution_count": 1,
   "id": "167b4e8c",
   "metadata": {
    "_cell_guid": "b1076dfc-b9ad-4769-8c92-a6c4dae69d19",
    "_uuid": "8f2839f25d086af736a60e9eeb907d3b93b6e0e5",
    "execution": {
     "iopub.execute_input": "2025-01-13T19:51:20.414377Z",
     "iopub.status.busy": "2025-01-13T19:51:20.414036Z",
     "iopub.status.idle": "2025-01-13T19:51:20.837457Z",
     "shell.execute_reply": "2025-01-13T19:51:20.835898Z"
    },
    "papermill": {
     "duration": 0.430973,
     "end_time": "2025-01-13T19:51:20.839625",
     "exception": false,
     "start_time": "2025-01-13T19:51:20.408652",
     "status": "completed"
    },
    "tags": []
   },
   "outputs": [
    {
     "name": "stdout",
     "output_type": "stream",
     "text": [
      "/kaggle/input/cancer-issue/cancer issue.csv\n"
     ]
    }
   ],
   "source": [
    "# This Python 3 environment comes with many helpful analytics libraries installed\n",
    "# It is defined by the kaggle/python Docker image: https://github.com/kaggle/docker-python\n",
    "# For example, here's several helpful packages to load\n",
    "\n",
    "import numpy as np # linear algebra\n",
    "import pandas as pd # data processing, CSV file I/O (e.g. pd.read_csv)\n",
    "\n",
    "# Input data files are available in the read-only \"../input/\" directory\n",
    "# For example, running this (by clicking run or pressing Shift+Enter) will list all files under the input directory\n",
    "\n",
    "import os\n",
    "for dirname, _, filenames in os.walk('/kaggle/input'):\n",
    "    for filename in filenames:\n",
    "        print(os.path.join(dirname, filename))\n",
    "\n",
    "# You can write up to 20GB to the current directory (/kaggle/working/) that gets preserved as output when you create a version using \"Save & Run All\" \n",
    "# You can also write temporary files to /kaggle/temp/, but they won't be saved outside of the current session"
   ]
  },
  {
   "cell_type": "code",
   "execution_count": 2,
   "id": "152f95d6",
   "metadata": {
    "execution": {
     "iopub.execute_input": "2025-01-13T19:51:20.848941Z",
     "iopub.status.busy": "2025-01-13T19:51:20.848417Z",
     "iopub.status.idle": "2025-01-13T19:51:22.780150Z",
     "shell.execute_reply": "2025-01-13T19:51:22.778939Z"
    },
    "papermill": {
     "duration": 1.938254,
     "end_time": "2025-01-13T19:51:22.782231",
     "exception": false,
     "start_time": "2025-01-13T19:51:20.843977",
     "status": "completed"
    },
    "tags": []
   },
   "outputs": [],
   "source": [
    "#Import graphing libraries\n",
    "import seaborn as sns\n",
    "import matplotlib.pyplot as plt "
   ]
  },
  {
   "cell_type": "code",
   "execution_count": 3,
   "id": "1808d7d1",
   "metadata": {
    "execution": {
     "iopub.execute_input": "2025-01-13T19:51:22.790970Z",
     "iopub.status.busy": "2025-01-13T19:51:22.790434Z",
     "iopub.status.idle": "2025-01-13T19:51:22.950825Z",
     "shell.execute_reply": "2025-01-13T19:51:22.949319Z"
    },
    "papermill": {
     "duration": 0.166731,
     "end_time": "2025-01-13T19:51:22.952712",
     "exception": false,
     "start_time": "2025-01-13T19:51:22.785981",
     "status": "completed"
    },
    "tags": []
   },
   "outputs": [
    {
     "name": "stdout",
     "output_type": "stream",
     "text": [
      "<class 'pandas.core.frame.DataFrame'>\n",
      "Index: 13360 entries, 1 to 17684\n",
      "Data columns (total 16 columns):\n",
      " #   Column             Non-Null Count  Dtype  \n",
      "---  ------             --------------  -----  \n",
      " 0   PatientID          13360 non-null  int64  \n",
      " 1   Age                13360 non-null  int64  \n",
      " 2   Gender             13360 non-null  object \n",
      " 3   Race/Ethnicity     13360 non-null  object \n",
      " 4   BMI                13360 non-null  float64\n",
      " 5   SmokingStatus      13360 non-null  object \n",
      " 6   FamilyHistory      13360 non-null  object \n",
      " 7   CancerType         13360 non-null  object \n",
      " 8   Stage              13360 non-null  object \n",
      " 9   TumorSize          13360 non-null  float64\n",
      " 10  TreatmentType      13360 non-null  object \n",
      " 11  TreatmentResponse  13360 non-null  object \n",
      " 12  SurvivalMonths     13360 non-null  int64  \n",
      " 13  Recurrence         13360 non-null  object \n",
      " 14  GeneticMarker      13360 non-null  object \n",
      " 15  HospitalRegion     13360 non-null  object \n",
      "dtypes: float64(2), int64(3), object(11)\n",
      "memory usage: 1.7+ MB\n",
      "None\n"
     ]
    }
   ],
   "source": [
    "#Create first DataFrame\n",
    "data = pd.read_csv('/kaggle/input/cancer-issue/cancer issue.csv')\n",
    "\n",
    "#Basic Info on variable types, possible nulls for investigation\n",
    "#data.info() #--17,686 records total\n",
    "#data.isna().sum() #--4,326 NaN records in GeneticMarker field\n",
    "cl_data = data.dropna(axis=0, how='any') #-- cleaned data with genetic marker NaN cleaned out\n",
    "print(cl_data.info())"
   ]
  },
  {
   "cell_type": "code",
   "execution_count": 4,
   "id": "6204e05e",
   "metadata": {
    "execution": {
     "iopub.execute_input": "2025-01-13T19:51:22.961268Z",
     "iopub.status.busy": "2025-01-13T19:51:22.960907Z",
     "iopub.status.idle": "2025-01-13T19:51:22.992597Z",
     "shell.execute_reply": "2025-01-13T19:51:22.991429Z"
    },
    "papermill": {
     "duration": 0.038092,
     "end_time": "2025-01-13T19:51:22.994540",
     "exception": false,
     "start_time": "2025-01-13T19:51:22.956448",
     "status": "completed"
    },
    "tags": []
   },
   "outputs": [
    {
     "data": {
      "text/html": [
       "<div>\n",
       "<style scoped>\n",
       "    .dataframe tbody tr th:only-of-type {\n",
       "        vertical-align: middle;\n",
       "    }\n",
       "\n",
       "    .dataframe tbody tr th {\n",
       "        vertical-align: top;\n",
       "    }\n",
       "\n",
       "    .dataframe thead th {\n",
       "        text-align: right;\n",
       "    }\n",
       "</style>\n",
       "<table border=\"1\" class=\"dataframe\">\n",
       "  <thead>\n",
       "    <tr style=\"text-align: right;\">\n",
       "      <th></th>\n",
       "      <th>PatientID</th>\n",
       "      <th>Age</th>\n",
       "      <th>BMI</th>\n",
       "      <th>TumorSize</th>\n",
       "      <th>SurvivalMonths</th>\n",
       "    </tr>\n",
       "  </thead>\n",
       "  <tbody>\n",
       "    <tr>\n",
       "      <th>count</th>\n",
       "      <td>13360.000000</td>\n",
       "      <td>13360.000000</td>\n",
       "      <td>13360.000000</td>\n",
       "      <td>13360.000000</td>\n",
       "      <td>13360.000000</td>\n",
       "    </tr>\n",
       "    <tr>\n",
       "      <th>mean</th>\n",
       "      <td>8839.728518</td>\n",
       "      <td>53.796632</td>\n",
       "      <td>29.226684</td>\n",
       "      <td>5.484581</td>\n",
       "      <td>60.487350</td>\n",
       "    </tr>\n",
       "    <tr>\n",
       "      <th>std</th>\n",
       "      <td>5098.236171</td>\n",
       "      <td>21.092605</td>\n",
       "      <td>6.212583</td>\n",
       "      <td>2.599659</td>\n",
       "      <td>34.829083</td>\n",
       "    </tr>\n",
       "    <tr>\n",
       "      <th>min</th>\n",
       "      <td>2.000000</td>\n",
       "      <td>18.000000</td>\n",
       "      <td>18.500000</td>\n",
       "      <td>1.000000</td>\n",
       "      <td>1.000000</td>\n",
       "    </tr>\n",
       "    <tr>\n",
       "      <th>25%</th>\n",
       "      <td>4421.750000</td>\n",
       "      <td>35.000000</td>\n",
       "      <td>23.900000</td>\n",
       "      <td>3.200000</td>\n",
       "      <td>30.000000</td>\n",
       "    </tr>\n",
       "    <tr>\n",
       "      <th>50%</th>\n",
       "      <td>8867.000000</td>\n",
       "      <td>54.000000</td>\n",
       "      <td>29.200000</td>\n",
       "      <td>5.500000</td>\n",
       "      <td>60.000000</td>\n",
       "    </tr>\n",
       "    <tr>\n",
       "      <th>75%</th>\n",
       "      <td>13231.250000</td>\n",
       "      <td>72.000000</td>\n",
       "      <td>34.600000</td>\n",
       "      <td>7.700000</td>\n",
       "      <td>91.000000</td>\n",
       "    </tr>\n",
       "    <tr>\n",
       "      <th>max</th>\n",
       "      <td>17685.000000</td>\n",
       "      <td>90.000000</td>\n",
       "      <td>40.000000</td>\n",
       "      <td>10.000000</td>\n",
       "      <td>120.000000</td>\n",
       "    </tr>\n",
       "  </tbody>\n",
       "</table>\n",
       "</div>"
      ],
      "text/plain": [
       "          PatientID           Age           BMI     TumorSize  SurvivalMonths\n",
       "count  13360.000000  13360.000000  13360.000000  13360.000000    13360.000000\n",
       "mean    8839.728518     53.796632     29.226684      5.484581       60.487350\n",
       "std     5098.236171     21.092605      6.212583      2.599659       34.829083\n",
       "min        2.000000     18.000000     18.500000      1.000000        1.000000\n",
       "25%     4421.750000     35.000000     23.900000      3.200000       30.000000\n",
       "50%     8867.000000     54.000000     29.200000      5.500000       60.000000\n",
       "75%    13231.250000     72.000000     34.600000      7.700000       91.000000\n",
       "max    17685.000000     90.000000     40.000000     10.000000      120.000000"
      ]
     },
     "execution_count": 4,
     "metadata": {},
     "output_type": "execute_result"
    }
   ],
   "source": [
    "#Stat descriptions for numeric fields after data cleaning\n",
    "cl_data.describe()"
   ]
  },
  {
   "cell_type": "code",
   "execution_count": 5,
   "id": "af4072e9",
   "metadata": {
    "execution": {
     "iopub.execute_input": "2025-01-13T19:51:23.003784Z",
     "iopub.status.busy": "2025-01-13T19:51:23.003372Z",
     "iopub.status.idle": "2025-01-13T19:51:23.010979Z",
     "shell.execute_reply": "2025-01-13T19:51:23.009688Z"
    },
    "papermill": {
     "duration": 0.014184,
     "end_time": "2025-01-13T19:51:23.012732",
     "exception": false,
     "start_time": "2025-01-13T19:51:22.998548",
     "status": "completed"
    },
    "tags": []
   },
   "outputs": [
    {
     "name": "stdout",
     "output_type": "stream",
     "text": [
      "CancerType\n",
      "Leukemia    2269\n",
      "Skin        2264\n",
      "Breast      2236\n",
      "Prostate    2217\n",
      "Lung        2189\n",
      "Colon       2185\n",
      "Name: count, dtype: int64\n"
     ]
    }
   ],
   "source": [
    "print(cl_data['CancerType'].value_counts())"
   ]
  },
  {
   "cell_type": "markdown",
   "id": "e8ae0d09",
   "metadata": {
    "papermill": {
     "duration": 0.003629,
     "end_time": "2025-01-13T19:51:23.020491",
     "exception": false,
     "start_time": "2025-01-13T19:51:23.016862",
     "status": "completed"
    },
    "tags": []
   },
   "source": [
    "# Gender Vs. Cancer Type:\n",
    "* First analysis focuses on exploration if gender is a significant factor in cancer data overall or within analysis of types\n",
    "* Conclusion: None of the cancer types appear to group significantly by gender within this dataset (before or after cleaning)"
   ]
  },
  {
   "cell_type": "code",
   "execution_count": 6,
   "id": "4e0f1e57",
   "metadata": {
    "execution": {
     "iopub.execute_input": "2025-01-13T19:51:23.029639Z",
     "iopub.status.busy": "2025-01-13T19:51:23.029252Z",
     "iopub.status.idle": "2025-01-13T19:51:23.041225Z",
     "shell.execute_reply": "2025-01-13T19:51:23.040175Z"
    },
    "papermill": {
     "duration": 0.018501,
     "end_time": "2025-01-13T19:51:23.042875",
     "exception": false,
     "start_time": "2025-01-13T19:51:23.024374",
     "status": "completed"
    },
    "tags": []
   },
   "outputs": [
    {
     "name": "stdout",
     "output_type": "stream",
     "text": [
      "Gender\n",
      "Female    8930\n",
      "Male      8756\n",
      "Name: count, dtype: int64\n",
      "Gender\n",
      "Female    6743\n",
      "Male      6617\n",
      "Name: count, dtype: int64\n"
     ]
    },
    {
     "data": {
      "text/plain": [
       "'\\nResults:\\nGender\\nFemale    6743\\nMale      6617\\nSpread of 126 records\\n'"
      ]
     },
     "execution_count": 6,
     "metadata": {},
     "output_type": "execute_result"
    }
   ],
   "source": [
    "#First, analyze the raw data (prior to dropna for Genetic Marker)\n",
    "data_gender_split = data['Gender'].value_counts()\n",
    "print(data_gender_split)\n",
    "\n",
    "'''\n",
    "Results:\n",
    "Female    8930\n",
    "Male      8756\n",
    "Spread of 174 records\n",
    "'''\n",
    "\n",
    "#Second, analyze cl_data\n",
    "cl_data_gender_split = cl_data['Gender'].value_counts()\n",
    "print(cl_data_gender_split)\n",
    "'''\n",
    "Results:\n",
    "Gender\n",
    "Female    6743\n",
    "Male      6617\n",
    "Spread of 126 records\n",
    "'''"
   ]
  },
  {
   "cell_type": "code",
   "execution_count": 7,
   "id": "c6087a91",
   "metadata": {
    "execution": {
     "iopub.execute_input": "2025-01-13T19:51:23.052436Z",
     "iopub.status.busy": "2025-01-13T19:51:23.052104Z",
     "iopub.status.idle": "2025-01-13T19:51:23.109566Z",
     "shell.execute_reply": "2025-01-13T19:51:23.108330Z"
    },
    "papermill": {
     "duration": 0.064305,
     "end_time": "2025-01-13T19:51:23.111380",
     "exception": false,
     "start_time": "2025-01-13T19:51:23.047075",
     "status": "completed"
    },
    "tags": []
   },
   "outputs": [
    {
     "data": {
      "text/html": [
       "<div>\n",
       "<style scoped>\n",
       "    .dataframe tbody tr th:only-of-type {\n",
       "        vertical-align: middle;\n",
       "    }\n",
       "\n",
       "    .dataframe tbody tr th {\n",
       "        vertical-align: top;\n",
       "    }\n",
       "\n",
       "    .dataframe thead th {\n",
       "        text-align: right;\n",
       "    }\n",
       "</style>\n",
       "<table border=\"1\" class=\"dataframe\">\n",
       "  <thead>\n",
       "    <tr style=\"text-align: right;\">\n",
       "      <th>CancerType</th>\n",
       "      <th>Breast</th>\n",
       "      <th>Colon</th>\n",
       "      <th>Leukemia</th>\n",
       "      <th>Lung</th>\n",
       "      <th>Prostate</th>\n",
       "      <th>Skin</th>\n",
       "      <th>All</th>\n",
       "    </tr>\n",
       "    <tr>\n",
       "      <th>Gender</th>\n",
       "      <th></th>\n",
       "      <th></th>\n",
       "      <th></th>\n",
       "      <th></th>\n",
       "      <th></th>\n",
       "      <th></th>\n",
       "      <th></th>\n",
       "    </tr>\n",
       "  </thead>\n",
       "  <tbody>\n",
       "    <tr>\n",
       "      <th>Female</th>\n",
       "      <td>1079</td>\n",
       "      <td>1101</td>\n",
       "      <td>1144</td>\n",
       "      <td>1133</td>\n",
       "      <td>1096</td>\n",
       "      <td>1190</td>\n",
       "      <td>6743</td>\n",
       "    </tr>\n",
       "    <tr>\n",
       "      <th>Male</th>\n",
       "      <td>1157</td>\n",
       "      <td>1084</td>\n",
       "      <td>1125</td>\n",
       "      <td>1056</td>\n",
       "      <td>1121</td>\n",
       "      <td>1074</td>\n",
       "      <td>6617</td>\n",
       "    </tr>\n",
       "    <tr>\n",
       "      <th>All</th>\n",
       "      <td>2236</td>\n",
       "      <td>2185</td>\n",
       "      <td>2269</td>\n",
       "      <td>2189</td>\n",
       "      <td>2217</td>\n",
       "      <td>2264</td>\n",
       "      <td>13360</td>\n",
       "    </tr>\n",
       "  </tbody>\n",
       "</table>\n",
       "</div>"
      ],
      "text/plain": [
       "CancerType  Breast  Colon  Leukemia  Lung  Prostate  Skin    All\n",
       "Gender                                                          \n",
       "Female        1079   1101      1144  1133      1096  1190   6743\n",
       "Male          1157   1084      1125  1056      1121  1074   6617\n",
       "All           2236   2185      2269  2189      2217  2264  13360"
      ]
     },
     "execution_count": 7,
     "metadata": {},
     "output_type": "execute_result"
    }
   ],
   "source": [
    "#Analysis of gender vs. cancer type displayed numerically\n",
    "gender_vs_type = pd.crosstab(cl_data['Gender'], cl_data['CancerType'], margins = True)\n",
    "gender_vs_type"
   ]
  },
  {
   "cell_type": "code",
   "execution_count": 8,
   "id": "4eba7b02",
   "metadata": {
    "execution": {
     "iopub.execute_input": "2025-01-13T19:51:23.121084Z",
     "iopub.status.busy": "2025-01-13T19:51:23.120715Z",
     "iopub.status.idle": "2025-01-13T19:51:23.163626Z",
     "shell.execute_reply": "2025-01-13T19:51:23.162585Z"
    },
    "papermill": {
     "duration": 0.049821,
     "end_time": "2025-01-13T19:51:23.165518",
     "exception": false,
     "start_time": "2025-01-13T19:51:23.115697",
     "status": "completed"
    },
    "tags": []
   },
   "outputs": [
    {
     "data": {
      "text/html": [
       "<div>\n",
       "<style scoped>\n",
       "    .dataframe tbody tr th:only-of-type {\n",
       "        vertical-align: middle;\n",
       "    }\n",
       "\n",
       "    .dataframe tbody tr th {\n",
       "        vertical-align: top;\n",
       "    }\n",
       "\n",
       "    .dataframe thead th {\n",
       "        text-align: right;\n",
       "    }\n",
       "</style>\n",
       "<table border=\"1\" class=\"dataframe\">\n",
       "  <thead>\n",
       "    <tr style=\"text-align: right;\">\n",
       "      <th>CancerType</th>\n",
       "      <th>Breast</th>\n",
       "      <th>Colon</th>\n",
       "      <th>Leukemia</th>\n",
       "      <th>Lung</th>\n",
       "      <th>Prostate</th>\n",
       "      <th>Skin</th>\n",
       "      <th>All</th>\n",
       "    </tr>\n",
       "    <tr>\n",
       "      <th>Gender</th>\n",
       "      <th></th>\n",
       "      <th></th>\n",
       "      <th></th>\n",
       "      <th></th>\n",
       "      <th></th>\n",
       "      <th></th>\n",
       "      <th></th>\n",
       "    </tr>\n",
       "  </thead>\n",
       "  <tbody>\n",
       "    <tr>\n",
       "      <th>Female</th>\n",
       "      <td>48.26%</td>\n",
       "      <td>50.39%</td>\n",
       "      <td>50.42%</td>\n",
       "      <td>51.76%</td>\n",
       "      <td>49.44%</td>\n",
       "      <td>52.56%</td>\n",
       "      <td>50.47%</td>\n",
       "    </tr>\n",
       "    <tr>\n",
       "      <th>Male</th>\n",
       "      <td>51.74%</td>\n",
       "      <td>49.61%</td>\n",
       "      <td>49.58%</td>\n",
       "      <td>48.24%</td>\n",
       "      <td>50.56%</td>\n",
       "      <td>47.44%</td>\n",
       "      <td>49.53%</td>\n",
       "    </tr>\n",
       "  </tbody>\n",
       "</table>\n",
       "</div>"
      ],
      "text/plain": [
       "CancerType  Breast   Colon Leukemia    Lung Prostate    Skin     All\n",
       "Gender                                                              \n",
       "Female      48.26%  50.39%   50.42%  51.76%   49.44%  52.56%  50.47%\n",
       "Male        51.74%  49.61%   49.58%  48.24%   50.56%  47.44%  49.53%"
      ]
     },
     "execution_count": 8,
     "metadata": {},
     "output_type": "execute_result"
    }
   ],
   "source": [
    "#Analysis of gender vs. cancer type displayed in %'s'\n",
    "gender_vs_type_perc = pd.crosstab(cl_data['Gender'], cl_data['CancerType'], normalize='columns', margins = True)*100\n",
    "gender_vs_type_perc = gender_vs_type_perc.round(2).astype(str) + '%'\n",
    "gender_vs_type_perc"
   ]
  },
  {
   "cell_type": "markdown",
   "id": "c0094c83",
   "metadata": {
    "papermill": {
     "duration": 0.00396,
     "end_time": "2025-01-13T19:51:23.173976",
     "exception": false,
     "start_time": "2025-01-13T19:51:23.170016",
     "status": "completed"
    },
    "tags": []
   },
   "source": [
    "# Smoking Vs. Cancer Type:\n",
    "* Next we can check if smoking status shows any effect on cancer type\n",
    "* Smokers and Past Smokers share roughly 1/3 of the entries each (2/3 total) vs. Non Smokers\n",
    "* Data for Smokers and Past Smokers was combined to show overall % effect from smoking\n",
    "* Conclusion: Smoking (past or current) is significantly represented vs. Non Smokers in this dataset"
   ]
  },
  {
   "cell_type": "code",
   "execution_count": 9,
   "id": "32e2e647",
   "metadata": {
    "execution": {
     "iopub.execute_input": "2025-01-13T19:51:23.183880Z",
     "iopub.status.busy": "2025-01-13T19:51:23.183467Z",
     "iopub.status.idle": "2025-01-13T19:51:23.223990Z",
     "shell.execute_reply": "2025-01-13T19:51:23.222657Z"
    },
    "papermill": {
     "duration": 0.047657,
     "end_time": "2025-01-13T19:51:23.225807",
     "exception": false,
     "start_time": "2025-01-13T19:51:23.178150",
     "status": "completed"
    },
    "tags": []
   },
   "outputs": [
    {
     "data": {
      "text/html": [
       "<div>\n",
       "<style scoped>\n",
       "    .dataframe tbody tr th:only-of-type {\n",
       "        vertical-align: middle;\n",
       "    }\n",
       "\n",
       "    .dataframe tbody tr th {\n",
       "        vertical-align: top;\n",
       "    }\n",
       "\n",
       "    .dataframe thead th {\n",
       "        text-align: right;\n",
       "    }\n",
       "</style>\n",
       "<table border=\"1\" class=\"dataframe\">\n",
       "  <thead>\n",
       "    <tr style=\"text-align: right;\">\n",
       "      <th>CancerType</th>\n",
       "      <th>Breast</th>\n",
       "      <th>Colon</th>\n",
       "      <th>Leukemia</th>\n",
       "      <th>Lung</th>\n",
       "      <th>Prostate</th>\n",
       "      <th>Skin</th>\n",
       "      <th>All</th>\n",
       "    </tr>\n",
       "    <tr>\n",
       "      <th>SmokingStatus</th>\n",
       "      <th></th>\n",
       "      <th></th>\n",
       "      <th></th>\n",
       "      <th></th>\n",
       "      <th></th>\n",
       "      <th></th>\n",
       "      <th></th>\n",
       "    </tr>\n",
       "  </thead>\n",
       "  <tbody>\n",
       "    <tr>\n",
       "      <th>Former Smoker</th>\n",
       "      <td>751</td>\n",
       "      <td>763</td>\n",
       "      <td>779</td>\n",
       "      <td>713</td>\n",
       "      <td>725</td>\n",
       "      <td>764</td>\n",
       "      <td>4495</td>\n",
       "    </tr>\n",
       "    <tr>\n",
       "      <th>Non-Smoker</th>\n",
       "      <td>771</td>\n",
       "      <td>723</td>\n",
       "      <td>766</td>\n",
       "      <td>740</td>\n",
       "      <td>748</td>\n",
       "      <td>742</td>\n",
       "      <td>4490</td>\n",
       "    </tr>\n",
       "    <tr>\n",
       "      <th>Smoker</th>\n",
       "      <td>714</td>\n",
       "      <td>699</td>\n",
       "      <td>724</td>\n",
       "      <td>736</td>\n",
       "      <td>744</td>\n",
       "      <td>758</td>\n",
       "      <td>4375</td>\n",
       "    </tr>\n",
       "    <tr>\n",
       "      <th>All</th>\n",
       "      <td>2236</td>\n",
       "      <td>2185</td>\n",
       "      <td>2269</td>\n",
       "      <td>2189</td>\n",
       "      <td>2217</td>\n",
       "      <td>2264</td>\n",
       "      <td>13360</td>\n",
       "    </tr>\n",
       "  </tbody>\n",
       "</table>\n",
       "</div>"
      ],
      "text/plain": [
       "CancerType     Breast  Colon  Leukemia  Lung  Prostate  Skin    All\n",
       "SmokingStatus                                                      \n",
       "Former Smoker     751    763       779   713       725   764   4495\n",
       "Non-Smoker        771    723       766   740       748   742   4490\n",
       "Smoker            714    699       724   736       744   758   4375\n",
       "All              2236   2185      2269  2189      2217  2264  13360"
      ]
     },
     "execution_count": 9,
     "metadata": {},
     "output_type": "execute_result"
    }
   ],
   "source": [
    "#Analysis of smoking status vs. cancer type\n",
    "smoke_vs_type = pd.crosstab(cl_data['SmokingStatus'], cl_data['CancerType'], margins = True)\n",
    "smoke_vs_type"
   ]
  },
  {
   "cell_type": "code",
   "execution_count": 10,
   "id": "e2ffeae7",
   "metadata": {
    "execution": {
     "iopub.execute_input": "2025-01-13T19:51:23.236157Z",
     "iopub.status.busy": "2025-01-13T19:51:23.235822Z",
     "iopub.status.idle": "2025-01-13T19:51:23.355072Z",
     "shell.execute_reply": "2025-01-13T19:51:23.353833Z"
    },
    "papermill": {
     "duration": 0.126542,
     "end_time": "2025-01-13T19:51:23.356981",
     "exception": false,
     "start_time": "2025-01-13T19:51:23.230439",
     "status": "completed"
    },
    "tags": []
   },
   "outputs": [
    {
     "data": {
      "text/html": [
       "<div>\n",
       "<style scoped>\n",
       "    .dataframe tbody tr th:only-of-type {\n",
       "        vertical-align: middle;\n",
       "    }\n",
       "\n",
       "    .dataframe tbody tr th {\n",
       "        vertical-align: top;\n",
       "    }\n",
       "\n",
       "    .dataframe thead th {\n",
       "        text-align: right;\n",
       "    }\n",
       "</style>\n",
       "<table border=\"1\" class=\"dataframe\">\n",
       "  <thead>\n",
       "    <tr style=\"text-align: right;\">\n",
       "      <th>CancerType</th>\n",
       "      <th>Breast</th>\n",
       "      <th>Colon</th>\n",
       "      <th>Leukemia</th>\n",
       "      <th>Lung</th>\n",
       "      <th>Prostate</th>\n",
       "      <th>Skin</th>\n",
       "      <th>All</th>\n",
       "    </tr>\n",
       "    <tr>\n",
       "      <th>Smoke_Comp</th>\n",
       "      <th></th>\n",
       "      <th></th>\n",
       "      <th></th>\n",
       "      <th></th>\n",
       "      <th></th>\n",
       "      <th></th>\n",
       "      <th></th>\n",
       "    </tr>\n",
       "  </thead>\n",
       "  <tbody>\n",
       "    <tr>\n",
       "      <th>Non-Smoker</th>\n",
       "      <td>771</td>\n",
       "      <td>723</td>\n",
       "      <td>766</td>\n",
       "      <td>740</td>\n",
       "      <td>748</td>\n",
       "      <td>742</td>\n",
       "      <td>4490</td>\n",
       "    </tr>\n",
       "    <tr>\n",
       "      <th>Smoker</th>\n",
       "      <td>1465</td>\n",
       "      <td>1462</td>\n",
       "      <td>1503</td>\n",
       "      <td>1449</td>\n",
       "      <td>1469</td>\n",
       "      <td>1522</td>\n",
       "      <td>8870</td>\n",
       "    </tr>\n",
       "    <tr>\n",
       "      <th>All</th>\n",
       "      <td>2236</td>\n",
       "      <td>2185</td>\n",
       "      <td>2269</td>\n",
       "      <td>2189</td>\n",
       "      <td>2217</td>\n",
       "      <td>2264</td>\n",
       "      <td>13360</td>\n",
       "    </tr>\n",
       "  </tbody>\n",
       "</table>\n",
       "</div>"
      ],
      "text/plain": [
       "CancerType  Breast  Colon  Leukemia  Lung  Prostate  Skin    All\n",
       "Smoke_Comp                                                      \n",
       "Non-Smoker     771    723       766   740       748   742   4490\n",
       "Smoker        1465   1462      1503  1449      1469  1522   8870\n",
       "All           2236   2185      2269  2189      2217  2264  13360"
      ]
     },
     "execution_count": 10,
     "metadata": {},
     "output_type": "execute_result"
    }
   ],
   "source": [
    "#Since smoking and former smoking seem to represent a larger margin, we can quickly combine the categories with a lambda function\n",
    "#Note: I had to explicitly create cl_data as a copy here since the lambda function was generating a SettingWithCopyWarning otherwise\n",
    "cl_data = cl_data.copy()\n",
    "cl_data['Smoke_Comp'] = cl_data.apply(lambda x: 'Smoker' if x['SmokingStatus'] in ['Former Smoker', 'Smoker'] else 'Non-Smoker', axis=1)\n",
    "smoke_vs_type_fix = pd.crosstab(cl_data['Smoke_Comp'], cl_data['CancerType'], margins = True)\n",
    "smoke_vs_type_fix"
   ]
  },
  {
   "cell_type": "code",
   "execution_count": 11,
   "id": "8eafc33d",
   "metadata": {
    "execution": {
     "iopub.execute_input": "2025-01-13T19:51:23.367678Z",
     "iopub.status.busy": "2025-01-13T19:51:23.367332Z",
     "iopub.status.idle": "2025-01-13T19:51:23.409133Z",
     "shell.execute_reply": "2025-01-13T19:51:23.408044Z"
    },
    "papermill": {
     "duration": 0.049153,
     "end_time": "2025-01-13T19:51:23.410928",
     "exception": false,
     "start_time": "2025-01-13T19:51:23.361775",
     "status": "completed"
    },
    "tags": []
   },
   "outputs": [
    {
     "data": {
      "text/html": [
       "<div>\n",
       "<style scoped>\n",
       "    .dataframe tbody tr th:only-of-type {\n",
       "        vertical-align: middle;\n",
       "    }\n",
       "\n",
       "    .dataframe tbody tr th {\n",
       "        vertical-align: top;\n",
       "    }\n",
       "\n",
       "    .dataframe thead th {\n",
       "        text-align: right;\n",
       "    }\n",
       "</style>\n",
       "<table border=\"1\" class=\"dataframe\">\n",
       "  <thead>\n",
       "    <tr style=\"text-align: right;\">\n",
       "      <th>CancerType</th>\n",
       "      <th>Breast</th>\n",
       "      <th>Colon</th>\n",
       "      <th>Leukemia</th>\n",
       "      <th>Lung</th>\n",
       "      <th>Prostate</th>\n",
       "      <th>Skin</th>\n",
       "      <th>All</th>\n",
       "    </tr>\n",
       "    <tr>\n",
       "      <th>Smoke_Comp</th>\n",
       "      <th></th>\n",
       "      <th></th>\n",
       "      <th></th>\n",
       "      <th></th>\n",
       "      <th></th>\n",
       "      <th></th>\n",
       "      <th></th>\n",
       "    </tr>\n",
       "  </thead>\n",
       "  <tbody>\n",
       "    <tr>\n",
       "      <th>Non-Smoker</th>\n",
       "      <td>34.0%</td>\n",
       "      <td>33.0%</td>\n",
       "      <td>34.0%</td>\n",
       "      <td>34.0%</td>\n",
       "      <td>34.0%</td>\n",
       "      <td>33.0%</td>\n",
       "      <td>34.0%</td>\n",
       "    </tr>\n",
       "    <tr>\n",
       "      <th>Smoker</th>\n",
       "      <td>66.0%</td>\n",
       "      <td>67.0%</td>\n",
       "      <td>66.0%</td>\n",
       "      <td>66.0%</td>\n",
       "      <td>66.0%</td>\n",
       "      <td>67.0%</td>\n",
       "      <td>66.0%</td>\n",
       "    </tr>\n",
       "  </tbody>\n",
       "</table>\n",
       "</div>"
      ],
      "text/plain": [
       "CancerType Breast  Colon Leukemia   Lung Prostate   Skin    All\n",
       "Smoke_Comp                                                     \n",
       "Non-Smoker  34.0%  33.0%    34.0%  34.0%    34.0%  33.0%  34.0%\n",
       "Smoker      66.0%  67.0%    66.0%  66.0%    66.0%  67.0%  66.0%"
      ]
     },
     "execution_count": 11,
     "metadata": {},
     "output_type": "execute_result"
    }
   ],
   "source": [
    "#There is a clear bias toward smokers and past smokers for cancer types\n",
    "smoke_vs_type_fix_perc = pd.crosstab(cl_data['Smoke_Comp'], cl_data['CancerType'], margins = True, normalize='columns')*100\n",
    "smoke_vs_type_fix_perc = smoke_vs_type_fix_perc.round(0).astype(str)+'%'\n",
    "smoke_vs_type_fix_perc"
   ]
  }
 ],
 "metadata": {
  "kaggle": {
   "accelerator": "none",
   "dataSources": [
    {
     "datasetId": 6463148,
     "sourceId": 10442055,
     "sourceType": "datasetVersion"
    }
   ],
   "dockerImageVersionId": 30822,
   "isGpuEnabled": false,
   "isInternetEnabled": true,
   "language": "python",
   "sourceType": "notebook"
  },
  "kernelspec": {
   "display_name": "Python 3",
   "language": "python",
   "name": "python3"
  },
  "language_info": {
   "codemirror_mode": {
    "name": "ipython",
    "version": 3
   },
   "file_extension": ".py",
   "mimetype": "text/x-python",
   "name": "python",
   "nbconvert_exporter": "python",
   "pygments_lexer": "ipython3",
   "version": "3.10.12"
  },
  "papermill": {
   "default_parameters": {},
   "duration": 6.114291,
   "end_time": "2025-01-13T19:51:24.037408",
   "environment_variables": {},
   "exception": null,
   "input_path": "__notebook__.ipynb",
   "output_path": "__notebook__.ipynb",
   "parameters": {},
   "start_time": "2025-01-13T19:51:17.923117",
   "version": "2.6.0"
  }
 },
 "nbformat": 4,
 "nbformat_minor": 5
}
