{
 "cells": [
  {
   "cell_type": "code",
   "execution_count": 1,
   "id": "e127a7ce",
   "metadata": {
    "_cell_guid": "b1076dfc-b9ad-4769-8c92-a6c4dae69d19",
    "_uuid": "8f2839f25d086af736a60e9eeb907d3b93b6e0e5",
    "execution": {
     "iopub.execute_input": "2025-01-13T19:02:33.806644Z",
     "iopub.status.busy": "2025-01-13T19:02:33.806252Z",
     "iopub.status.idle": "2025-01-13T19:02:34.698472Z",
     "shell.execute_reply": "2025-01-13T19:02:34.696909Z"
    },
    "papermill": {
     "duration": 0.898244,
     "end_time": "2025-01-13T19:02:34.700784",
     "exception": false,
     "start_time": "2025-01-13T19:02:33.802540",
     "status": "completed"
    },
    "tags": []
   },
   "outputs": [
    {
     "name": "stdout",
     "output_type": "stream",
     "text": [
      "/kaggle/input/cancer-issue/cancer issue.csv\n"
     ]
    }
   ],
   "source": [
    "# This Python 3 environment comes with many helpful analytics libraries installed\n",
    "# It is defined by the kaggle/python Docker image: https://github.com/kaggle/docker-python\n",
    "# For example, here's several helpful packages to load\n",
    "\n",
    "import numpy as np # linear algebra\n",
    "import pandas as pd # data processing, CSV file I/O (e.g. pd.read_csv)\n",
    "\n",
    "# Input data files are available in the read-only \"../input/\" directory\n",
    "# For example, running this (by clicking run or pressing Shift+Enter) will list all files under the input directory\n",
    "\n",
    "import os\n",
    "for dirname, _, filenames in os.walk('/kaggle/input'):\n",
    "    for filename in filenames:\n",
    "        print(os.path.join(dirname, filename))\n",
    "\n",
    "# You can write up to 20GB to the current directory (/kaggle/working/) that gets preserved as output when you create a version using \"Save & Run All\" \n",
    "# You can also write temporary files to /kaggle/temp/, but they won't be saved outside of the current session"
   ]
  },
  {
   "cell_type": "code",
   "execution_count": 2,
   "id": "1b8050ad",
   "metadata": {
    "execution": {
     "iopub.execute_input": "2025-01-13T19:02:34.707410Z",
     "iopub.status.busy": "2025-01-13T19:02:34.706888Z",
     "iopub.status.idle": "2025-01-13T19:02:34.832494Z",
     "shell.execute_reply": "2025-01-13T19:02:34.831239Z"
    },
    "papermill": {
     "duration": 0.130621,
     "end_time": "2025-01-13T19:02:34.834434",
     "exception": false,
     "start_time": "2025-01-13T19:02:34.703813",
     "status": "completed"
    },
    "tags": []
   },
   "outputs": [
    {
     "name": "stdout",
     "output_type": "stream",
     "text": [
      "<class 'pandas.core.frame.DataFrame'>\n",
      "Index: 13360 entries, 1 to 17684\n",
      "Data columns (total 16 columns):\n",
      " #   Column             Non-Null Count  Dtype  \n",
      "---  ------             --------------  -----  \n",
      " 0   PatientID          13360 non-null  int64  \n",
      " 1   Age                13360 non-null  int64  \n",
      " 2   Gender             13360 non-null  object \n",
      " 3   Race/Ethnicity     13360 non-null  object \n",
      " 4   BMI                13360 non-null  float64\n",
      " 5   SmokingStatus      13360 non-null  object \n",
      " 6   FamilyHistory      13360 non-null  object \n",
      " 7   CancerType         13360 non-null  object \n",
      " 8   Stage              13360 non-null  object \n",
      " 9   TumorSize          13360 non-null  float64\n",
      " 10  TreatmentType      13360 non-null  object \n",
      " 11  TreatmentResponse  13360 non-null  object \n",
      " 12  SurvivalMonths     13360 non-null  int64  \n",
      " 13  Recurrence         13360 non-null  object \n",
      " 14  GeneticMarker      13360 non-null  object \n",
      " 15  HospitalRegion     13360 non-null  object \n",
      "dtypes: float64(2), int64(3), object(11)\n",
      "memory usage: 1.7+ MB\n",
      "None\n"
     ]
    }
   ],
   "source": [
    "#Create first DataFrame\n",
    "data = pd.read_csv('/kaggle/input/cancer-issue/cancer issue.csv')\n",
    "\n",
    "#Basic Info on variable types, possible nulls for investigation\n",
    "#data.info() #--17,686 records total\n",
    "#data.isna().sum() #--4,326 NaN records in GeneticMarker field\n",
    "cl_data = data.dropna(axis=0, how='any') #-- cleaned data with genetic marker NaN cleaned out\n",
    "print(cl_data.info())"
   ]
  },
  {
   "cell_type": "code",
   "execution_count": 3,
   "id": "6a3c61eb",
   "metadata": {
    "execution": {
     "iopub.execute_input": "2025-01-13T19:02:34.839813Z",
     "iopub.status.busy": "2025-01-13T19:02:34.839399Z",
     "iopub.status.idle": "2025-01-13T19:02:34.875137Z",
     "shell.execute_reply": "2025-01-13T19:02:34.873837Z"
    },
    "papermill": {
     "duration": 0.040524,
     "end_time": "2025-01-13T19:02:34.877061",
     "exception": false,
     "start_time": "2025-01-13T19:02:34.836537",
     "status": "completed"
    },
    "tags": []
   },
   "outputs": [
    {
     "data": {
      "text/html": [
       "<div>\n",
       "<style scoped>\n",
       "    .dataframe tbody tr th:only-of-type {\n",
       "        vertical-align: middle;\n",
       "    }\n",
       "\n",
       "    .dataframe tbody tr th {\n",
       "        vertical-align: top;\n",
       "    }\n",
       "\n",
       "    .dataframe thead th {\n",
       "        text-align: right;\n",
       "    }\n",
       "</style>\n",
       "<table border=\"1\" class=\"dataframe\">\n",
       "  <thead>\n",
       "    <tr style=\"text-align: right;\">\n",
       "      <th></th>\n",
       "      <th>PatientID</th>\n",
       "      <th>Age</th>\n",
       "      <th>BMI</th>\n",
       "      <th>TumorSize</th>\n",
       "      <th>SurvivalMonths</th>\n",
       "    </tr>\n",
       "  </thead>\n",
       "  <tbody>\n",
       "    <tr>\n",
       "      <th>count</th>\n",
       "      <td>17686.000000</td>\n",
       "      <td>17686.000000</td>\n",
       "      <td>17686.000000</td>\n",
       "      <td>17686.000000</td>\n",
       "      <td>17686.000000</td>\n",
       "    </tr>\n",
       "    <tr>\n",
       "      <th>mean</th>\n",
       "      <td>8843.500000</td>\n",
       "      <td>53.758396</td>\n",
       "      <td>29.253805</td>\n",
       "      <td>5.499751</td>\n",
       "      <td>60.387821</td>\n",
       "    </tr>\n",
       "    <tr>\n",
       "      <th>std</th>\n",
       "      <td>5105.652766</td>\n",
       "      <td>21.079473</td>\n",
       "      <td>6.203575</td>\n",
       "      <td>2.603107</td>\n",
       "      <td>34.794859</td>\n",
       "    </tr>\n",
       "    <tr>\n",
       "      <th>min</th>\n",
       "      <td>1.000000</td>\n",
       "      <td>18.000000</td>\n",
       "      <td>18.500000</td>\n",
       "      <td>1.000000</td>\n",
       "      <td>1.000000</td>\n",
       "    </tr>\n",
       "    <tr>\n",
       "      <th>25%</th>\n",
       "      <td>4422.250000</td>\n",
       "      <td>35.000000</td>\n",
       "      <td>23.900000</td>\n",
       "      <td>3.300000</td>\n",
       "      <td>30.000000</td>\n",
       "    </tr>\n",
       "    <tr>\n",
       "      <th>50%</th>\n",
       "      <td>8843.500000</td>\n",
       "      <td>54.000000</td>\n",
       "      <td>29.200000</td>\n",
       "      <td>5.500000</td>\n",
       "      <td>60.000000</td>\n",
       "    </tr>\n",
       "    <tr>\n",
       "      <th>75%</th>\n",
       "      <td>13264.750000</td>\n",
       "      <td>72.000000</td>\n",
       "      <td>34.600000</td>\n",
       "      <td>7.700000</td>\n",
       "      <td>91.000000</td>\n",
       "    </tr>\n",
       "    <tr>\n",
       "      <th>max</th>\n",
       "      <td>17686.000000</td>\n",
       "      <td>90.000000</td>\n",
       "      <td>40.000000</td>\n",
       "      <td>10.000000</td>\n",
       "      <td>120.000000</td>\n",
       "    </tr>\n",
       "  </tbody>\n",
       "</table>\n",
       "</div>"
      ],
      "text/plain": [
       "          PatientID           Age           BMI     TumorSize  SurvivalMonths\n",
       "count  17686.000000  17686.000000  17686.000000  17686.000000    17686.000000\n",
       "mean    8843.500000     53.758396     29.253805      5.499751       60.387821\n",
       "std     5105.652766     21.079473      6.203575      2.603107       34.794859\n",
       "min        1.000000     18.000000     18.500000      1.000000        1.000000\n",
       "25%     4422.250000     35.000000     23.900000      3.300000       30.000000\n",
       "50%     8843.500000     54.000000     29.200000      5.500000       60.000000\n",
       "75%    13264.750000     72.000000     34.600000      7.700000       91.000000\n",
       "max    17686.000000     90.000000     40.000000     10.000000      120.000000"
      ]
     },
     "execution_count": 3,
     "metadata": {},
     "output_type": "execute_result"
    }
   ],
   "source": [
    "#Stat descriptions for numeric fields\n",
    "data.describe()"
   ]
  }
 ],
 "metadata": {
  "kaggle": {
   "accelerator": "none",
   "dataSources": [
    {
     "datasetId": 6463148,
     "sourceId": 10442055,
     "sourceType": "datasetVersion"
    }
   ],
   "dockerImageVersionId": 30822,
   "isGpuEnabled": false,
   "isInternetEnabled": true,
   "language": "python",
   "sourceType": "notebook"
  },
  "kernelspec": {
   "display_name": "Python 3",
   "language": "python",
   "name": "python3"
  },
  "language_info": {
   "codemirror_mode": {
    "name": "ipython",
    "version": 3
   },
   "file_extension": ".py",
   "mimetype": "text/x-python",
   "name": "python",
   "nbconvert_exporter": "python",
   "pygments_lexer": "ipython3",
   "version": "3.10.12"
  },
  "papermill": {
   "default_parameters": {},
   "duration": 4.659199,
   "end_time": "2025-01-13T19:02:35.499863",
   "environment_variables": {},
   "exception": null,
   "input_path": "__notebook__.ipynb",
   "output_path": "__notebook__.ipynb",
   "parameters": {},
   "start_time": "2025-01-13T19:02:30.840664",
   "version": "2.6.0"
  }
 },
 "nbformat": 4,
 "nbformat_minor": 5
}
