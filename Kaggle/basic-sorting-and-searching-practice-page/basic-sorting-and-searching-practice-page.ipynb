{
 "cells": [
  {
   "cell_type": "code",
   "execution_count": 1,
   "id": "3f889064",
   "metadata": {
    "_cell_guid": "b1076dfc-b9ad-4769-8c92-a6c4dae69d19",
    "_uuid": "8f2839f25d086af736a60e9eeb907d3b93b6e0e5",
    "execution": {
     "iopub.execute_input": "2025-01-24T18:44:29.589030Z",
     "iopub.status.busy": "2025-01-24T18:44:29.588474Z",
     "iopub.status.idle": "2025-01-24T18:44:30.553729Z",
     "shell.execute_reply": "2025-01-24T18:44:30.552363Z"
    },
    "papermill": {
     "duration": 0.972072,
     "end_time": "2025-01-24T18:44:30.555907",
     "exception": false,
     "start_time": "2025-01-24T18:44:29.583835",
     "status": "completed"
    },
    "tags": []
   },
   "outputs": [],
   "source": [
    "# This Python 3 environment comes with many helpful analytics libraries installed\n",
    "# It is defined by the kaggle/python Docker image: https://github.com/kaggle/docker-python\n",
    "# For example, here's several helpful packages to load\n",
    "\n",
    "import numpy as np # linear algebra\n",
    "import pandas as pd # data processing, CSV file I/O (e.g. pd.read_csv)\n",
    "\n",
    "# Input data files are available in the read-only \"../input/\" directory\n",
    "# For example, running this (by clicking run or pressing Shift+Enter) will list all files under the input directory\n",
    "\n",
    "import os\n",
    "for dirname, _, filenames in os.walk('/kaggle/input'):\n",
    "    for filename in filenames:\n",
    "        print(os.path.join(dirname, filename))\n",
    "\n",
    "# You can write up to 20GB to the current directory (/kaggle/working/) that gets preserved as output when you create a version using \"Save & Run All\" \n",
    "# You can also write temporary files to /kaggle/temp/, but they won't be saved outside of the current session"
   ]
  },
  {
   "cell_type": "markdown",
   "id": "4eedbef6",
   "metadata": {
    "papermill": {
     "duration": 0.002211,
     "end_time": "2025-01-24T18:44:30.561235",
     "exception": false,
     "start_time": "2025-01-24T18:44:30.559024",
     "status": "completed"
    },
    "tags": []
   },
   "source": [
    "# 1. Basic Sorting Methods for Python\n",
    "* Using [Index.dev Article](https://www.index.dev/blog/python-algorithms-developers-should-know) as reference"
   ]
  },
  {
   "cell_type": "markdown",
   "id": "85f95348",
   "metadata": {
    "papermill": {
     "duration": 0.002163,
     "end_time": "2025-01-24T18:44:30.565860",
     "exception": false,
     "start_time": "2025-01-24T18:44:30.563697",
     "status": "completed"
    },
    "tags": []
   },
   "source": [
    "## 1-a. Quick Sort Method"
   ]
  },
  {
   "cell_type": "code",
   "execution_count": 2,
   "id": "9da2c2d7",
   "metadata": {
    "execution": {
     "iopub.execute_input": "2025-01-24T18:44:30.572655Z",
     "iopub.status.busy": "2025-01-24T18:44:30.572008Z",
     "iopub.status.idle": "2025-01-24T18:44:30.580118Z",
     "shell.execute_reply": "2025-01-24T18:44:30.578728Z"
    },
    "papermill": {
     "duration": 0.014053,
     "end_time": "2025-01-24T18:44:30.582331",
     "exception": false,
     "start_time": "2025-01-24T18:44:30.568278",
     "status": "completed"
    },
    "tags": []
   },
   "outputs": [
    {
     "name": "stdout",
     "output_type": "stream",
     "text": [
      "[2, 3, 5, 7, 8, 9, 10, 10]\n"
     ]
    }
   ],
   "source": [
    "def quick_sort(arr):\n",
    "    if len(arr) <=1:\n",
    "        return arr\n",
    "    pivot = arr[len(arr) // 2] #creates the pivot point half way through the array\n",
    "    left = [x for x in arr if x < pivot] #list comprehension for left side slice\n",
    "    middle = [x for x in arr if x == pivot] #list comprehension for middle\n",
    "    right = [x for x in arr if x > pivot] #list comprehension for right side slice\n",
    "    return quick_sort(left) + middle + quick_sort(right)\n",
    "\n",
    "arr = [10, 2, 5, 3, 7, 8, 9, 10]\n",
    "sorted_arr = quick_sort(arr)\n",
    "print(sorted_arr)"
   ]
  },
  {
   "cell_type": "markdown",
   "id": "87137745",
   "metadata": {
    "papermill": {
     "duration": 0.00228,
     "end_time": "2025-01-24T18:44:30.587545",
     "exception": false,
     "start_time": "2025-01-24T18:44:30.585265",
     "status": "completed"
    },
    "tags": []
   },
   "source": [
    "## 1-b. Merge Sort Method"
   ]
  },
  {
   "cell_type": "code",
   "execution_count": 3,
   "id": "80c798b4",
   "metadata": {
    "execution": {
     "iopub.execute_input": "2025-01-24T18:44:30.594037Z",
     "iopub.status.busy": "2025-01-24T18:44:30.593648Z",
     "iopub.status.idle": "2025-01-24T18:44:30.604044Z",
     "shell.execute_reply": "2025-01-24T18:44:30.602845Z"
    },
    "papermill": {
     "duration": 0.015923,
     "end_time": "2025-01-24T18:44:30.605955",
     "exception": false,
     "start_time": "2025-01-24T18:44:30.590032",
     "status": "completed"
    },
    "tags": []
   },
   "outputs": [
    {
     "name": "stdout",
     "output_type": "stream",
     "text": [
      "[1, 2, 4, 4, 6, 9, 10, 12, 13, 22]\n"
     ]
    }
   ],
   "source": [
    "def merge_sort(arr):\n",
    "    if len(arr) <=1:\n",
    "        return arr\n",
    "\n",
    "    #Divide the array into 2 halves\n",
    "    mid = len(arr) // 2\n",
    "    left_half = arr[:mid] #left slice of array, not inclusive of mid\n",
    "    right_half = arr[mid:] #right slice of array, inclusive of mid\n",
    "\n",
    "    #Recursive call to continue breaking down the list to single elements\n",
    "    left_half = merge_sort(left_half)\n",
    "    right_half = merge_sort(right_half)\n",
    "\n",
    "    #Use the merge function to integrate elements into complete array\n",
    "    return merge(left_half, right_half)\n",
    "\n",
    "def merge(left, right):\n",
    "    #i is counter for left array, j is counter for right array\n",
    "    i=j=0 #Setting counters at 0\n",
    "    result=[] #Setting blank result array\n",
    "\n",
    "    while i<len(left) and j<len(right):\n",
    "        if left[i] <= right[j]:\n",
    "            result.append(left[i])\n",
    "            i+=1\n",
    "        else:\n",
    "            result.append(right[j])\n",
    "            j+=1\n",
    "\n",
    "    result.extend(left[i:])\n",
    "    result.extend(right[j:])\n",
    "    \n",
    "    return result\n",
    "\n",
    "arr = [2, 4, 1, 10, 22, 13, 4, 6, 9, 12]\n",
    "sorted_arr = merge_sort(arr)\n",
    "print(sorted_arr)"
   ]
  },
  {
   "cell_type": "markdown",
   "id": "002a5022",
   "metadata": {
    "papermill": {
     "duration": 0.002326,
     "end_time": "2025-01-24T18:44:30.611021",
     "exception": false,
     "start_time": "2025-01-24T18:44:30.608695",
     "status": "completed"
    },
    "tags": []
   },
   "source": [
    "## 1-c. Heap Sort\n",
    "* This video was also incredibly helpful on this topic: [Youtube Link](https://www.youtube.com/watch?v=mgUiY8CVDhU)\n",
    "* The article was not very clear about heapify simulating a sorting of a binary tree, so the video helped in understanding the concept"
   ]
  },
  {
   "cell_type": "code",
   "execution_count": 4,
   "id": "260c46d4",
   "metadata": {
    "execution": {
     "iopub.execute_input": "2025-01-24T18:44:30.617915Z",
     "iopub.status.busy": "2025-01-24T18:44:30.617474Z",
     "iopub.status.idle": "2025-01-24T18:44:30.626772Z",
     "shell.execute_reply": "2025-01-24T18:44:30.625248Z"
    },
    "papermill": {
     "duration": 0.015325,
     "end_time": "2025-01-24T18:44:30.629013",
     "exception": false,
     "start_time": "2025-01-24T18:44:30.613688",
     "status": "completed"
    },
    "tags": []
   },
   "outputs": [
    {
     "name": "stdout",
     "output_type": "stream",
     "text": [
      "[3, 4, 5, 7, 9, 10, 12, 15]\n"
     ]
    }
   ],
   "source": [
    "def heapify(arr, n, i):\n",
    "    #arr is the array input\n",
    "    #n is the 'window of focus'\n",
    "    #i is the 'assumed largest value' at start of function\n",
    "\n",
    "    #This section is addressing a subset of the binary tree\n",
    "    largest = i #i is the root\n",
    "    left = 2*i+1 #left is left child to the root node\n",
    "    right = 2*i+2 #right is right child to the root node\n",
    "\n",
    "    \n",
    "    if left < n and arr[left]>arr[largest]:\n",
    "        largest = left\n",
    "        \n",
    "    if right < n and arr[right] > arr[largest]:\n",
    "        largest = right\n",
    "\n",
    "    #This step seems to recursively run heapify until the largest value is at the root\n",
    "    if largest !=i:\n",
    "        arr[i], arr[largest] = arr[largest], arr[i]\n",
    "        heapify(arr, n, largest)\n",
    "\n",
    "def heap_sort(arr):\n",
    "    n = len(arr)\n",
    "\n",
    "    #Build the maxheap using a 'single pass' of the heapify function through the array (it will manage its own child node recursion inside the heapify function)\n",
    "    #Note!!!!: This is not really a complete max heap, but gets a portion of the way there and also ensures the root node is the max number in the binary tree... which is enough to start the next step and continue recursive adjustments\n",
    "    for i in range(n // 2 - 1, -1, -1):\n",
    "        heapify(arr, n, i)\n",
    "\n",
    "    for i in range(n-1, 0, -1):\n",
    "        arr[i], arr[0] = arr[0], arr[i] #swap max value to end of array (moving pointer i)\n",
    "        heapify(arr, i, 0) #re-heapify the remaining array to push the new max number to position 0\n",
    "\n",
    "arr = [7, 3, 5, 10, 12, 9, 4, 15]\n",
    "heap_sort(arr)\n",
    "print(arr)"
   ]
  }
 ],
 "metadata": {
  "kaggle": {
   "accelerator": "none",
   "dataSources": [],
   "dockerImageVersionId": 30839,
   "isGpuEnabled": false,
   "isInternetEnabled": true,
   "language": "python",
   "sourceType": "notebook"
  },
  "kernelspec": {
   "display_name": "Python 3",
   "language": "python",
   "name": "python3"
  },
  "language_info": {
   "codemirror_mode": {
    "name": "ipython",
    "version": 3
   },
   "file_extension": ".py",
   "mimetype": "text/x-python",
   "name": "python",
   "nbconvert_exporter": "python",
   "pygments_lexer": "ipython3",
   "version": "3.10.12"
  },
  "papermill": {
   "default_parameters": {},
   "duration": 4.685133,
   "end_time": "2025-01-24T18:44:31.353727",
   "environment_variables": {},
   "exception": null,
   "input_path": "__notebook__.ipynb",
   "output_path": "__notebook__.ipynb",
   "parameters": {},
   "start_time": "2025-01-24T18:44:26.668594",
   "version": "2.6.0"
  }
 },
 "nbformat": 4,
 "nbformat_minor": 5
}
