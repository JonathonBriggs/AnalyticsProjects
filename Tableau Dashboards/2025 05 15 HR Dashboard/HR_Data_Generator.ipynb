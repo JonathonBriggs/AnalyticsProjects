{
  "nbformat": 4,
  "nbformat_minor": 0,
  "metadata": {
    "colab": {
      "provenance": []
    },
    "kernelspec": {
      "name": "python3",
      "display_name": "Python 3"
    },
    "language_info": {
      "name": "python"
    }
  },
  "cells": [
    {
      "cell_type": "code",
      "execution_count": null,
      "metadata": {
        "id": "COLWUSqJtCjV"
      },
      "outputs": [],
      "source": [
        "import pandas as pd\n",
        "import numpy as np\n",
        "from faker import Faker\n",
        "from datetime import datetime, timedelta\n",
        "import random"
      ]
    },
    {
      "cell_type": "code",
      "source": [
        "# Initialize Faker\n",
        "fake = Faker('en_US')\n",
        "Faker.seed(42)\n",
        "np.random.seed(42)\n",
        "random.seed(42)"
      ],
      "metadata": {
        "id": "UIP3kOO3tIsO"
      },
      "execution_count": null,
      "outputs": []
    },
    {
      "cell_type": "code",
      "source": [
        "# Configuration\n",
        "num_records = 8950"
      ],
      "metadata": {
        "id": "zdt1AIjFtK9q"
      },
      "execution_count": null,
      "outputs": []
    },
    {
      "cell_type": "code",
      "source": [
        "states_cities = {\n",
        "    'New York': ['New York City', 'Buffalo', 'Rochester'],\n",
        "    'Virginia': ['Virginia Beach', 'Norfolk', 'Richmond'],\n",
        "    'Florida': ['Miami', 'Orlando', 'Tampa'],\n",
        "    'Illinois': ['Chicago', 'Aurora', 'Naperville'],\n",
        "    'Pennsylvania': ['Philadelphia', 'Pittsburgh', 'Allentown'],\n",
        "    'Ohio': ['Columbus', 'Cleveland', 'Cincinnati'],\n",
        "    'North Carolina': ['Charlotte', 'Raleigh', 'Greensboro'],\n",
        "    'Michigan': ['Detroit', 'Grand Rapids', 'Warren']\n",
        "}\n",
        "states = list(states_cities.keys())\n",
        "state_prob = [0.7, 0.02, 0.01, 0.03, 0.05, 0.03, 0.05, 0.11]\n",
        "assigned_states = np.random.choice(states, size=num_records, p=state_prob)\n",
        "assigned_cities = [np.random.choice(states_cities[state]) for state in assigned_states]"
      ],
      "metadata": {
        "id": "5okdD736tNEk"
      },
      "execution_count": null,
      "outputs": []
    },
    {
      "cell_type": "code",
      "source": [
        "# Departments & Jobtitles\n",
        "departments = ['HR', 'IT', 'Sales', 'Marketing', 'Finance', 'Operations', 'Customer Service']\n",
        "departments_prob = [0.02, 0.15, 0.21, 0.08, 0.05, 0.30, 0.19]\n",
        "jobtitles = {\n",
        "    'HR': ['HR Manager', 'HR Coordinator', 'Recruiter', 'HR Assistant'],\n",
        "    'IT': ['IT Manager', 'Software Developer', 'System Administrator', 'IT Support Specialist'],\n",
        "    'Sales': ['Sales Manager', 'Sales Consultant', 'Sales Specialist', 'Sales Representative'],\n",
        "    'Marketing': ['Marketing Manager', 'SEO Specialist', 'Content Creator', 'Marketing Coordinator'],\n",
        "    'Finance': ['Finance Manager', 'Accountant', 'Financial Analyst', 'Accounts Payable Specialist'],\n",
        "    'Operations': ['Operations Manager', 'Operations Analyst', 'Logistics Coordinator', 'Inventory Specialist'],\n",
        "    'Customer Service': ['Customer Service Manager', 'Customer Service Representative', 'Support Specialist', 'Help Desk Technician']\n",
        "}\n",
        "\n",
        "jobtitles_prob = {\n",
        "    'HR': [0.03, 0.3, 0.47, 0.2],  # HR Manager, HR Coordinator, Recruiter, HR Assistant\n",
        "    'IT': [0.02, 0.47, 0.2, 0.31],  # IT Manager, Software Developer, System Administrator, IT Support Specialist\n",
        "    'Sales': [0.03, 0.25, 0.32, 0.4],  # Sales Manager, Sales Consultant, Sales Specialist, Sales Representative\n",
        "    'Marketing': [0.04, 0.25, 0.41, 0.3],  # Marketing Manager, SEO Specialist, Content Creator, Marketing Coordinator\n",
        "    'Finance': [0.03, 0.37, 0.4, 0.2],  # Finance Manager, Accountant, Financial Analyst, Accounts Payable Specialist\n",
        "    'Operations': [0.02, 0.2, 0.4, 0.38],  # Operations Manager, Operations Analyst, Logistics Coordinator, Inventory Specialist\n",
        "    'Customer Service': [0.04, 0.3, 0.38, 0.28]  # Customer Service Manager, Customer Service Representative, Support Specialist, Help Desk Technician\n",
        "}"
      ],
      "metadata": {
        "id": "zcvXFa5TtPal"
      },
      "execution_count": null,
      "outputs": []
    },
    {
      "cell_type": "code",
      "source": [
        "# Educations\n",
        "educations = ['High School', \"Bachelor\", \"Master\", 'PhD']\n",
        "\n",
        "education_mapping = {\n",
        "    'HR Manager': [\"Master\", \"PhD\"],\n",
        "    'HR Coordinator': [\"Bachelor\", \"Master\"],\n",
        "    'Recruiter': [\"High School\", \"Bachelor\"],\n",
        "    'HR Assistant': [\"High School\", \"Bachelor\"],\n",
        "    'IT Manager': [\"PhD\", \"Master\"],\n",
        "    'Software Developer': [\"Bachelor\", \"Master\"],\n",
        "    'System Administrator': [\"Bachelor\", \"Master\"],\n",
        "    'IT Support Specialist': [\"High School\", \"Bachelor\"],\n",
        "    'Sales Manager': [\"Master\",\"PhD\"],\n",
        "    'Sales Consultant': [\"Bachelor\", \"Master\", \"PhD\"],\n",
        "    'Sales Specialist': [\"Bachelor\", \"Master\", \"PhD\"],\n",
        "    'Sales Representative': [\"Bachelor\"],\n",
        "    'Marketing Manager': [\"Bachelor\", \"Master\",\"PhD\"],\n",
        "    'SEO Specialist': [\"High School\", \"Bachelor\"],\n",
        "    'Content Creator': [\"High School\", \"Bachelor\"],\n",
        "    'Marketing Coordinator': [\"Bachelor\"],\n",
        "    'Finance Manager': [\"Master\", \"PhD\"],\n",
        "    'Accountant': [\"Bachelor\"],\n",
        "    'Financial Analyst': [\"Bachelor\", \"Master\", \"PhD\"],\n",
        "    'Accounts Payable Specialist': [\"Bachelor\"],\n",
        "    'Operations Manager': [\"Bachelor\", \"Master\"],\n",
        "    'Operations Analyst': [\"Bachelor\", \"Master\"],\n",
        "    'Logistics Coordinator': [\"Bachelor\"],\n",
        "    'Inventory Specialist': [\"High School\", \"Bachelor\"],\n",
        "    'Customer Service Manager': [\"Bachelor\", \"Master\", \"PhD\"],\n",
        "    'Customer Service Representative': [\"High School\", \"Bachelor\"],\n",
        "    'Support Specialist': [\"High School\", \"Bachelor\"],\n",
        "    'Customer Success Manager': [\"Bachelor\", \"Master\", \"PhD\"],\n",
        "    'Help Desk Technician': [\"High School\", \"Bachelor\"]\n",
        "}"
      ],
      "metadata": {
        "id": "zlzIlDEgtRt1"
      },
      "execution_count": null,
      "outputs": []
    },
    {
      "cell_type": "code",
      "source": [
        "# Hiring Date\n",
        "# Define custom probability weights for each year\n",
        "year_weights = {\n",
        "    2015: 5,   # 15% probability\n",
        "    2016: 8,   # 15% probability\n",
        "    2017: 17,   # 20% probability\n",
        "    2018: 9,  # 15% probability\n",
        "    2019: 10,  # 10% probability\n",
        "    2020: 11,  # 10% probability\n",
        "    2021: 5,  # 8% probability\n",
        "    2022: 12,  # 5% probability\n",
        "    2023: 14,  # 2% probability\n",
        "    2024: 9   # 2% probability\n",
        "}"
      ],
      "metadata": {
        "id": "MpWgkvkQtaOI"
      },
      "execution_count": null,
      "outputs": []
    },
    {
      "cell_type": "code",
      "source": [
        "# Generate a random date based on custom probabilities\n",
        "def generate_custom_date(year_weights):\n",
        "    year = random.choices(list(year_weights.keys()), weights=list(year_weights.values()))[0]\n",
        "    month = random.randint(1, 12)\n",
        "    day = random.randint(1, 28)  # Assuming all months have 28 days for simplicity\n",
        "    return fake.date_time_between(start_date=datetime(year, 1, 1), end_date=datetime(year, 12, 31))"
      ],
      "metadata": {
        "id": "8JHX0AAntd5D"
      },
      "execution_count": null,
      "outputs": []
    },
    {
      "cell_type": "code",
      "source": [
        "def generate_salary(department, job_title):\n",
        "    salary_dict = {\n",
        "            'HR': {\n",
        "                'HR Manager': np.random.randint(60000, 90000),\n",
        "                'HR Coordinator': np.random.randint(50000, 60000),\n",
        "                'Recruiter': np.random.randint(50000, 70000),\n",
        "                'HR Assistant': np.random.randint(50000, 60000)\n",
        "            },\n",
        "            'IT': {\n",
        "                'IT Manager': np.random.randint(80000, 120000),\n",
        "                'Software Developer': np.random.randint(70000, 95000),\n",
        "                'System Administrator': np.random.randint(60000, 90000),\n",
        "                'IT Support Specialist': np.random.randint(50000, 60000)\n",
        "            },\n",
        "            'Sales': {\n",
        "                'Sales Manager': np.random.randint(70000, 110000),\n",
        "                'Sales Consultant': np.random.randint(60000, 90000),\n",
        "                'Sales Specialist': np.random.randint(50000, 80000),\n",
        "                'Sales Representative': np.random.randint(50000, 70000)\n",
        "            },\n",
        "            'Marketing': {\n",
        "                'Marketing Manager': np.random.randint(70000, 100000),\n",
        "                'SEO Specialist': np.random.randint(50000, 80000),\n",
        "                'Content Creator': np.random.randint(50000, 60000),\n",
        "                'Marketing Coordinator': np.random.randint(50000, 70000)\n",
        "            },\n",
        "            'Finance': {\n",
        "                'Finance Manager': np.random.randint(80000, 120000),\n",
        "                'Accountant': np.random.randint(50000, 80000),\n",
        "                'Financial Analyst': np.random.randint(60000, 90000),\n",
        "                'Accounts Payable Specialist': np.random.randint(50000, 60000)\n",
        "            },\n",
        "            'Operations': {\n",
        "                'Operations Manager': np.random.randint(70000, 100000),\n",
        "                'Operations Analyst': np.random.randint(50000, 80000),\n",
        "                'Logistics Coordinator': np.random.randint(50000, 60000),\n",
        "                'Inventory Specialist': np.random.randint(50000, 60000)\n",
        "            },\n",
        "            'Customer Service': {\n",
        "                'Customer Service Manager': np.random.randint(60000, 90000),\n",
        "                'Customer Service Representative': np.random.randint(50000, 60000),\n",
        "                'Support Specialist': np.random.randint(50000, 60000),\n",
        "                'Help Desk Technician': np.random.randint(50000, 80000)\n",
        "            }\n",
        "        }\n",
        "    return salary_dict[department][job_title]"
      ],
      "metadata": {
        "id": "6vk0E79XtgOD"
      },
      "execution_count": null,
      "outputs": []
    },
    {
      "cell_type": "code",
      "source": [
        "# Generate the dataset\n",
        "data = []\n",
        "\n",
        "for _ in range(num_records):\n",
        "    employee_id = f\"00-{random.randint(10000000, 99999999)}\"\n",
        "    first_name = fake.first_name()\n",
        "    last_name = fake.last_name()\n",
        "    gender = np.random.choice(['Female', 'Male'], p=[0.46, 0.54])\n",
        "    state = np.random.choice(states, p=state_prob)\n",
        "    city = np.random.choice(states_cities[state])\n",
        "    hiredate = generate_custom_date(year_weights)\n",
        "      #termdate\n",
        "    department = np.random.choice(departments, p=departments_prob)\n",
        "    job_title  = np.random.choice(jobtitles[department], p=jobtitles_prob[department])\n",
        "    education_level = np.random.choice(education_mapping[job_title])\n",
        "    performance_rating = np.random.choice(['Excellent', 'Good', 'Satisfactory', 'Needs Improvement'], p=[0.12, 0.5, 0.3, 0.08])\n",
        "    overtime = np.random.choice(['Yes', 'No'], p=[0.3, 0.7])\n",
        "    salary = generate_salary(department, job_title)\n",
        "\n",
        "    data.append([\n",
        "        employee_id,\n",
        "        first_name,\n",
        "        last_name,\n",
        "        gender,\n",
        "        state,\n",
        "        city,\n",
        "        hiredate,\n",
        "        department,\n",
        "        job_title,\n",
        "        education_level,\n",
        "        salary,\n",
        "        performance_rating,\n",
        "        overtime\n",
        "    ])\n",
        "\n",
        "## Create DataFrame\n",
        "columns = [\n",
        "     'employee_id',\n",
        "     'first_name',\n",
        "     'last_name',\n",
        "     'gender',\n",
        "     'state',\n",
        "     'city',\n",
        "     'hiredate',\n",
        "     'department',\n",
        "     'job_title',\n",
        "     'education_level',\n",
        "     'salary',\n",
        "     'performance_rating',\n",
        "     'overtime'\n",
        "    ]\n",
        "\n",
        "\n",
        "df = pd.DataFrame(data, columns=columns)"
      ],
      "metadata": {
        "id": "0iUR5XBVtj30"
      },
      "execution_count": null,
      "outputs": []
    },
    {
      "cell_type": "code",
      "source": [
        "# Add Birthdate\n",
        "def generate_birthdate(row):\n",
        "    age_distribution = {\n",
        "        'under_25': 0.11,\n",
        "        '25_34': 0.25,\n",
        "        '35_44': 0.31,\n",
        "        '45_54': 0.24,\n",
        "        'over_55': 0.09\n",
        "    }\n",
        "    age_groups = list(age_distribution.keys())\n",
        "    age_probs = list(age_distribution.values())\n",
        "    age_group = np.random.choice(age_groups, p=age_probs)\n",
        "\n",
        "    if any('Manager' in title for title in row['job_title']):\n",
        "        age = np.random.randint(30, 65)\n",
        "    elif row['education_level'] == 'PhD':\n",
        "        age = np.random.randint(27, 65)\n",
        "    elif age_group == 'under_25':\n",
        "         age = np.random.randint(20, 25)\n",
        "    elif age_group == '25_34':\n",
        "        age = np.random.randint(25, 35)\n",
        "    elif age_group == '35_44':\n",
        "        age = np.random.randint(35, 45)\n",
        "    elif age_group == '45_54':\n",
        "        age = np.random.randint(45, 55)\n",
        "    else:\n",
        "        age = np.random.randint(56, 65)\n",
        "\n",
        "    birthdate = fake.date_of_birth(minimum_age=age, maximum_age=age)\n",
        "    return birthdate"
      ],
      "metadata": {
        "id": "RukhAQJqts1M"
      },
      "execution_count": null,
      "outputs": []
    },
    {
      "cell_type": "code",
      "source": [
        "# Apply the function to generate birthdates\n",
        "df['birthdate'] = df.apply(generate_birthdate, axis=1)\n",
        "\n",
        "# Terminations\n",
        "# Define termination distribution\n",
        "year_weights = {\n",
        "    2015: 5,\n",
        "    2016: 7,\n",
        "    2017: 10,\n",
        "    2018: 12,\n",
        "    2019: 9,\n",
        "    2020: 10,\n",
        "    2021: 20,\n",
        "    2022: 10,\n",
        "    2023: 7,\n",
        "    2024: 10\n",
        "}\n",
        "\n",
        "# Calculate the total number of terminated employees\n",
        "total_employees = num_records\n",
        "termination_percentage = 0.112  # 11.2%\n",
        "total_terminated = int(total_employees * termination_percentage)\n",
        "\n",
        "# Generate termination dates based on distribution\n",
        "termination_dates = []\n",
        "for year, weight in year_weights.items():\n",
        "    num_terminations = int(total_terminated * (weight / 100))\n",
        "    termination_dates.extend([year] * num_terminations)"
      ],
      "metadata": {
        "id": "pIoUYIzuttqC"
      },
      "execution_count": null,
      "outputs": []
    },
    {
      "cell_type": "code",
      "source": [
        "# Randomly shuffle the termination dates\n",
        "random.shuffle(termination_dates)\n",
        "\n",
        "# Assign termination dates to terminated employees\n",
        "terminated_indices = df.index[:total_terminated]\n",
        "for i, year in enumerate(termination_dates[:total_terminated]):\n",
        "    df.at[terminated_indices[i], 'termdate'] = datetime(year, 1, 1) + timedelta(days=random.randint(0, 365))\n",
        "\n",
        "\n",
        "# Assign None to termdate for employees who are not terminated\n",
        "df['termdate'] = df['termdate'].where(df['termdate'].notnull(), None)\n",
        "\n",
        "# Ensure termdate is at least 6 months after hiredat\n",
        "df['termdate'] = df.apply(lambda row: row['hiredate'] + timedelta(days=180) if row['termdate'] and row['termdate'] < row['hiredate'] + timedelta(days=180) else row['termdate'], axis=1)\n",
        "\n",
        "education_multiplier = {\n",
        "    'High School': {'Male': 1.03, 'Female': 1.0},\n",
        "    \"Bachelor\": {'Male': 1.115, 'Female': 1.0},\n",
        "    \"Master\": {'Male': 1.0, 'Female': 1.07},\n",
        "    'PhD': {'Male': 1.0, 'Female': 1.17}\n",
        "}"
      ],
      "metadata": {
        "id": "W_ePgoFCtxld"
      },
      "execution_count": null,
      "outputs": []
    },
    {
      "cell_type": "code",
      "source": [
        "# Function to calculate age from birthdate\n",
        "def calculate_age(birthdate):\n",
        "    today = pd.Timestamp('today')\n",
        "    age = today.year - birthdate.year - ((today.month, today.day) < (birthdate.month, birthdate.day))\n",
        "    return age\n",
        "\n",
        "# Function to calculate the adjusted salary\n",
        "def calculate_adjusted_salary(row):\n",
        "    base_salary = row['salary']\n",
        "    gender = row['gender']\n",
        "    education = row['education_level']\n",
        "    age = calculate_age(row['birthdate'])\n",
        "\n",
        "    # Apply education multiplier\n",
        "    multiplier = education_multiplier.get(education, {}).get(gender, 1.0)\n",
        "    adjusted_salary = base_salary * multiplier\n",
        "\n",
        "    # Apply age increment (between 0.1% and 0.3% per year of age)\n",
        "    age_increment = 1 + np.random.uniform(0.001, 0.003) * age\n",
        "    adjusted_salary *= age_increment\n",
        "\n",
        "    # Ensure the adjusted salary is not lower than the base salary\n",
        "    adjusted_salary = max(adjusted_salary, base_salary)\n",
        "\n",
        "    # Round the adjusted salary to the nearest integer\n",
        "    return round(adjusted_salary)"
      ],
      "metadata": {
        "id": "lUDM3UDQt2XG"
      },
      "execution_count": null,
      "outputs": []
    },
    {
      "cell_type": "code",
      "source": [
        "# Apply the function to the DataFrame\n",
        "df['salary'] = df.apply(calculate_adjusted_salary, axis=1)\n",
        "\n",
        "# Convert 'hiredate' and 'birthdate' to datetime\n",
        "df['hiredate'] = pd.to_datetime(df['hiredate']).dt.date\n",
        "df['birthdate'] = pd.to_datetime(df['birthdate']).dt.date\n",
        "df['termdate'] = pd.to_datetime(df['termdate']).dt.date\n",
        "\n",
        "print(df)"
      ],
      "metadata": {
        "id": "uiOQAbVWt-bq"
      },
      "execution_count": null,
      "outputs": []
    },
    {
      "cell_type": "code",
      "source": [
        "# Save to CSV\n",
        "df.to_csv('HumanResources.csv', index=False)"
      ],
      "metadata": {
        "id": "sjdJa4JduBXn"
      },
      "execution_count": null,
      "outputs": []
    }
  ]
}